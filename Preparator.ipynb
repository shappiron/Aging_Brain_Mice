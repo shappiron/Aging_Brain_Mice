{
 "cells": [
  {
   "cell_type": "markdown",
   "metadata": {},
   "source": [
    "This notebook is for preparation data before an analysis"
   ]
  },
  {
   "cell_type": "code",
   "execution_count": 1,
   "metadata": {},
   "outputs": [],
   "source": [
    "import numpy as np\n",
    "import pandas as pd\n",
    "import cooler\n",
    "from cooltools.api.sample import sample\n",
    "from cooltools.api.insulation import calculate_insulation_score\n",
    "from cooltools.api.eigdecomp import eigs_cis\n",
    "import bioframe\n",
    "\n",
    "from matplotlib import pyplot as plt\n",
    "import seaborn as sns\n",
    "\n",
    "from glob import glob\n",
    "from tqdm.notebook import tqdm\n",
    "from natsort import natsorted\n",
    "from os.path import basename, splitext"
   ]
  },
  {
   "cell_type": "markdown",
   "metadata": {},
   "source": [
    "# Hi-C"
   ]
  },
  {
   "cell_type": "code",
   "execution_count": 10,
   "metadata": {},
   "outputs": [],
   "source": [
    "#paths\n",
    "COOLER_FOLDER_PATH = '/tank/projects/kriukov_chromatin/HIC'\n",
    "DOWNSAMPLED_FOLDER_PATH = '/tank/projects/kriukov_chromatin/HIC/downsampled'\n",
    "INSULATION_PATH = '/tank/projects/kriukov_chromatin/HIC/insulation'\n",
    "COMPARTMENTS_PATH = '/tank/projects/kriukov_chromatin/HIC/compartments'\n",
    "GENOME_FOLDER_PATH = '/tank/projects/kriukov_chromatin/GENOME'\n",
    "\n",
    "RESOLUTION = 50000\n",
    "FILES = natsorted(glob('%s/*.mcool' % COOLER_FOLDER_PATH))\n",
    "#FILES = natsorted(glob('%s/*%s.cool' % (DOWNSAMPLED_FOLDER_PATH, RESOLUTION)))\n",
    "\n",
    "CLRS = [cooler.Cooler(p + \"::/resolutions/%d\" % RESOLUTION) for p in FILES]\n",
    "#CLRS = [cooler.Cooler(p) for p in FILES]\n",
    "LABELS = [os.path.basename(p).split('.')[0] for p in FILES]"
   ]
  },
  {
   "cell_type": "code",
   "execution_count": 12,
   "metadata": {},
   "outputs": [
    {
     "name": "stderr",
     "output_type": "stream",
     "text": [
      "INFO:cooler.create:Creating cooler at \"/tank/projects/kriukov_chromatin/HIC/downsampled/KO_female_2_down_50000.cool::/\"\n",
      "INFO:cooler.create:Writing chroms\n",
      "INFO:cooler.create:Writing bins\n",
      "/home/dkriukov/miniconda3/envs/mice/lib/python3.7/site-packages/cooler/core.py:123: FutureWarning: is_categorical is deprecated and will be removed in a future version.  Use is_categorical_dtype instead\n",
      "  elif is_categorical(data):\n",
      "INFO:cooler.create:Writing pixels\n",
      "INFO:cooler.create:Writing indexes\n",
      "INFO:cooler.create:Writing info\n",
      "INFO:cooler.create:Creating cooler at \"/tank/projects/kriukov_chromatin/HIC/downsampled/KO_female_3_down_50000.cool::/\"\n",
      "INFO:cooler.create:Writing chroms\n",
      "INFO:cooler.create:Writing bins\n",
      "INFO:cooler.create:Writing pixels\n",
      "INFO:cooler.create:Writing indexes\n",
      "INFO:cooler.create:Writing info\n",
      "INFO:cooler.create:Creating cooler at \"/tank/projects/kriukov_chromatin/HIC/downsampled/KO_male_1_down_50000.cool::/\"\n",
      "INFO:cooler.create:Writing chroms\n",
      "INFO:cooler.create:Writing bins\n",
      "INFO:cooler.create:Writing pixels\n",
      "INFO:cooler.create:Writing indexes\n",
      "INFO:cooler.create:Writing info\n",
      "INFO:cooler.create:Creating cooler at \"/tank/projects/kriukov_chromatin/HIC/downsampled/WT_female_2_down_50000.cool::/\"\n",
      "INFO:cooler.create:Writing chroms\n",
      "INFO:cooler.create:Writing bins\n",
      "INFO:cooler.create:Writing pixels\n",
      "INFO:cooler.create:Writing indexes\n",
      "INFO:cooler.create:Writing info\n",
      "INFO:cooler.create:Creating cooler at \"/tank/projects/kriukov_chromatin/HIC/downsampled/WT_female_3_down_50000.cool::/\"\n",
      "INFO:cooler.create:Writing chroms\n",
      "INFO:cooler.create:Writing bins\n",
      "INFO:cooler.create:Writing pixels\n",
      "INFO:cooler.create:Writing indexes\n",
      "INFO:cooler.create:Writing info\n",
      "INFO:cooler.create:Creating cooler at \"/tank/projects/kriukov_chromatin/HIC/downsampled/WT_male_1_down_50000.cool::/\"\n",
      "INFO:cooler.create:Writing chroms\n",
      "INFO:cooler.create:Writing bins\n",
      "INFO:cooler.create:Writing pixels\n",
      "INFO:cooler.create:Writing indexes\n",
      "INFO:cooler.create:Writing info\n",
      "INFO:cooler.create:Creating cooler at \"/tank/projects/kriukov_chromatin/HIC/downsampled/old_female_2_down_50000.cool::/\"\n",
      "INFO:cooler.create:Writing chroms\n",
      "INFO:cooler.create:Writing bins\n",
      "INFO:cooler.create:Writing pixels\n",
      "INFO:cooler.create:Writing indexes\n",
      "INFO:cooler.create:Writing info\n",
      "INFO:cooler.create:Creating cooler at \"/tank/projects/kriukov_chromatin/HIC/downsampled/old_female_3_down_50000.cool::/\"\n",
      "INFO:cooler.create:Writing chroms\n",
      "INFO:cooler.create:Writing bins\n",
      "INFO:cooler.create:Writing pixels\n",
      "INFO:cooler.create:Writing indexes\n",
      "INFO:cooler.create:Writing info\n",
      "INFO:cooler.create:Creating cooler at \"/tank/projects/kriukov_chromatin/HIC/downsampled/old_male_1_down_50000.cool::/\"\n",
      "INFO:cooler.create:Writing chroms\n",
      "INFO:cooler.create:Writing bins\n",
      "INFO:cooler.create:Writing pixels\n",
      "INFO:cooler.create:Writing indexes\n",
      "INFO:cooler.create:Writing info\n",
      "INFO:cooler.create:Creating cooler at \"/tank/projects/kriukov_chromatin/HIC/downsampled/young_female_2_down_50000.cool::/\"\n",
      "INFO:cooler.create:Writing chroms\n",
      "INFO:cooler.create:Writing bins\n",
      "INFO:cooler.create:Writing pixels\n",
      "INFO:cooler.create:Writing indexes\n",
      "INFO:cooler.create:Writing info\n",
      "INFO:cooler.create:Creating cooler at \"/tank/projects/kriukov_chromatin/HIC/downsampled/young_female_3_down_50000.cool::/\"\n",
      "INFO:cooler.create:Writing chroms\n",
      "INFO:cooler.create:Writing bins\n",
      "INFO:cooler.create:Writing pixels\n",
      "INFO:cooler.create:Writing indexes\n",
      "INFO:cooler.create:Writing info\n",
      "INFO:cooler.create:Creating cooler at \"/tank/projects/kriukov_chromatin/HIC/downsampled/young_male_1_down_50000.cool::/\"\n",
      "INFO:cooler.create:Writing chroms\n",
      "INFO:cooler.create:Writing bins\n",
      "INFO:cooler.create:Writing pixels\n",
      "INFO:cooler.create:Writing indexes\n",
      "INFO:cooler.create:Writing info\n"
     ]
    }
   ],
   "source": [
    "#downsampling procedure\n",
    "if not os.path.exists(DOWNSAMPLED_FOLDER_PATH):\n",
    "    os.makedirs(DOWNSAMPLED_FOLDER_PATH)\n",
    "\n",
    "RESOLUTION = 50_000\n",
    "MIN_SUM = min([c.info['sum'] for c in CLRS])\n",
    "for l, c in zip(LABELS, CLRS):\n",
    "    sample(c, '%s/%s_down_%d.cool' % (DOWNSAMPLED_FOLDER_PATH, l, RESOLUTION), \n",
    "                  count=MIN_SUM//1000*1000, \n",
    "                  exact=False,\n",
    "                  chunksize=100_000_000)"
   ]
  },
  {
   "cell_type": "code",
   "execution_count": 15,
   "metadata": {},
   "outputs": [],
   "source": [
    "#insulation scores\n",
    "if not os.path.exists(INSULATION_PATH):\n",
    "    os.makedirs(INSULATION_PATH)\n",
    "\n",
    "df = pd.DataFrame()\n",
    "for l, c in zip(LABELS, CLRS):\n",
    "    IS = calculate_insulation_score(c, \n",
    "                                    window_bp=[RESOLUTION * 10], \n",
    "                                    ignore_diags=2, \n",
    "                                    append_raw_scores=False)\n",
    "    df[l] = np.array(IS.filter(regex=(\"log2*\"))).squeeze()\n",
    "\n",
    "\n",
    "##additional masking around NaN\n",
    "binstatus = pd.DataFrame({basename(c.filename):c.bins()[:]['weight'] for c in CLRS})\n",
    "\n",
    "k = 11 #left and right around nan will be nan to avoid `edge effect`\n",
    "N = df.shape[0]\n",
    "nanids = binstatus[binstatus.isna().any(1)].index.tolist()\n",
    "for i in nanids:\n",
    "    l = i - k if i - k >=0 else 0\n",
    "    r = i + k if i + k < N else N\n",
    "    df.iloc[l:r] = np.nan\n",
    "\n",
    "#postprocessing\n",
    "IS_info = IS[['chrom', 'start', 'end']].reset_index()\n",
    "IS_info['index'] = IS_info['index'].apply(str\n",
    "                                         )\n",
    "df = df.reset_index()\n",
    "df['index'] = df['index'].apply(str)\n",
    "df = df.merge(IS_info, on='index')\n",
    "df.to_csv('%s/IS_%s.csv' % (INSULATION_PATH, RESOLUTION))"
   ]
  },
  {
   "cell_type": "code",
   "execution_count": 18,
   "metadata": {},
   "outputs": [],
   "source": [
    "#compartments\n",
    "if not os.path.exists(COMPARTMENTS_PATH):\n",
    "    os.makedirs(COMPARTMENTS_PATH)\n",
    "\n",
    "mm10 = bioframe.fetch_chromsizes('mm10')\n",
    "chromsizes = bioframe.fetch_chromsizes('mm10')\n",
    "chromosomes = list(chromsizes.index)"
   ]
  },
  {
   "cell_type": "code",
   "execution_count": 19,
   "metadata": {},
   "outputs": [],
   "source": [
    "bins = cooler.binnify(mm10, binsize=RESOLUTION)\n",
    "fasta_records = bioframe.load_fasta('%s/GCF_000001635.27_GRCm39_genomic.fna' % GENOME_FOLDER_PATH)\n",
    "\n",
    "###CONVERT REFSEQ to CHROMNAMES\n",
    "fasta_annot = pd.read_csv('%s/GCF_000001635.27_GRCm39_assembly_report.txt' % GENOME_FOLDER_PATH, sep='\\t', skiprows=28)\n",
    "fasta_annot = fasta_annot[fasta_annot['Sequence-Role']=='assembled-molecule']\n",
    "fasta_keys = fasta_annot[['Assigned-Molecule', 'RefSeq-Accn']].set_index('RefSeq-Accn')\n",
    "filt_keys = fasta_keys.loc[list(set(list(fasta_records.keys())).intersection(fasta_keys.index))].to_dict()\n",
    "new_dict = {}\n",
    "for key, item in fasta_records.items():\n",
    "    if key in filt_keys['Assigned-Molecule'].keys():\n",
    "        nk = 'chr' + filt_keys['Assigned-Molecule'][key]\n",
    "        nk = 'chrM' if nk == 'chrMT' else nk\n",
    "        new_dict[nk] = item\n",
    "        \n",
    "gc = bioframe.frac_gc(bins, new_dict)\n",
    "\n",
    "#######\n",
    "bins['GC'] = gc['GC']\n",
    "bins = bins.drop(bins[bins.chrom=='chrM'].index)\n",
    "\n",
    "##additional masking around NaN\n",
    "binstatus = pd.DataFrame({basename(c.filename):c.bins()[:]['weight'] for c in CLRS})\n",
    "mask_indices = binstatus[binstatus.isna().any(1)].index"
   ]
  },
  {
   "cell_type": "code",
   "execution_count": 34,
   "metadata": {},
   "outputs": [],
   "source": [
    "lam = {}\n",
    "eigs = {}\n",
    "\n",
    "for l,c in zip(LABELS, CLRS):\n",
    "    lam[l], eigs[l] = eigs_cis(\n",
    "        c,\n",
    "        bins=bins,\n",
    "        phasing_track_col='GC',\n",
    "        n_eigs=8,\n",
    "        bad_bins=mask_indices,\n",
    "        ignore_diags=2,\n",
    "        sort_metric='var_explained')\n",
    "\n",
    "    # Save text files\n",
    "    lam[l].to_csv(f'{COMPARTMENTS_PATH}/{l}_{RESOLUTION}.cis.lam.txt', sep='\\t')\n",
    "    eigs[l].to_csv(f'{COMPARTMENTS_PATH}/{l}_{RESOLUTION}.cis.vecs.txt', sep='\\t', index=False)"
   ]
  },
  {
   "cell_type": "code",
   "execution_count": 36,
   "metadata": {},
   "outputs": [
    {
     "name": "stdout",
     "output_type": "stream",
     "text": [
      "KO_female_2_50000.cis.lam.txt\told_female_2_50000.cis.lam.txt\n",
      "KO_female_2_50000.cis.vecs.txt\told_female_2_50000.cis.vecs.txt\n",
      "KO_female_3_50000.cis.lam.txt\told_female_3_50000.cis.lam.txt\n",
      "KO_female_3_50000.cis.vecs.txt\told_female_3_50000.cis.vecs.txt\n",
      "KO_male_1_50000.cis.lam.txt\told_male_1_50000.cis.lam.txt\n",
      "KO_male_1_50000.cis.vecs.txt\told_male_1_50000.cis.vecs.txt\n",
      "WT_female_2_50000.cis.lam.txt\tyoung_female_2_50000.cis.lam.txt\n",
      "WT_female_2_50000.cis.vecs.txt\tyoung_female_2_50000.cis.vecs.txt\n",
      "WT_female_3_50000.cis.lam.txt\tyoung_female_3_50000.cis.lam.txt\n",
      "WT_female_3_50000.cis.vecs.txt\tyoung_female_3_50000.cis.vecs.txt\n",
      "WT_male_1_50000.cis.lam.txt\tyoung_male_1_50000.cis.lam.txt\n",
      "WT_male_1_50000.cis.vecs.txt\tyoung_male_1_50000.cis.vecs.txt\n"
     ]
    }
   ],
   "source": [
    "!ls /tank/projects/kriukov_chromatin/HIC/compartments"
   ]
  },
  {
   "cell_type": "markdown",
   "metadata": {},
   "source": [
    "# ATAC-seq"
   ]
  },
  {
   "cell_type": "code",
   "execution_count": null,
   "metadata": {},
   "outputs": [],
   "source": []
  },
  {
   "cell_type": "markdown",
   "metadata": {},
   "source": [
    "# RNA-seq"
   ]
  },
  {
   "cell_type": "markdown",
   "metadata": {},
   "source": [
    "* neural stem cells (NSC), \n",
    "* astrocyte-restricted precursors (ARP),\n",
    "* astrocytes (ASC), \n",
    "* oligodendrocyte precursor cells (OPC), \n",
    "* oligodendrocytes (OLG), \n",
    "* lfactory ensheathing glia (OEG), \n",
    "* neuronal-restricted precursors (NRP), \n",
    "* immature neurons (ImmN), \n",
    "* mature neurons (mNEUR),\n",
    "* neuroendocrine cells (NendC), \n",
    "* ependymocytes (EPC), \n",
    "* hypendymal cells (HypEPC), \n",
    "* tanycytes (TNC), \n",
    "* choroid plexus epithelial cells (CPC), \n",
    "* endothelial cells (EC), \n",
    "* pericytes (PC), \n",
    "* vascular smooth muscle cells (VSMC), \n",
    "* hemoglobin-expressing vascular cells (Hb-VC), \n",
    "* vascular and leptomeningeal cells (VLMC), \n",
    "* arachnoid barrier cells (ABC), \n",
    "* microglia (MG), \n",
    "* monocytes (MNC), \n",
    "* macrophages (MAC), \n",
    "* dendritic cells (DC) \n",
    "* neutrophils (NEUT)"
   ]
  },
  {
   "cell_type": "code",
   "execution_count": 119,
   "metadata": {},
   "outputs": [
    {
     "name": "stderr",
     "output_type": "stream",
     "text": [
      "/home/dkriukov/miniconda3/envs/mice/lib/python3.7/site-packages/IPython/core/interactiveshell.py:3524: FutureWarning: In a future version of pandas all arguments of read_csv except for the argument 'filepath_or_buffer' will be keyword-only\n",
      "  exec(code_obj, self.user_global_ns, self.user_ns)\n"
     ]
    }
   ],
   "source": [
    "rna_list = natsorted(glob('/tank/projects/kriukov_chromatin/RNA/GSE129788/*X.txt'))\n",
    "genes = pd.read_csv(rna_list[0], '\\t').index.tolist()\n",
    "ann = pd.read_csv('/tank/projects/kriukov_chromatin/RNA/GSE129788/GSE129788_Supplementary_meta_data_Cell_Types_Etc.txt', sep='\\t')\n",
    "ann = ann.drop(0)\n",
    "ann['ID'] = ann.NAME.apply(lambda x: x.split('data_')[1])\n",
    "ann['miceID'] = ann.ID.apply(lambda x: x.split('_')[0])\n",
    "ann['ageID'] = ann['animal_type'] + '_' +ann['miceID']\n",
    "ann = ann.set_index('ID')"
   ]
  },
  {
   "cell_type": "code",
   "execution_count": 21,
   "metadata": {},
   "outputs": [
    {
     "data": {
      "text/plain": [
       "OLG_Lin       15463\n",
       "ASC_Lin        7097\n",
       "NEURON_Lin     5773\n",
       "IMMUNE_Lin     4448\n",
       "VASC_Lin       3884\n",
       "EPC_Lin         404\n",
       "Name: cell_classes, dtype: int64"
      ]
     },
     "execution_count": 21,
     "metadata": {},
     "output_type": "execute_result"
    }
   ],
   "source": [
    "ann.cell_classes.value_counts()"
   ]
  },
  {
   "cell_type": "code",
   "execution_count": 121,
   "metadata": {},
   "outputs": [
    {
     "data": {
      "text/html": [
       "<div>\n",
       "<style scoped>\n",
       "    .dataframe tbody tr th:only-of-type {\n",
       "        vertical-align: middle;\n",
       "    }\n",
       "\n",
       "    .dataframe tbody tr th {\n",
       "        vertical-align: top;\n",
       "    }\n",
       "\n",
       "    .dataframe thead th {\n",
       "        text-align: right;\n",
       "    }\n",
       "</style>\n",
       "<table border=\"1\" class=\"dataframe\">\n",
       "  <thead>\n",
       "    <tr style=\"text-align: right;\">\n",
       "      <th></th>\n",
       "      <th>NAME</th>\n",
       "      <th>nGene</th>\n",
       "      <th>nUMI</th>\n",
       "      <th>cluster</th>\n",
       "      <th>animal_type</th>\n",
       "      <th>cell_classes</th>\n",
       "      <th>cell_type_age</th>\n",
       "      <th>miceID</th>\n",
       "      <th>ageID</th>\n",
       "    </tr>\n",
       "    <tr>\n",
       "      <th>ID</th>\n",
       "      <th></th>\n",
       "      <th></th>\n",
       "      <th></th>\n",
       "      <th></th>\n",
       "      <th></th>\n",
       "      <th></th>\n",
       "      <th></th>\n",
       "      <th></th>\n",
       "      <th></th>\n",
       "    </tr>\n",
       "  </thead>\n",
       "  <tbody>\n",
       "    <tr>\n",
       "      <th>6_AAACCTGAGGCCCTTG</th>\n",
       "      <td>Aging_mouse_brain_portal_data_6_AAACCTGAGGCCCTTG</td>\n",
       "      <td>1546</td>\n",
       "      <td>3546</td>\n",
       "      <td>MG</td>\n",
       "      <td>young</td>\n",
       "      <td>IMMUNE_Lin</td>\n",
       "      <td>MG_young</td>\n",
       "      <td>6</td>\n",
       "      <td>young_6</td>\n",
       "    </tr>\n",
       "    <tr>\n",
       "      <th>6_AAACGGGAGAGACGAA</th>\n",
       "      <td>Aging_mouse_brain_portal_data_6_AAACGGGAGAGACGAA</td>\n",
       "      <td>734</td>\n",
       "      <td>1589</td>\n",
       "      <td>MG</td>\n",
       "      <td>young</td>\n",
       "      <td>IMMUNE_Lin</td>\n",
       "      <td>MG_young</td>\n",
       "      <td>6</td>\n",
       "      <td>young_6</td>\n",
       "    </tr>\n",
       "    <tr>\n",
       "      <th>6_AAAGTAGCAACGATCT</th>\n",
       "      <td>Aging_mouse_brain_portal_data_6_AAAGTAGCAACGATCT</td>\n",
       "      <td>456</td>\n",
       "      <td>1129</td>\n",
       "      <td>MG</td>\n",
       "      <td>young</td>\n",
       "      <td>IMMUNE_Lin</td>\n",
       "      <td>MG_young</td>\n",
       "      <td>6</td>\n",
       "      <td>young_6</td>\n",
       "    </tr>\n",
       "    <tr>\n",
       "      <th>6_AACCGCGCAACAACCT</th>\n",
       "      <td>Aging_mouse_brain_portal_data_6_AACCGCGCAACAACCT</td>\n",
       "      <td>1236</td>\n",
       "      <td>2697</td>\n",
       "      <td>MG</td>\n",
       "      <td>young</td>\n",
       "      <td>IMMUNE_Lin</td>\n",
       "      <td>MG_young</td>\n",
       "      <td>6</td>\n",
       "      <td>young_6</td>\n",
       "    </tr>\n",
       "    <tr>\n",
       "      <th>6_AACTCCCAGTACGTAA</th>\n",
       "      <td>Aging_mouse_brain_portal_data_6_AACTCCCAGTACGTAA</td>\n",
       "      <td>622</td>\n",
       "      <td>1115</td>\n",
       "      <td>MG</td>\n",
       "      <td>young</td>\n",
       "      <td>IMMUNE_Lin</td>\n",
       "      <td>MG_young</td>\n",
       "      <td>6</td>\n",
       "      <td>young_6</td>\n",
       "    </tr>\n",
       "  </tbody>\n",
       "</table>\n",
       "</div>"
      ],
      "text/plain": [
       "                                                                NAME nGene  \\\n",
       "ID                                                                           \n",
       "6_AAACCTGAGGCCCTTG  Aging_mouse_brain_portal_data_6_AAACCTGAGGCCCTTG  1546   \n",
       "6_AAACGGGAGAGACGAA  Aging_mouse_brain_portal_data_6_AAACGGGAGAGACGAA   734   \n",
       "6_AAAGTAGCAACGATCT  Aging_mouse_brain_portal_data_6_AAAGTAGCAACGATCT   456   \n",
       "6_AACCGCGCAACAACCT  Aging_mouse_brain_portal_data_6_AACCGCGCAACAACCT  1236   \n",
       "6_AACTCCCAGTACGTAA  Aging_mouse_brain_portal_data_6_AACTCCCAGTACGTAA   622   \n",
       "\n",
       "                    nUMI cluster animal_type cell_classes cell_type_age  \\\n",
       "ID                                                                        \n",
       "6_AAACCTGAGGCCCTTG  3546      MG       young   IMMUNE_Lin      MG_young   \n",
       "6_AAACGGGAGAGACGAA  1589      MG       young   IMMUNE_Lin      MG_young   \n",
       "6_AAAGTAGCAACGATCT  1129      MG       young   IMMUNE_Lin      MG_young   \n",
       "6_AACCGCGCAACAACCT  2697      MG       young   IMMUNE_Lin      MG_young   \n",
       "6_AACTCCCAGTACGTAA  1115      MG       young   IMMUNE_Lin      MG_young   \n",
       "\n",
       "                   miceID    ageID  \n",
       "ID                                  \n",
       "6_AAACCTGAGGCCCTTG      6  young_6  \n",
       "6_AAACGGGAGAGACGAA      6  young_6  \n",
       "6_AAAGTAGCAACGATCT      6  young_6  \n",
       "6_AACCGCGCAACAACCT      6  young_6  \n",
       "6_AACTCCCAGTACGTAA      6  young_6  "
      ]
     },
     "execution_count": 121,
     "metadata": {},
     "output_type": "execute_result"
    }
   ],
   "source": [
    "ann.head()"
   ]
  },
  {
   "cell_type": "code",
   "execution_count": 122,
   "metadata": {},
   "outputs": [
    {
     "name": "stderr",
     "output_type": "stream",
     "text": [
      "/home/dkriukov/miniconda3/envs/mice/lib/python3.7/site-packages/IPython/core/interactiveshell.py:3524: FutureWarning: In a future version of pandas all arguments of read_csv except for the argument 'filepath_or_buffer' will be keyword-only\n",
      "  exec(code_obj, self.user_global_ns, self.user_ns)\n"
     ]
    }
   ],
   "source": [
    "target_type = 'NEURON_Lin'\n",
    "target_ann = ann[ann.cell_classes == target_type]\n",
    "ids = target_ann.index.tolist()\n",
    "rna_count = pd.DataFrame(index=genes)\n",
    "for rna_path in rna_list:\n",
    "    rna = pd.read_csv(rna_path, '\\t')\n",
    "    intsec = rna.columns.intersection(ids)\n",
    "    umi = np.asarray(ann.loc[intsec, 'nUMI']).astype(float)\n",
    "    rna_count = rna_count.merge((np.exp(rna[intsec]) - 1).mul(umi, axis=1) / 10000, \n",
    "                                left_index=True, right_index=True)\n",
    "    "
   ]
  },
  {
   "cell_type": "code",
   "execution_count": 123,
   "metadata": {},
   "outputs": [],
   "source": [
    "df = rna_count.T.copy()"
   ]
  },
  {
   "cell_type": "code",
   "execution_count": 124,
   "metadata": {},
   "outputs": [],
   "source": [
    "#group by age\n",
    "bulk = df.groupby(target_ann.loc[df.index]['ageID'].tolist()).sum()"
   ]
  },
  {
   "cell_type": "code",
   "execution_count": 134,
   "metadata": {},
   "outputs": [],
   "source": [
    "test = bulk.T.copy()"
   ]
  },
  {
   "cell_type": "code",
   "execution_count": 137,
   "metadata": {},
   "outputs": [],
   "source": [
    "test = test.astype(int)"
   ]
  },
  {
   "cell_type": "code",
   "execution_count": 138,
   "metadata": {},
   "outputs": [],
   "source": [
    "test.to_csv('/tank/projects/kriukov_chromatin/RNA/GSE129788/pseudoBulk_counts.csv')"
   ]
  },
  {
   "cell_type": "code",
   "execution_count": 130,
   "metadata": {},
   "outputs": [
    {
     "data": {
      "text/plain": [
       "<matplotlib.axes._subplots.AxesSubplot at 0x7f529b68d0d0>"
      ]
     },
     "execution_count": 130,
     "metadata": {},
     "output_type": "execute_result"
    },
    {
     "data": {
      "image/png": "[encoded data removed]",
      "text/plain": [
       "<Figure size 432x288 with 1 Axes>"
      ]
     },
     "metadata": {
      "needs_background": "light"
     },
     "output_type": "display_data"
    }
   ],
   "source": [
    "np.log(test+1).plot(kind='kde')"
   ]
  },
  {
   "cell_type": "code",
   "execution_count": null,
   "metadata": {},
   "outputs": [],
   "source": []
  }
 ],
 "metadata": {
  "interpreter": {
   "hash": "ff3ee697d6d1b393c90390dee18c2d263a8152e46b5417745a069cb5c408f3aa"
  },
  "kernelspec": {
   "display_name": "Python 3.7.12 64-bit ('mice': conda)",
   "language": "python",
   "name": "python3"
  },
  "language_info": {
   "codemirror_mode": {
    "name": "ipython",
    "version": 3
   },
   "file_extension": ".py",
   "mimetype": "text/x-python",
   "name": "python",
   "nbconvert_exporter": "python",
   "pygments_lexer": "ipython3",
   "version": "3.7.12"
  },
  "orig_nbformat": 4
 },
 "nbformat": 4,
 "nbformat_minor": 2
}
