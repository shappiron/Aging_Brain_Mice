{
 "cells": [
  {
   "cell_type": "markdown",
   "metadata": {},
   "source": [
    "This notebook is for preparation data before an analysis"
   ]
  },
  {
   "cell_type": "code",
   "execution_count": 1,
   "metadata": {
    "ExecuteTime": {
     "end_time": "2022-09-02T15:39:50.966514Z",
     "start_time": "2022-09-02T15:39:49.635524Z"
    }
   },
   "outputs": [],
   "source": [
    "import numpy as np\n",
    "import pandas as pd\n",
    "import cooler\n",
    "from cooltools.api.sample import sample\n",
    "from cooltools.api.insulation import calculate_insulation_score\n",
    "from cooltools.api.eigdecomp import eigs_cis\n",
    "import bioframe\n",
    "\n",
    "from matplotlib import pyplot as plt\n",
    "import seaborn as sns\n",
    "\n",
    "from glob import glob\n",
    "from tqdm.notebook import tqdm\n",
    "from natsort import natsorted\n",
    "from os.path import basename, splitext\n",
    "import os"
   ]
  },
  {
   "cell_type": "markdown",
   "metadata": {},
   "source": [
    "# Hi-C"
   ]
  },
  {
   "cell_type": "code",
   "execution_count": 45,
   "metadata": {
    "ExecuteTime": {
     "end_time": "2022-08-28T12:06:00.235527Z",
     "start_time": "2022-08-28T12:06:00.229864Z"
    }
   },
   "outputs": [],
   "source": [
    "# #paths\n",
    "# COOLER_FOLDER_PATH = '/tank/projects/kriukov_chromatin/HIC/coolers'\n",
    "# DOWNSAMPLED_FOLDER_PATH = '/tank/projects/kriukov_chromatin/HIC/downsampled'\n",
    "# INSULATION_PATH = '/tank/projects/kriukov_chromatin/HIC/insulation'\n",
    "# COMPARTMENTS_PATH = '/tank/projects/kriukov_chromatin/HIC/compartments'\n",
    "# GENOME_FOLDER_PATH = '/tank/projects/kriukov_chromatin/GENOME'\n",
    "\n",
    "# RESOLUTION = 50000\n",
    "# #FILES = natsorted(glob('%s/*.mcool' % COOLER_FOLDER_PATH))\n",
    "# #FILES = natsorted(glob('%s/merged/*%s.cool' % (DOWNSAMPLED_FOLDER_PATH, RESOLUTION)))\n",
    "# FILES = natsorted(glob('%s/nodiags/*%s.cool' % (DOWNSAMPLED_FOLDER_PATH, RESOLUTION)))\n",
    "# #FILES = natsorted(glob('%s/*%s.cool' % (DOWNSAMPLED_FOLDER_PATH, RESOLUTION)))\n",
    "\n",
    "# #CLRS = [cooler.Cooler(p + \"::/resolutions/%d\" % RESOLUTION) for p in FILES]\n",
    "# CLRS = [cooler.Cooler(p) for p in FILES]\n",
    "# LBLS = [os.path.basename(p).split('.')[0] for p in FILES]\n",
    "\n",
    "# print(LBLS, '\\n', [round(c.info['sum']/10**6, 2) for c in CLRS], 'M')"
   ]
  },
  {
   "cell_type": "code",
   "execution_count": 4,
   "metadata": {
    "ExecuteTime": {
     "end_time": "2022-09-02T15:41:30.156353Z",
     "start_time": "2022-09-02T15:41:29.994695Z"
    }
   },
   "outputs": [
    {
     "data": {
      "image/png": "[encoded data removed]",
      "text/plain": [
       "<Figure size 432x288 with 1 Axes>"
      ]
     },
     "metadata": {
      "needs_background": "light"
     },
     "output_type": "display_data"
    }
   ],
   "source": [
    "#paths\n",
    "COOLER_FOLDER_PATH = '/tank/projects/kriukov_chromatin/HIC/coolers'\n",
    "MERGED_COOLER_PATH = '/tank/projects/kriukov_chromatin/HIC/merged_coolers'\n",
    "DOWNSAMPLED_FOLDER_PATH = '/tank/projects/kriukov_chromatin/HIC/downsampled'\n",
    "MERGED_DOWNSAMPLED_FOLDER_PATH = '/tank/projects/kriukov_chromatin/HIC/merged_downsampled'\n",
    "INSULATION_PATH = '/tank/projects/kriukov_chromatin/HIC/insulation'\n",
    "COMPARTMENTS_PATH = '/tank/projects/kriukov_chromatin/HIC/compartments'\n",
    "GENOME_FOLDER_PATH = '/tank/projects/kriukov_chromatin/GENOME'\n",
    "TMP_FOLDER_PATH = '/tank/projects/kriukov_chromatin/HIC/tmp'\n",
    "\n",
    "RESOLUTION = 50000\n",
    "FILES = natsorted(glob('%s/*.mcool' % MERGED_DOWNSAMPLED_FOLDER_PATH))\n",
    "CLRS = [cooler.Cooler(p + \"::/resolutions/%d\" % RESOLUTION) for p in FILES]\n",
    "LBLS = [os.path.basename(p).split('.')[0] for p in FILES]\n",
    "GROUPS = ['adl', 'KO', 'old', 'yng']\n",
    "\n",
    "plt.figure(figsize=(6,4))\n",
    "plt.barh(LBLS, [round(c.info['sum']/10**6, 2) for c in CLRS])\n",
    "plt.ylabel('Millions');"
   ]
  },
  {
   "cell_type": "code",
   "execution_count": 162,
   "metadata": {
    "ExecuteTime": {
     "end_time": "2022-08-28T17:48:19.346680Z",
     "start_time": "2022-08-28T17:47:53.236251Z"
    }
   },
   "outputs": [
    {
     "name": "stdout",
     "output_type": "stream",
     "text": [
      "0.11669494673182117\n",
      "0.11694423755017865\n",
      "0.13905662269494937\n",
      "0.1219983377667271\n"
     ]
    }
   ],
   "source": [
    "for c in CLRS:\n",
    "    pix = c.pixels()[:]\n",
    "    k = pix[(pix['bin1_id'] == pix['bin2_id']) | \n",
    "        ((pix['bin1_id']+1) == pix['bin2_id']) ]['count'].sum() / pix['count'].sum()\n",
    "    print(k)"
   ]
  },
  {
   "cell_type": "markdown",
   "metadata": {
    "heading_collapsed": true
   },
   "source": [
    "## coolers"
   ]
  },
  {
   "cell_type": "code",
   "execution_count": 90,
   "metadata": {
    "ExecuteTime": {
     "end_time": "2022-08-28T12:57:15.598980Z",
     "start_time": "2022-08-28T12:47:43.349617Z"
    },
    "collapsed": true,
    "hidden": true
   },
   "outputs": [
    {
     "name": "stderr",
     "output_type": "stream",
     "text": [
      "INFO:cooler.create:Creating cooler at \"/tank/projects/kriukov_chromatin/HIC/tmp/KO_f_2_10000.cool::/\"\n",
      "INFO:cooler.create:Writing chroms\n",
      "INFO:cooler.create:Writing bins\n",
      "/home/dkriukov/miniconda3/envs/mice/lib/python3.7/site-packages/cooler/core.py:123: FutureWarning: is_categorical is deprecated and will be removed in a future version.  Use is_categorical_dtype instead\n",
      "  elif is_categorical(data):\n",
      "INFO:cooler.create:Writing pixels\n",
      "INFO:cooler.create:Writing indexes\n",
      "INFO:cooler.create:Writing info\n",
      "INFO:cooler.create:Creating cooler at \"/tank/projects/kriukov_chromatin/HIC/tmp/KO_f_3_10000.cool::/\"\n",
      "INFO:cooler.create:Writing chroms\n",
      "INFO:cooler.create:Writing bins\n",
      "INFO:cooler.create:Writing pixels\n",
      "INFO:cooler.create:Writing indexes\n",
      "INFO:cooler.create:Writing info\n",
      "INFO:cooler.create:Creating cooler at \"/tank/projects/kriukov_chromatin/HIC/tmp/KO_m_1_10000.cool::/\"\n",
      "INFO:cooler.create:Writing chroms\n",
      "INFO:cooler.create:Writing bins\n",
      "INFO:cooler.create:Writing pixels\n",
      "INFO:cooler.create:Writing indexes\n",
      "INFO:cooler.create:Writing info\n",
      "INFO:cooler.create:Creating cooler at \"/tank/projects/kriukov_chromatin/HIC/tmp/adl_f_2_10000.cool::/\"\n",
      "INFO:cooler.create:Writing chroms\n",
      "INFO:cooler.create:Writing bins\n",
      "INFO:cooler.create:Writing pixels\n",
      "INFO:cooler.create:Writing indexes\n",
      "INFO:cooler.create:Writing info\n",
      "INFO:cooler.create:Creating cooler at \"/tank/projects/kriukov_chromatin/HIC/tmp/adl_f_3_10000.cool::/\"\n",
      "INFO:cooler.create:Writing chroms\n",
      "INFO:cooler.create:Writing bins\n",
      "INFO:cooler.create:Writing pixels\n",
      "INFO:cooler.create:Writing indexes\n",
      "INFO:cooler.create:Writing info\n",
      "INFO:cooler.create:Creating cooler at \"/tank/projects/kriukov_chromatin/HIC/tmp/adl_m_1_10000.cool::/\"\n",
      "INFO:cooler.create:Writing chroms\n",
      "INFO:cooler.create:Writing bins\n",
      "INFO:cooler.create:Writing pixels\n",
      "INFO:cooler.create:Writing indexes\n",
      "INFO:cooler.create:Writing info\n",
      "INFO:cooler.create:Creating cooler at \"/tank/projects/kriukov_chromatin/HIC/tmp/old_f_2_10000.cool::/\"\n",
      "INFO:cooler.create:Writing chroms\n",
      "INFO:cooler.create:Writing bins\n",
      "INFO:cooler.create:Writing pixels\n",
      "INFO:cooler.create:Writing indexes\n",
      "INFO:cooler.create:Writing info\n",
      "INFO:cooler.create:Creating cooler at \"/tank/projects/kriukov_chromatin/HIC/tmp/old_f_3_10000.cool::/\"\n",
      "INFO:cooler.create:Writing chroms\n",
      "INFO:cooler.create:Writing bins\n",
      "INFO:cooler.create:Writing pixels\n",
      "INFO:cooler.create:Writing indexes\n",
      "INFO:cooler.create:Writing info\n",
      "INFO:cooler.create:Creating cooler at \"/tank/projects/kriukov_chromatin/HIC/tmp/old_m_1_10000.cool::/\"\n",
      "INFO:cooler.create:Writing chroms\n",
      "INFO:cooler.create:Writing bins\n",
      "INFO:cooler.create:Writing pixels\n",
      "INFO:cooler.create:Writing indexes\n",
      "INFO:cooler.create:Writing info\n",
      "INFO:cooler.create:Creating cooler at \"/tank/projects/kriukov_chromatin/HIC/tmp/yng_f_2_10000.cool::/\"\n",
      "INFO:cooler.create:Writing chroms\n",
      "INFO:cooler.create:Writing bins\n",
      "INFO:cooler.create:Writing pixels\n",
      "INFO:cooler.create:Writing indexes\n",
      "INFO:cooler.create:Writing info\n",
      "INFO:cooler.create:Creating cooler at \"/tank/projects/kriukov_chromatin/HIC/tmp/yng_f_3_10000.cool::/\"\n",
      "INFO:cooler.create:Writing chroms\n",
      "INFO:cooler.create:Writing bins\n",
      "INFO:cooler.create:Writing pixels\n",
      "INFO:cooler.create:Writing indexes\n",
      "INFO:cooler.create:Writing info\n",
      "INFO:cooler.create:Creating cooler at \"/tank/projects/kriukov_chromatin/HIC/tmp/yng_m_1_10000.cool::/\"\n",
      "INFO:cooler.create:Writing chroms\n",
      "INFO:cooler.create:Writing bins\n",
      "INFO:cooler.create:Writing pixels\n",
      "INFO:cooler.create:Writing indexes\n",
      "INFO:cooler.create:Writing info\n"
     ]
    }
   ],
   "source": [
    "#merge coolers using RESOLUTION as base resolution\n",
    "resolutions = [10_000, 25_000, 50_000, 100_000, 200_000, 1_000_000]\n",
    "\n",
    "#extract coolers from initial .mcools\n",
    "for c, l in zip(CLRS, LBLS):\n",
    "    cooler.create_cooler('%s/%s_%d.cool' % (TMP_FOLDER_PATH, l, RESOLUTION),\n",
    "                             bins=c.bins()[:],\n",
    "                             pixels=c.pixels()[:],\n",
    "                            )    \n",
    "#merge coolers by groups\n",
    "tmpFILES = natsorted(glob(TMP_FOLDER_PATH + '/*'))\n",
    "for g in GROUPS:\n",
    "    group = [f for f in tmpFILES if g in f]\n",
    "    cooler.merge_coolers(MERGED_COOLER_PATH + '/%s_%d.cool' % (g, RESOLUTION), \n",
    "                         group, \n",
    "                         mergebuf=200_000_000)\n",
    "#zoomify based on base RESOLUTION making .mcool files\n",
    "tmpFILES = natsorted(glob(MERGED_COOLER_PATH + '/*.cool'))\n",
    "for g in GROUPS:\n",
    "    cooler.zoomify_cooler([f for f in tmpFILES if g in f], \n",
    "                          MERGED_COOLER_PATH + '/%s.%d.mcool' % (g, RESOLUTION), \n",
    "                          resolutions,\n",
    "                          chunksize=100_000_000, nproc=20)\n",
    "#erase tmp base files    \n",
    "if remove_tmp: \n",
    "    for f in tmpFILES:\n",
    "        os.remove(f)\n",
    "\n",
    "#erase tmp folder   \n",
    "for f in glob(TMP_FOLDER_PATH + '/*'):\n",
    "    os.remove(f)"
   ]
  },
  {
   "cell_type": "code",
   "execution_count": 10,
   "metadata": {
    "collapsed": true,
    "hidden": true
   },
   "outputs": [
    {
     "name": "stderr",
     "output_type": "stream",
     "text": [
      "INFO:cooler.create:Creating cooler at \"/tank/projects/kriukov_chromatin/HIC/downsampled/KO_female_2_down_25000.cool::/\"\n",
      "INFO:cooler.create:Writing chroms\n",
      "INFO:cooler.create:Writing bins\n",
      "/home/dkriukov/miniconda3/envs/mice/lib/python3.7/site-packages/cooler/core.py:123: FutureWarning: is_categorical is deprecated and will be removed in a future version.  Use is_categorical_dtype instead\n",
      "  elif is_categorical(data):\n",
      "INFO:cooler.create:Writing pixels\n",
      "INFO:cooler.create:Writing indexes\n",
      "INFO:cooler.create:Writing info\n",
      "INFO:cooler.create:Creating cooler at \"/tank/projects/kriukov_chromatin/HIC/downsampled/KO_female_3_down_25000.cool::/\"\n",
      "INFO:cooler.create:Writing chroms\n",
      "INFO:cooler.create:Writing bins\n",
      "INFO:cooler.create:Writing pixels\n",
      "INFO:cooler.create:Writing indexes\n",
      "INFO:cooler.create:Writing info\n",
      "INFO:cooler.create:Creating cooler at \"/tank/projects/kriukov_chromatin/HIC/downsampled/KO_male_1_down_25000.cool::/\"\n",
      "INFO:cooler.create:Writing chroms\n",
      "INFO:cooler.create:Writing bins\n",
      "INFO:cooler.create:Writing pixels\n",
      "INFO:cooler.create:Writing indexes\n",
      "INFO:cooler.create:Writing info\n",
      "INFO:cooler.create:Creating cooler at \"/tank/projects/kriukov_chromatin/HIC/downsampled/WT_female_2_down_25000.cool::/\"\n",
      "INFO:cooler.create:Writing chroms\n",
      "INFO:cooler.create:Writing bins\n",
      "INFO:cooler.create:Writing pixels\n",
      "INFO:cooler.create:Writing indexes\n",
      "INFO:cooler.create:Writing info\n",
      "INFO:cooler.create:Creating cooler at \"/tank/projects/kriukov_chromatin/HIC/downsampled/WT_female_3_down_25000.cool::/\"\n",
      "INFO:cooler.create:Writing chroms\n",
      "INFO:cooler.create:Writing bins\n",
      "INFO:cooler.create:Writing pixels\n",
      "INFO:cooler.create:Writing indexes\n",
      "INFO:cooler.create:Writing info\n",
      "INFO:cooler.create:Creating cooler at \"/tank/projects/kriukov_chromatin/HIC/downsampled/WT_male_1_down_25000.cool::/\"\n",
      "INFO:cooler.create:Writing chroms\n",
      "INFO:cooler.create:Writing bins\n",
      "INFO:cooler.create:Writing pixels\n",
      "INFO:cooler.create:Writing indexes\n",
      "INFO:cooler.create:Writing info\n",
      "INFO:cooler.create:Creating cooler at \"/tank/projects/kriukov_chromatin/HIC/downsampled/old_female_2_down_25000.cool::/\"\n",
      "INFO:cooler.create:Writing chroms\n",
      "INFO:cooler.create:Writing bins\n",
      "INFO:cooler.create:Writing pixels\n",
      "INFO:cooler.create:Writing indexes\n",
      "INFO:cooler.create:Writing info\n",
      "INFO:cooler.create:Creating cooler at \"/tank/projects/kriukov_chromatin/HIC/downsampled/old_female_3_down_25000.cool::/\"\n",
      "INFO:cooler.create:Writing chroms\n",
      "INFO:cooler.create:Writing bins\n",
      "INFO:cooler.create:Writing pixels\n",
      "INFO:cooler.create:Writing indexes\n",
      "INFO:cooler.create:Writing info\n",
      "INFO:cooler.create:Creating cooler at \"/tank/projects/kriukov_chromatin/HIC/downsampled/old_male_1_down_25000.cool::/\"\n",
      "INFO:cooler.create:Writing chroms\n",
      "INFO:cooler.create:Writing bins\n",
      "INFO:cooler.create:Writing pixels\n",
      "INFO:cooler.create:Writing indexes\n",
      "INFO:cooler.create:Writing info\n",
      "INFO:cooler.create:Creating cooler at \"/tank/projects/kriukov_chromatin/HIC/downsampled/young_female_2_down_25000.cool::/\"\n",
      "INFO:cooler.create:Writing chroms\n",
      "INFO:cooler.create:Writing bins\n",
      "INFO:cooler.create:Writing pixels\n",
      "INFO:cooler.create:Writing indexes\n",
      "INFO:cooler.create:Writing info\n",
      "INFO:cooler.create:Creating cooler at \"/tank/projects/kriukov_chromatin/HIC/downsampled/young_female_3_down_25000.cool::/\"\n",
      "INFO:cooler.create:Writing chroms\n",
      "INFO:cooler.create:Writing bins\n",
      "INFO:cooler.create:Writing pixels\n",
      "INFO:cooler.create:Writing indexes\n",
      "INFO:cooler.create:Writing info\n",
      "INFO:cooler.create:Creating cooler at \"/tank/projects/kriukov_chromatin/HIC/downsampled/young_male_1_down_25000.cool::/\"\n",
      "INFO:cooler.create:Writing chroms\n",
      "INFO:cooler.create:Writing bins\n",
      "INFO:cooler.create:Writing pixels\n",
      "INFO:cooler.create:Writing indexes\n",
      "INFO:cooler.create:Writing info\n"
     ]
    }
   ],
   "source": [
    "#pure downsampling procedure\n",
    "# if not os.path.exists(DOWNSAMPLED_FOLDER_PATH):\n",
    "#     os.makedirs(DOWNSAMPLED_FOLDER_PATH)\n",
    "\n",
    "# MIN_SUM = min([c.info['sum'] for c in CLRS])\n",
    "# print('Minimal count sum:', MIN_SUM)\n",
    "# for l, c in zip(LBLS, CLRS):\n",
    "#     sample(c, '%s/%s_down_%d.cool' % (DOWNSAMPLED_FOLDER_PATH, l, RESOLUTION), \n",
    "#                   count=MIN_SUM//1000*1000, \n",
    "#                   exact=False,\n",
    "#                   chunksize=100_000_000)"
   ]
  },
  {
   "cell_type": "code",
   "execution_count": 115,
   "metadata": {
    "ExecuteTime": {
     "end_time": "2022-08-28T15:01:18.157315Z",
     "start_time": "2022-08-28T14:47:17.294592Z"
    },
    "collapsed": true,
    "hidden": true
   },
   "outputs": [
    {
     "name": "stderr",
     "output_type": "stream",
     "text": [
      "INFO:cooler.create:Creating cooler at \"/tank/projects/kriukov_chromatin/HIC/downsampled/KO_f_2_no_2_diags_10000.cool::/\"\n",
      "INFO:cooler.create:Writing chroms\n",
      "INFO:cooler.create:Writing bins\n",
      "/home/dkriukov/miniconda3/envs/mice/lib/python3.7/site-packages/cooler/core.py:123: FutureWarning: is_categorical is deprecated and will be removed in a future version.  Use is_categorical_dtype instead\n",
      "  elif is_categorical(data):\n",
      "INFO:cooler.create:Writing pixels\n",
      "INFO:cooler.create:Writing indexes\n",
      "INFO:cooler.create:Writing info\n",
      "INFO:cooler.create:Creating cooler at \"/tank/projects/kriukov_chromatin/HIC/downsampled/KO_f_3_no_2_diags_10000.cool::/\"\n",
      "INFO:cooler.create:Writing chroms\n",
      "INFO:cooler.create:Writing bins\n",
      "INFO:cooler.create:Writing pixels\n",
      "INFO:cooler.create:Writing indexes\n",
      "INFO:cooler.create:Writing info\n",
      "INFO:cooler.create:Creating cooler at \"/tank/projects/kriukov_chromatin/HIC/downsampled/KO_m_1_no_2_diags_10000.cool::/\"\n",
      "INFO:cooler.create:Writing chroms\n",
      "INFO:cooler.create:Writing bins\n",
      "INFO:cooler.create:Writing pixels\n",
      "INFO:cooler.create:Writing indexes\n",
      "INFO:cooler.create:Writing info\n",
      "INFO:cooler.create:Creating cooler at \"/tank/projects/kriukov_chromatin/HIC/downsampled/adl_f_2_no_2_diags_10000.cool::/\"\n",
      "INFO:cooler.create:Writing chroms\n",
      "INFO:cooler.create:Writing bins\n",
      "INFO:cooler.create:Writing pixels\n",
      "INFO:cooler.create:Writing indexes\n",
      "INFO:cooler.create:Writing info\n",
      "INFO:cooler.create:Creating cooler at \"/tank/projects/kriukov_chromatin/HIC/downsampled/adl_f_3_no_2_diags_10000.cool::/\"\n",
      "INFO:cooler.create:Writing chroms\n",
      "INFO:cooler.create:Writing bins\n",
      "INFO:cooler.create:Writing pixels\n",
      "INFO:cooler.create:Writing indexes\n",
      "INFO:cooler.create:Writing info\n",
      "INFO:cooler.create:Creating cooler at \"/tank/projects/kriukov_chromatin/HIC/downsampled/adl_m_1_no_2_diags_10000.cool::/\"\n",
      "INFO:cooler.create:Writing chroms\n",
      "INFO:cooler.create:Writing bins\n",
      "INFO:cooler.create:Writing pixels\n",
      "INFO:cooler.create:Writing indexes\n",
      "INFO:cooler.create:Writing info\n",
      "INFO:cooler.create:Creating cooler at \"/tank/projects/kriukov_chromatin/HIC/downsampled/old_f_2_no_2_diags_10000.cool::/\"\n",
      "INFO:cooler.create:Writing chroms\n",
      "INFO:cooler.create:Writing bins\n",
      "INFO:cooler.create:Writing pixels\n",
      "INFO:cooler.create:Writing indexes\n",
      "INFO:cooler.create:Writing info\n",
      "INFO:cooler.create:Creating cooler at \"/tank/projects/kriukov_chromatin/HIC/downsampled/old_f_3_no_2_diags_10000.cool::/\"\n",
      "INFO:cooler.create:Writing chroms\n",
      "INFO:cooler.create:Writing bins\n",
      "INFO:cooler.create:Writing pixels\n",
      "INFO:cooler.create:Writing indexes\n",
      "INFO:cooler.create:Writing info\n",
      "INFO:cooler.create:Creating cooler at \"/tank/projects/kriukov_chromatin/HIC/downsampled/old_m_1_no_2_diags_10000.cool::/\"\n",
      "INFO:cooler.create:Writing chroms\n",
      "INFO:cooler.create:Writing bins\n",
      "INFO:cooler.create:Writing pixels\n",
      "INFO:cooler.create:Writing indexes\n",
      "INFO:cooler.create:Writing info\n",
      "INFO:cooler.create:Creating cooler at \"/tank/projects/kriukov_chromatin/HIC/downsampled/yng_f_2_no_2_diags_10000.cool::/\"\n",
      "INFO:cooler.create:Writing chroms\n",
      "INFO:cooler.create:Writing bins\n",
      "INFO:cooler.create:Writing pixels\n",
      "INFO:cooler.create:Writing indexes\n",
      "INFO:cooler.create:Writing info\n",
      "INFO:cooler.create:Creating cooler at \"/tank/projects/kriukov_chromatin/HIC/downsampled/yng_f_3_no_2_diags_10000.cool::/\"\n",
      "INFO:cooler.create:Writing chroms\n",
      "INFO:cooler.create:Writing bins\n",
      "INFO:cooler.create:Writing pixels\n",
      "INFO:cooler.create:Writing indexes\n",
      "INFO:cooler.create:Writing info\n",
      "INFO:cooler.create:Creating cooler at \"/tank/projects/kriukov_chromatin/HIC/downsampled/yng_m_1_no_2_diags_10000.cool::/\"\n",
      "INFO:cooler.create:Writing chroms\n",
      "INFO:cooler.create:Writing bins\n",
      "INFO:cooler.create:Writing pixels\n",
      "INFO:cooler.create:Writing indexes\n",
      "INFO:cooler.create:Writing info\n",
      "INFO:cooler.create:Creating cooler at \"/tank/projects/kriukov_chromatin/HIC/downsampled/KO_f_2_down_no_2_diags_10000.cool::/\"\n",
      "INFO:cooler.create:Writing chroms\n",
      "INFO:cooler.create:Writing bins\n"
     ]
    },
    {
     "name": "stdout",
     "output_type": "stream",
     "text": [
      "Minimal count sum: 50121444\n"
     ]
    },
    {
     "name": "stderr",
     "output_type": "stream",
     "text": [
      "INFO:cooler.create:Writing pixels\n",
      "INFO:cooler.create:Writing indexes\n",
      "INFO:cooler.create:Writing info\n",
      "INFO:cooler.create:Creating cooler at \"/tank/projects/kriukov_chromatin/HIC/downsampled/KO_f_3_down_no_2_diags_10000.cool::/\"\n",
      "INFO:cooler.create:Writing chroms\n",
      "INFO:cooler.create:Writing bins\n",
      "INFO:cooler.create:Writing pixels\n",
      "INFO:cooler.create:Writing indexes\n",
      "INFO:cooler.create:Writing info\n",
      "INFO:cooler.create:Creating cooler at \"/tank/projects/kriukov_chromatin/HIC/downsampled/KO_m_1_down_no_2_diags_10000.cool::/\"\n",
      "INFO:cooler.create:Writing chroms\n",
      "INFO:cooler.create:Writing bins\n",
      "INFO:cooler.create:Writing pixels\n",
      "INFO:cooler.create:Writing indexes\n",
      "INFO:cooler.create:Writing info\n",
      "INFO:cooler.create:Creating cooler at \"/tank/projects/kriukov_chromatin/HIC/downsampled/adl_f_2_down_no_2_diags_10000.cool::/\"\n",
      "INFO:cooler.create:Writing chroms\n",
      "INFO:cooler.create:Writing bins\n",
      "INFO:cooler.create:Writing pixels\n",
      "INFO:cooler.create:Writing indexes\n",
      "INFO:cooler.create:Writing info\n",
      "INFO:cooler.create:Creating cooler at \"/tank/projects/kriukov_chromatin/HIC/downsampled/adl_f_3_down_no_2_diags_10000.cool::/\"\n",
      "INFO:cooler.create:Writing chroms\n",
      "INFO:cooler.create:Writing bins\n",
      "INFO:cooler.create:Writing pixels\n",
      "INFO:cooler.create:Writing indexes\n",
      "INFO:cooler.create:Writing info\n",
      "INFO:cooler.create:Creating cooler at \"/tank/projects/kriukov_chromatin/HIC/downsampled/adl_m_1_down_no_2_diags_10000.cool::/\"\n",
      "INFO:cooler.create:Writing chroms\n",
      "INFO:cooler.create:Writing bins\n",
      "INFO:cooler.create:Writing pixels\n",
      "INFO:cooler.create:Writing indexes\n",
      "INFO:cooler.create:Writing info\n",
      "INFO:cooler.create:Creating cooler at \"/tank/projects/kriukov_chromatin/HIC/downsampled/old_f_2_down_no_2_diags_10000.cool::/\"\n",
      "INFO:cooler.create:Writing chroms\n",
      "INFO:cooler.create:Writing bins\n",
      "INFO:cooler.create:Writing pixels\n",
      "INFO:cooler.create:Writing indexes\n",
      "INFO:cooler.create:Writing info\n",
      "INFO:cooler.create:Creating cooler at \"/tank/projects/kriukov_chromatin/HIC/downsampled/old_f_3_down_no_2_diags_10000.cool::/\"\n",
      "INFO:cooler.create:Writing chroms\n",
      "INFO:cooler.create:Writing bins\n",
      "INFO:cooler.create:Writing pixels\n",
      "INFO:cooler.create:Writing indexes\n",
      "INFO:cooler.create:Writing info\n",
      "INFO:cooler.create:Creating cooler at \"/tank/projects/kriukov_chromatin/HIC/downsampled/old_m_1_down_no_2_diags_10000.cool::/\"\n",
      "INFO:cooler.create:Writing chroms\n",
      "INFO:cooler.create:Writing bins\n",
      "INFO:cooler.create:Writing pixels\n",
      "INFO:cooler.create:Writing indexes\n",
      "INFO:cooler.create:Writing info\n",
      "INFO:cooler.create:Creating cooler at \"/tank/projects/kriukov_chromatin/HIC/downsampled/yng_f_2_down_no_2_diags_10000.cool::/\"\n",
      "INFO:cooler.create:Writing chroms\n",
      "INFO:cooler.create:Writing bins\n",
      "INFO:cooler.create:Writing pixels\n",
      "INFO:cooler.create:Writing indexes\n",
      "INFO:cooler.create:Writing info\n",
      "INFO:cooler.create:Creating cooler at \"/tank/projects/kriukov_chromatin/HIC/downsampled/yng_f_3_down_no_2_diags_10000.cool::/\"\n",
      "INFO:cooler.create:Writing chroms\n",
      "INFO:cooler.create:Writing bins\n",
      "INFO:cooler.create:Writing pixels\n",
      "INFO:cooler.create:Writing indexes\n",
      "INFO:cooler.create:Writing info\n",
      "INFO:cooler.create:Creating cooler at \"/tank/projects/kriukov_chromatin/HIC/downsampled/yng_m_1_down_no_2_diags_10000.cool::/\"\n",
      "INFO:cooler.create:Writing chroms\n",
      "INFO:cooler.create:Writing bins\n",
      "INFO:cooler.create:Writing pixels\n",
      "INFO:cooler.create:Writing indexes\n",
      "INFO:cooler.create:Writing info\n"
     ]
    }
   ],
   "source": [
    "#downsampling procedure with first m diagonals removal\n",
    "if not os.path.exists(DOWNSAMPLED_FOLDER_PATH):\n",
    "    os.makedirs(DOWNSAMPLED_FOLDER_PATH)\n",
    "m = 2 #number of diags for removing\n",
    "remove_tmp = True\n",
    "\n",
    "#erasing m diags\n",
    "for l, c in zip(LBLS, CLRS):\n",
    "    pix = c.pixels()[:]\n",
    "    for k in range(m):\n",
    "        pix.loc[(pix.bin1_id + k) == (pix.bin2_id), 'count'] = 0\n",
    "    cooler.create_cooler('%s/%s_no_%d_diags_%d.cool' % (DOWNSAMPLED_FOLDER_PATH, l, m, RESOLUTION),\n",
    "                         bins=c.bins()[:],\n",
    "                         pixels=pix,\n",
    "                        )\n",
    "tmpFILES = natsorted(glob(DOWNSAMPLED_FOLDER_PATH + '/*diags_*.cool'))\n",
    "tmpCLRS = [cooler.Cooler(p) for p in tmpFILES]\n",
    "\n",
    "MIN_SUM = min([c.info['sum'] for c in tmpCLRS])\n",
    "print('Minimal count sum:', MIN_SUM)\n",
    "for l, c in zip(LBLS, tmpCLRS):\n",
    "    sample(c, '%s/%s_down_no_%d_diags_%d.cool' % (DOWNSAMPLED_FOLDER_PATH, l, m, RESOLUTION), \n",
    "                  count=MIN_SUM//1000*1000, \n",
    "                  exact=False,\n",
    "                  chunksize=100_000_000)\n",
    "if remove_tmp: \n",
    "    for f in tmpFILES:\n",
    "        os.remove(f)\n",
    "        \n",
    "tmpFILES = natsorted(glob(DOWNSAMPLED_FOLDER_PATH + '/*_down*diags*.cool'))\n",
    "for f, l in zip(tmpFILES, LBLS):\n",
    "    cooler.zoomify_cooler([f], \n",
    "                      DOWNSAMPLED_FOLDER_PATH + '/%s_down_no_%d_diag_%d.mcool' % (l, m, RESOLUTION), \n",
    "                      resolutions,\n",
    "                      chunksize=100_000_000, nproc=20)\n",
    "if remove_tmp: \n",
    "    for f in tmpFILES:\n",
    "        os.remove(f)"
   ]
  },
  {
   "cell_type": "code",
   "execution_count": 147,
   "metadata": {
    "ExecuteTime": {
     "end_time": "2022-08-28T17:41:13.923070Z",
     "start_time": "2022-08-28T17:04:53.636672Z"
    },
    "hidden": true
   },
   "outputs": [
    {
     "name": "stderr",
     "output_type": "stream",
     "text": [
      "INFO:cooler.create:Creating cooler at \"/tank/projects/kriukov_chromatin/HIC/merged_downsampled/KO_no_2_diags_10000.cool::/\"\n",
      "INFO:cooler.create:Writing chroms\n",
      "INFO:cooler.create:Writing bins\n",
      "INFO:cooler.create:Writing pixels\n",
      "INFO:cooler.create:Writing indexes\n",
      "INFO:cooler.create:Writing info\n",
      "INFO:cooler.create:Creating cooler at \"/tank/projects/kriukov_chromatin/HIC/merged_downsampled/adl_no_2_diags_10000.cool::/\"\n",
      "INFO:cooler.create:Writing chroms\n",
      "INFO:cooler.create:Writing bins\n",
      "INFO:cooler.create:Writing pixels\n",
      "INFO:cooler.create:Writing indexes\n",
      "INFO:cooler.create:Writing info\n",
      "INFO:cooler.create:Creating cooler at \"/tank/projects/kriukov_chromatin/HIC/merged_downsampled/old_no_2_diags_10000.cool::/\"\n",
      "INFO:cooler.create:Writing chroms\n",
      "INFO:cooler.create:Writing bins\n",
      "INFO:cooler.create:Writing pixels\n",
      "INFO:cooler.create:Writing indexes\n",
      "INFO:cooler.create:Writing info\n",
      "INFO:cooler.create:Creating cooler at \"/tank/projects/kriukov_chromatin/HIC/merged_downsampled/yng_no_2_diags_10000.cool::/\"\n",
      "INFO:cooler.create:Writing chroms\n",
      "INFO:cooler.create:Writing bins\n",
      "INFO:cooler.create:Writing pixels\n",
      "INFO:cooler.create:Writing indexes\n",
      "INFO:cooler.create:Writing info\n",
      "INFO:cooler.create:Creating cooler at \"/tank/projects/kriukov_chromatin/HIC/merged_downsampled/KO_down_no_2_diags_10000.cool::/\"\n",
      "INFO:cooler.create:Writing chroms\n",
      "INFO:cooler.create:Writing bins\n",
      "INFO:cooler.create:Writing pixels\n"
     ]
    },
    {
     "name": "stdout",
     "output_type": "stream",
     "text": [
      "Minimal count sum: 194380176\n"
     ]
    },
    {
     "name": "stderr",
     "output_type": "stream",
     "text": [
      "INFO:cooler.create:Writing indexes\n",
      "INFO:cooler.create:Writing info\n",
      "INFO:cooler.create:Creating cooler at \"/tank/projects/kriukov_chromatin/HIC/merged_downsampled/adl_down_no_2_diags_10000.cool::/\"\n",
      "INFO:cooler.create:Writing chroms\n",
      "INFO:cooler.create:Writing bins\n",
      "INFO:cooler.create:Writing pixels\n",
      "INFO:cooler.create:Writing indexes\n",
      "INFO:cooler.create:Writing info\n",
      "INFO:cooler.create:Creating cooler at \"/tank/projects/kriukov_chromatin/HIC/merged_downsampled/old_down_no_2_diags_10000.cool::/\"\n",
      "INFO:cooler.create:Writing chroms\n",
      "INFO:cooler.create:Writing bins\n",
      "INFO:cooler.create:Writing pixels\n",
      "INFO:cooler.create:Writing indexes\n",
      "INFO:cooler.create:Writing info\n",
      "INFO:cooler.create:Creating cooler at \"/tank/projects/kriukov_chromatin/HIC/merged_downsampled/yng_down_no_2_diags_10000.cool::/\"\n",
      "INFO:cooler.create:Writing chroms\n",
      "INFO:cooler.create:Writing bins\n",
      "INFO:cooler.create:Writing pixels\n",
      "INFO:cooler.create:Writing indexes\n",
      "INFO:cooler.create:Writing info\n",
      "INFO:cooler.reduce:Copying base matrices and producing 6 new zoom levels.\n",
      "INFO:cooler.reduce:Bin size: 10000\n",
      "INFO:cooler.reduce:Aggregating from 10000 to 30000.\n",
      "/home/dkriukov/miniconda3/envs/mice/lib/python3.7/site-packages/cooler/util.py:733: FutureWarning: is_categorical is deprecated and will be removed in a future version.  Use is_categorical_dtype instead\n",
      "  is_cat = pd.api.types.is_categorical(bins[\"chrom\"])\n",
      "INFO:cooler.create:Creating cooler at \"/tank/projects/kriukov_chromatin/HIC/merged_downsampled/KO_down_no_2_diag.10000.mcool::/resolutions/30000\"\n",
      "INFO:cooler.create:Writing chroms\n",
      "INFO:cooler.create:Writing bins\n",
      "INFO:cooler.create:Writing pixels\n",
      "INFO:cooler.reduce:100000898 126881605\n",
      "INFO:cooler.reduce:0 100000898\n",
      "INFO:cooler.create:Writing indexes\n",
      "INFO:cooler.create:Writing info\n",
      "INFO:cooler.reduce:Aggregating from 10000 to 50000.\n",
      "/home/dkriukov/miniconda3/envs/mice/lib/python3.7/site-packages/cooler/util.py:733: FutureWarning: is_categorical is deprecated and will be removed in a future version.  Use is_categorical_dtype instead\n",
      "  is_cat = pd.api.types.is_categorical(bins[\"chrom\"])\n",
      "INFO:cooler.create:Creating cooler at \"/tank/projects/kriukov_chromatin/HIC/merged_downsampled/KO_down_no_2_diag.10000.mcool::/resolutions/50000\"\n",
      "INFO:cooler.create:Writing chroms\n",
      "INFO:cooler.create:Writing bins\n",
      "INFO:cooler.create:Writing pixels\n",
      "INFO:cooler.reduce:100001672 126881605\n",
      "INFO:cooler.reduce:0 100001672\n",
      "INFO:cooler.create:Writing indexes\n",
      "INFO:cooler.create:Writing info\n",
      "INFO:cooler.reduce:Aggregating from 50000 to 100000.\n",
      "/home/dkriukov/miniconda3/envs/mice/lib/python3.7/site-packages/cooler/util.py:733: FutureWarning: is_categorical is deprecated and will be removed in a future version.  Use is_categorical_dtype instead\n",
      "  is_cat = pd.api.types.is_categorical(bins[\"chrom\"])\n",
      "INFO:cooler.create:Creating cooler at \"/tank/projects/kriukov_chromatin/HIC/merged_downsampled/KO_down_no_2_diag.10000.mcool::/resolutions/100000\"\n",
      "INFO:cooler.create:Writing chroms\n",
      "INFO:cooler.create:Writing bins\n",
      "INFO:cooler.create:Writing pixels\n",
      "INFO:cooler.reduce:0 78628342\n",
      "INFO:cooler.create:Writing indexes\n",
      "INFO:cooler.create:Writing info\n",
      "INFO:cooler.reduce:Aggregating from 100000 to 200000.\n",
      "/home/dkriukov/miniconda3/envs/mice/lib/python3.7/site-packages/cooler/util.py:733: FutureWarning: is_categorical is deprecated and will be removed in a future version.  Use is_categorical_dtype instead\n",
      "  is_cat = pd.api.types.is_categorical(bins[\"chrom\"])\n",
      "INFO:cooler.create:Creating cooler at \"/tank/projects/kriukov_chromatin/HIC/merged_downsampled/KO_down_no_2_diag.10000.mcool::/resolutions/200000\"\n",
      "INFO:cooler.create:Writing chroms\n",
      "INFO:cooler.create:Writing bins\n",
      "INFO:cooler.create:Writing pixels\n",
      "INFO:cooler.reduce:0 56735129\n",
      "INFO:cooler.create:Writing indexes\n",
      "INFO:cooler.create:Writing info\n",
      "INFO:cooler.reduce:Aggregating from 200000 to 1000000.\n",
      "/home/dkriukov/miniconda3/envs/mice/lib/python3.7/site-packages/cooler/util.py:733: FutureWarning: is_categorical is deprecated and will be removed in a future version.  Use is_categorical_dtype instead\n",
      "  is_cat = pd.api.types.is_categorical(bins[\"chrom\"])\n",
      "INFO:cooler.create:Creating cooler at \"/tank/projects/kriukov_chromatin/HIC/merged_downsampled/KO_down_no_2_diag.10000.mcool::/resolutions/1000000\"\n",
      "INFO:cooler.create:Writing chroms\n",
      "INFO:cooler.create:Writing bins\n",
      "INFO:cooler.create:Writing pixels\n",
      "INFO:cooler.reduce:0 35913174\n",
      "INFO:cooler.create:Writing indexes\n",
      "INFO:cooler.create:Writing info\n",
      "INFO:cooler.reduce:Copying base matrices and producing 6 new zoom levels.\n",
      "INFO:cooler.reduce:Bin size: 10000\n",
      "INFO:cooler.reduce:Aggregating from 10000 to 30000.\n",
      "/home/dkriukov/miniconda3/envs/mice/lib/python3.7/site-packages/cooler/util.py:733: FutureWarning: is_categorical is deprecated and will be removed in a future version.  Use is_categorical_dtype instead\n",
      "  is_cat = pd.api.types.is_categorical(bins[\"chrom\"])\n",
      "INFO:cooler.create:Creating cooler at \"/tank/projects/kriukov_chromatin/HIC/merged_downsampled/adl_down_no_2_diag.10000.mcool::/resolutions/30000\"\n",
      "INFO:cooler.create:Writing chroms\n",
      "INFO:cooler.create:Writing bins\n",
      "INFO:cooler.create:Writing pixels\n",
      "INFO:cooler.reduce:100000781 126256937\n",
      "INFO:cooler.reduce:0 100000781\n",
      "INFO:cooler.create:Writing indexes\n",
      "INFO:cooler.create:Writing info\n",
      "INFO:cooler.reduce:Aggregating from 10000 to 50000.\n",
      "/home/dkriukov/miniconda3/envs/mice/lib/python3.7/site-packages/cooler/util.py:733: FutureWarning: is_categorical is deprecated and will be removed in a future version.  Use is_categorical_dtype instead\n",
      "  is_cat = pd.api.types.is_categorical(bins[\"chrom\"])\n",
      "INFO:cooler.create:Creating cooler at \"/tank/projects/kriukov_chromatin/HIC/merged_downsampled/adl_down_no_2_diag.10000.mcool::/resolutions/50000\"\n",
      "INFO:cooler.create:Writing chroms\n",
      "INFO:cooler.create:Writing bins\n",
      "INFO:cooler.create:Writing pixels\n",
      "INFO:cooler.reduce:100002153 126256937\n",
      "INFO:cooler.reduce:0 100002153\n",
      "INFO:cooler.create:Writing indexes\n",
      "INFO:cooler.create:Writing info\n",
      "INFO:cooler.reduce:Aggregating from 50000 to 100000.\n",
      "/home/dkriukov/miniconda3/envs/mice/lib/python3.7/site-packages/cooler/util.py:733: FutureWarning: is_categorical is deprecated and will be removed in a future version.  Use is_categorical_dtype instead\n",
      "  is_cat = pd.api.types.is_categorical(bins[\"chrom\"])\n",
      "INFO:cooler.create:Creating cooler at \"/tank/projects/kriukov_chromatin/HIC/merged_downsampled/adl_down_no_2_diag.10000.mcool::/resolutions/100000\"\n",
      "INFO:cooler.create:Writing chroms\n",
      "INFO:cooler.create:Writing bins\n",
      "INFO:cooler.create:Writing pixels\n",
      "INFO:cooler.reduce:0 79599484\n",
      "INFO:cooler.create:Writing indexes\n",
      "INFO:cooler.create:Writing info\n",
      "INFO:cooler.reduce:Aggregating from 100000 to 200000.\n",
      "/home/dkriukov/miniconda3/envs/mice/lib/python3.7/site-packages/cooler/util.py:733: FutureWarning: is_categorical is deprecated and will be removed in a future version.  Use is_categorical_dtype instead\n",
      "  is_cat = pd.api.types.is_categorical(bins[\"chrom\"])\n",
      "INFO:cooler.create:Creating cooler at \"/tank/projects/kriukov_chromatin/HIC/merged_downsampled/adl_down_no_2_diag.10000.mcool::/resolutions/200000\"\n",
      "INFO:cooler.create:Writing chroms\n",
      "INFO:cooler.create:Writing bins\n",
      "INFO:cooler.create:Writing pixels\n",
      "INFO:cooler.reduce:0 58372442\n",
      "INFO:cooler.create:Writing indexes\n",
      "INFO:cooler.create:Writing info\n",
      "INFO:cooler.reduce:Aggregating from 200000 to 1000000.\n",
      "/home/dkriukov/miniconda3/envs/mice/lib/python3.7/site-packages/cooler/util.py:733: FutureWarning: is_categorical is deprecated and will be removed in a future version.  Use is_categorical_dtype instead\n",
      "  is_cat = pd.api.types.is_categorical(bins[\"chrom\"])\n",
      "INFO:cooler.create:Creating cooler at \"/tank/projects/kriukov_chromatin/HIC/merged_downsampled/adl_down_no_2_diag.10000.mcool::/resolutions/1000000\"\n",
      "INFO:cooler.create:Writing chroms\n",
      "INFO:cooler.create:Writing bins\n",
      "INFO:cooler.create:Writing pixels\n",
      "INFO:cooler.reduce:0 36829463\n",
      "INFO:cooler.create:Writing indexes\n",
      "INFO:cooler.create:Writing info\n",
      "INFO:cooler.reduce:Copying base matrices and producing 6 new zoom levels.\n",
      "INFO:cooler.reduce:Bin size: 10000\n",
      "INFO:cooler.reduce:Aggregating from 10000 to 30000.\n",
      "/home/dkriukov/miniconda3/envs/mice/lib/python3.7/site-packages/cooler/util.py:733: FutureWarning: is_categorical is deprecated and will be removed in a future version.  Use is_categorical_dtype instead\n",
      "  is_cat = pd.api.types.is_categorical(bins[\"chrom\"])\n",
      "INFO:cooler.create:Creating cooler at \"/tank/projects/kriukov_chromatin/HIC/merged_downsampled/old_down_no_2_diag.10000.mcool::/resolutions/30000\"\n"
     ]
    },
    {
     "name": "stderr",
     "output_type": "stream",
     "text": [
      "INFO:cooler.create:Writing chroms\n",
      "INFO:cooler.create:Writing bins\n",
      "INFO:cooler.create:Writing pixels\n",
      "INFO:cooler.reduce:100001304 117161539\n",
      "INFO:cooler.reduce:0 100001304\n",
      "INFO:cooler.create:Writing indexes\n",
      "INFO:cooler.create:Writing info\n",
      "INFO:cooler.reduce:Aggregating from 10000 to 50000.\n",
      "/home/dkriukov/miniconda3/envs/mice/lib/python3.7/site-packages/cooler/util.py:733: FutureWarning: is_categorical is deprecated and will be removed in a future version.  Use is_categorical_dtype instead\n",
      "  is_cat = pd.api.types.is_categorical(bins[\"chrom\"])\n",
      "INFO:cooler.create:Creating cooler at \"/tank/projects/kriukov_chromatin/HIC/merged_downsampled/old_down_no_2_diag.10000.mcool::/resolutions/50000\"\n",
      "INFO:cooler.create:Writing chroms\n",
      "INFO:cooler.create:Writing bins\n",
      "INFO:cooler.create:Writing pixels\n",
      "INFO:cooler.reduce:100000952 117161539\n",
      "INFO:cooler.reduce:0 100000952\n",
      "INFO:cooler.create:Writing indexes\n",
      "INFO:cooler.create:Writing info\n",
      "INFO:cooler.reduce:Aggregating from 50000 to 100000.\n",
      "/home/dkriukov/miniconda3/envs/mice/lib/python3.7/site-packages/cooler/util.py:733: FutureWarning: is_categorical is deprecated and will be removed in a future version.  Use is_categorical_dtype instead\n",
      "  is_cat = pd.api.types.is_categorical(bins[\"chrom\"])\n",
      "INFO:cooler.create:Creating cooler at \"/tank/projects/kriukov_chromatin/HIC/merged_downsampled/old_down_no_2_diag.10000.mcool::/resolutions/100000\"\n",
      "INFO:cooler.create:Writing chroms\n",
      "INFO:cooler.create:Writing bins\n",
      "INFO:cooler.create:Writing pixels\n",
      "INFO:cooler.reduce:0 71144108\n",
      "INFO:cooler.create:Writing indexes\n",
      "INFO:cooler.create:Writing info\n",
      "INFO:cooler.reduce:Aggregating from 100000 to 200000.\n",
      "/home/dkriukov/miniconda3/envs/mice/lib/python3.7/site-packages/cooler/util.py:733: FutureWarning: is_categorical is deprecated and will be removed in a future version.  Use is_categorical_dtype instead\n",
      "  is_cat = pd.api.types.is_categorical(bins[\"chrom\"])\n",
      "INFO:cooler.create:Creating cooler at \"/tank/projects/kriukov_chromatin/HIC/merged_downsampled/old_down_no_2_diag.10000.mcool::/resolutions/200000\"\n",
      "INFO:cooler.create:Writing chroms\n",
      "INFO:cooler.create:Writing bins\n",
      "INFO:cooler.create:Writing pixels\n",
      "INFO:cooler.reduce:0 51603787\n",
      "INFO:cooler.create:Writing indexes\n",
      "INFO:cooler.create:Writing info\n",
      "INFO:cooler.reduce:Aggregating from 200000 to 1000000.\n",
      "/home/dkriukov/miniconda3/envs/mice/lib/python3.7/site-packages/cooler/util.py:733: FutureWarning: is_categorical is deprecated and will be removed in a future version.  Use is_categorical_dtype instead\n",
      "  is_cat = pd.api.types.is_categorical(bins[\"chrom\"])\n",
      "INFO:cooler.create:Creating cooler at \"/tank/projects/kriukov_chromatin/HIC/merged_downsampled/old_down_no_2_diag.10000.mcool::/resolutions/1000000\"\n",
      "INFO:cooler.create:Writing chroms\n",
      "INFO:cooler.create:Writing bins\n",
      "INFO:cooler.create:Writing pixels\n",
      "INFO:cooler.reduce:0 32693151\n",
      "INFO:cooler.create:Writing indexes\n",
      "INFO:cooler.create:Writing info\n",
      "INFO:cooler.reduce:Copying base matrices and producing 6 new zoom levels.\n",
      "INFO:cooler.reduce:Bin size: 10000\n",
      "INFO:cooler.reduce:Aggregating from 10000 to 30000.\n",
      "/home/dkriukov/miniconda3/envs/mice/lib/python3.7/site-packages/cooler/util.py:733: FutureWarning: is_categorical is deprecated and will be removed in a future version.  Use is_categorical_dtype instead\n",
      "  is_cat = pd.api.types.is_categorical(bins[\"chrom\"])\n",
      "INFO:cooler.create:Creating cooler at \"/tank/projects/kriukov_chromatin/HIC/merged_downsampled/yng_down_no_2_diag.10000.mcool::/resolutions/30000\"\n",
      "INFO:cooler.create:Writing chroms\n",
      "INFO:cooler.create:Writing bins\n",
      "INFO:cooler.create:Writing pixels\n",
      "INFO:cooler.reduce:100001283 123766374\n",
      "INFO:cooler.reduce:0 100001283\n",
      "INFO:cooler.create:Writing indexes\n",
      "INFO:cooler.create:Writing info\n",
      "INFO:cooler.reduce:Aggregating from 10000 to 50000.\n",
      "/home/dkriukov/miniconda3/envs/mice/lib/python3.7/site-packages/cooler/util.py:733: FutureWarning: is_categorical is deprecated and will be removed in a future version.  Use is_categorical_dtype instead\n",
      "  is_cat = pd.api.types.is_categorical(bins[\"chrom\"])\n",
      "INFO:cooler.create:Creating cooler at \"/tank/projects/kriukov_chromatin/HIC/merged_downsampled/yng_down_no_2_diag.10000.mcool::/resolutions/50000\"\n",
      "INFO:cooler.create:Writing chroms\n",
      "INFO:cooler.create:Writing bins\n",
      "INFO:cooler.create:Writing pixels\n",
      "INFO:cooler.reduce:100000444 123766374\n",
      "INFO:cooler.reduce:0 100000444\n",
      "INFO:cooler.create:Writing indexes\n",
      "INFO:cooler.create:Writing info\n",
      "INFO:cooler.reduce:Aggregating from 50000 to 100000.\n",
      "/home/dkriukov/miniconda3/envs/mice/lib/python3.7/site-packages/cooler/util.py:733: FutureWarning: is_categorical is deprecated and will be removed in a future version.  Use is_categorical_dtype instead\n",
      "  is_cat = pd.api.types.is_categorical(bins[\"chrom\"])\n",
      "INFO:cooler.create:Creating cooler at \"/tank/projects/kriukov_chromatin/HIC/merged_downsampled/yng_down_no_2_diag.10000.mcool::/resolutions/100000\"\n",
      "INFO:cooler.create:Writing chroms\n",
      "INFO:cooler.create:Writing bins\n",
      "INFO:cooler.create:Writing pixels\n",
      "INFO:cooler.reduce:0 76781338\n",
      "INFO:cooler.create:Writing indexes\n",
      "INFO:cooler.create:Writing info\n",
      "INFO:cooler.reduce:Aggregating from 100000 to 200000.\n",
      "/home/dkriukov/miniconda3/envs/mice/lib/python3.7/site-packages/cooler/util.py:733: FutureWarning: is_categorical is deprecated and will be removed in a future version.  Use is_categorical_dtype instead\n",
      "  is_cat = pd.api.types.is_categorical(bins[\"chrom\"])\n",
      "INFO:cooler.create:Creating cooler at \"/tank/projects/kriukov_chromatin/HIC/merged_downsampled/yng_down_no_2_diag.10000.mcool::/resolutions/200000\"\n",
      "INFO:cooler.create:Writing chroms\n",
      "INFO:cooler.create:Writing bins\n",
      "INFO:cooler.create:Writing pixels\n",
      "INFO:cooler.reduce:0 56092400\n",
      "INFO:cooler.create:Writing indexes\n",
      "INFO:cooler.create:Writing info\n",
      "INFO:cooler.reduce:Aggregating from 200000 to 1000000.\n",
      "/home/dkriukov/miniconda3/envs/mice/lib/python3.7/site-packages/cooler/util.py:733: FutureWarning: is_categorical is deprecated and will be removed in a future version.  Use is_categorical_dtype instead\n",
      "  is_cat = pd.api.types.is_categorical(bins[\"chrom\"])\n",
      "INFO:cooler.create:Creating cooler at \"/tank/projects/kriukov_chromatin/HIC/merged_downsampled/yng_down_no_2_diag.10000.mcool::/resolutions/1000000\"\n",
      "INFO:cooler.create:Writing chroms\n",
      "INFO:cooler.create:Writing bins\n",
      "INFO:cooler.create:Writing pixels\n",
      "INFO:cooler.reduce:0 35411262\n",
      "INFO:cooler.create:Writing indexes\n",
      "INFO:cooler.create:Writing info\n"
     ]
    }
   ],
   "source": [
    "#downsampling procedure with first m diagonals removal on merged\n",
    "if not os.path.exists(MERGED_DOWNSAMPLED_FOLDER_PATH):\n",
    "    os.makedirs(MERGED_DOWNSAMPLED_FOLDER_PATH)\n",
    "m = 2 #number of diags for removing\n",
    "remove_tmp = True\n",
    "\n",
    "#erasing m diags\n",
    "for l, c in zip(LBLS, CLRS):\n",
    "    pix = c.pixels()[:]\n",
    "    for k in range(m):\n",
    "        pix.loc[(pix.bin1_id + k) == (pix.bin2_id), 'count'] = 0\n",
    "    cooler.create_cooler('%s/%s_no_%d_diags_%d.cool' % (MERGED_DOWNSAMPLED_FOLDER_PATH, l, m, RESOLUTION),\n",
    "                         bins=c.bins()[:],\n",
    "                         pixels=pix,\n",
    "                        )\n",
    "tmpFILES = natsorted(glob(MERGED_DOWNSAMPLED_FOLDER_PATH + '/*diags_*.cool'))\n",
    "tmpCLRS = [cooler.Cooler(p) for p in tmpFILES]\n",
    "\n",
    "MIN_SUM = min([c.info['sum'] for c in tmpCLRS])\n",
    "print('Minimal count sum:', MIN_SUM)\n",
    "for l, c in zip(LBLS, tmpCLRS):\n",
    "    sample(c, '%s/%s_down_no_%d_diags_%d.cool' % (MERGED_DOWNSAMPLED_FOLDER_PATH, l, m, RESOLUTION), \n",
    "                  count=MIN_SUM//1000*1000, \n",
    "                  exact=False,\n",
    "                  chunksize=100_000_000)\n",
    "if remove_tmp: \n",
    "    for f in tmpFILES:\n",
    "        os.remove(f)\n",
    "        \n",
    "tmpFILES = natsorted(glob(MERGED_DOWNSAMPLED_FOLDER_PATH + '/*_down*diags*.cool'))\n",
    "for f, l in zip(tmpFILES, LBLS):\n",
    "    cooler.zoomify_cooler([f], \n",
    "                      MERGED_DOWNSAMPLED_FOLDER_PATH + '/%s_down_no_%d_diag.%d.mcool' % (l, m, RESOLUTION), \n",
    "                      resolutions,\n",
    "                      chunksize=100_000_000, nproc=20)\n",
    "if remove_tmp: \n",
    "    for f in tmpFILES:\n",
    "        os.remove(f)"
   ]
  },
  {
   "cell_type": "markdown",
   "metadata": {
    "heading_collapsed": true
   },
   "source": [
    "## insulation score"
   ]
  },
  {
   "cell_type": "code",
   "execution_count": 4,
   "metadata": {
    "hidden": true
   },
   "outputs": [],
   "source": [
    "#insulation scores\n",
    "if not os.path.exists(INSULATION_PATH):\n",
    "    os.makedirs(INSULATION_PATH)\n",
    "\n",
    "df = pd.DataFrame()\n",
    "for l, c in zip(LBLS, CLRS):\n",
    "    IS = calculate_insulation_score(c, \n",
    "                                    window_bp=[RESOLUTION * 10], \n",
    "                                    ignore_diags=2, \n",
    "                                    append_raw_scores=False)\n",
    "    df[l] = np.array(IS.filter(regex=(\"log2*\"))).squeeze()\n",
    "\n",
    "\n",
    "##additional masking around NaN\n",
    "binstatus = pd.DataFrame({basename(c.filename):c.bins()[:]['weight'] for c in CLRS})\n",
    "\n",
    "k = 11 #left and right around nan will be nan to avoid `edge effect`\n",
    "N = df.shape[0]\n",
    "nanids = binstatus[binstatus.isna().any(1)].index.tolist()\n",
    "for i in nanids:\n",
    "    l = i - k if i - k >=0 else 0\n",
    "    r = i + k if i + k < N else N\n",
    "    df.iloc[l:r] = np.nan\n",
    "\n",
    "#postprocessing\n",
    "IS_info = IS[['chrom', 'start', 'end']].reset_index()\n",
    "IS_info['index'] = IS_info['index'].apply(str\n",
    "                                         )\n",
    "df = df.reset_index()\n",
    "df['index'] = df['index'].apply(str)\n",
    "df = df.merge(IS_info, on='index')\n",
    "df.to_csv('%s/IS_%s.csv' % (INSULATION_PATH, RESOLUTION))\n",
    "#df.to_csv('%s/IS_merged_%s.csv' % (INSULATION_PATH, RESOLUTION))"
   ]
  },
  {
   "cell_type": "markdown",
   "metadata": {},
   "source": [
    "## Compartments"
   ]
  },
  {
   "cell_type": "code",
   "execution_count": 6,
   "metadata": {
    "ExecuteTime": {
     "end_time": "2022-09-02T15:42:20.310654Z",
     "start_time": "2022-09-02T15:42:20.131201Z"
    }
   },
   "outputs": [
    {
     "name": "stdout",
     "output_type": "stream",
     "text": [
      "combined_KO_down_50000_50000.cis.lam.txt      old_female_3_50000.cis.lam.txt\r\n",
      "combined_KO_down_50000_50000.cis.vecs.txt     old_female_3_50000.cis.vecs.txt\r\n",
      "combined_old_down_50000_50000.cis.lam.txt     old_male_1_50000.cis.lam.txt\r\n",
      "combined_old_down_50000_50000.cis.vecs.txt    old_male_1_50000.cis.vecs.txt\r\n",
      "combined_WT_down_50000_50000.cis.lam.txt      WT_female_2_50000.cis.lam.txt\r\n",
      "combined_WT_down_50000_50000.cis.vecs.txt     WT_female_2_50000.cis.vecs.txt\r\n",
      "combined_young_down_50000_50000.cis.lam.txt   WT_female_3_50000.cis.lam.txt\r\n",
      "combined_young_down_50000_50000.cis.vecs.txt  WT_female_3_50000.cis.vecs.txt\r\n",
      "KO_female_2_50000.cis.lam.txt\t\t      WT_male_1_50000.cis.lam.txt\r\n",
      "KO_female_2_50000.cis.vecs.txt\t\t      WT_male_1_50000.cis.vecs.txt\r\n",
      "KO_female_3_50000.cis.lam.txt\t\t      young_female_2_50000.cis.lam.txt\r\n",
      "KO_female_3_50000.cis.vecs.txt\t\t      young_female_2_50000.cis.vecs.txt\r\n",
      "KO_male_1_50000.cis.lam.txt\t\t      young_female_3_50000.cis.lam.txt\r\n",
      "KO_male_1_50000.cis.vecs.txt\t\t      young_female_3_50000.cis.vecs.txt\r\n",
      "old_female_2_50000.cis.lam.txt\t\t      young_male_1_50000.cis.lam.txt\r\n",
      "old_female_2_50000.cis.vecs.txt\t\t      young_male_1_50000.cis.vecs.txt\r\n"
     ]
    }
   ],
   "source": [
    "!ls /tank/projects/kriukov_chromatin/HIC/compartments"
   ]
  },
  {
   "cell_type": "code",
   "execution_count": 7,
   "metadata": {
    "ExecuteTime": {
     "end_time": "2022-09-02T15:42:35.007695Z",
     "start_time": "2022-09-02T15:42:31.937789Z"
    }
   },
   "outputs": [],
   "source": [
    "# compartments\n",
    "if not os.path.exists(COMPARTMENTS_PATH):\n",
    "    os.makedirs(COMPARTMENTS_PATH)\n",
    "\n",
    "mm10 = bioframe.fetch_chromsizes('mm10')\n",
    "chromsizes = bioframe.fetch_chromsizes('mm10')\n",
    "chromosomes = list(chromsizes.index)"
   ]
  },
  {
   "cell_type": "code",
   "execution_count": 8,
   "metadata": {
    "ExecuteTime": {
     "end_time": "2022-09-02T15:44:19.567992Z",
     "start_time": "2022-09-02T15:43:17.910302Z"
    }
   },
   "outputs": [],
   "source": [
    "bins = cooler.binnify(mm10, binsize=RESOLUTION)\n",
    "fasta_records = bioframe.load_fasta('%s/GCF_000001635.27_GRCm39_genomic.fna' % GENOME_FOLDER_PATH)\n",
    "\n",
    "###CONVERT REFSEQ to CHROMNAMES\n",
    "fasta_annot = pd.read_csv('%s/GCF_000001635.27_GRCm39_assembly_report.txt' % GENOME_FOLDER_PATH, sep='\\t', skiprows=28)\n",
    "fasta_annot = fasta_annot[fasta_annot['Sequence-Role']=='assembled-molecule']\n",
    "fasta_keys = fasta_annot[['Assigned-Molecule', 'RefSeq-Accn']].set_index('RefSeq-Accn')\n",
    "filt_keys = fasta_keys.loc[list(set(list(fasta_records.keys())).intersection(fasta_keys.index))].to_dict()\n",
    "new_dict = {}\n",
    "for key, item in fasta_records.items():\n",
    "    if key in filt_keys['Assigned-Molecule'].keys():\n",
    "        nk = 'chr' + filt_keys['Assigned-Molecule'][key]\n",
    "        nk = 'chrM' if nk == 'chrMT' else nk\n",
    "        new_dict[nk] = item\n",
    "        \n",
    "gc = bioframe.frac_gc(bins, new_dict)\n",
    "\n",
    "#######\n",
    "bins['GC'] = gc['GC']\n",
    "bins = bins.drop(bins[bins.chrom=='chrM'].index)\n",
    "\n",
    "##additional masking around NaN\n",
    "binstatus = pd.DataFrame({basename(c.filename):c.bins()[:]['weight'] for c in CLRS})\n",
    "mask_indices = binstatus[binstatus.isna().any(1)].index"
   ]
  },
  {
   "cell_type": "code",
   "execution_count": 9,
   "metadata": {
    "ExecuteTime": {
     "end_time": "2022-09-02T15:46:24.586593Z",
     "start_time": "2022-09-02T15:44:19.640000Z"
    }
   },
   "outputs": [],
   "source": [
    "lam = {}\n",
    "eigs = {}\n",
    "\n",
    "for l,c in zip(LBLS, CLRS):\n",
    "    lam[l], eigs[l] = eigs_cis(\n",
    "        c,\n",
    "        phasing_track=bins,\n",
    "        n_eigs=8,\n",
    "        bad_bins=mask_indices,\n",
    "        ignore_diags=2,\n",
    "        sort_metric='var_explained')\n",
    "\n",
    "    # Save text files\n",
    "    lam[l].to_csv(f'{COMPARTMENTS_PATH}/{l}_{RESOLUTION}.cis.lam.txt', sep='\\t')\n",
    "    eigs[l].to_csv(f'{COMPARTMENTS_PATH}/{l}_{RESOLUTION}.cis.vecs.txt', sep='\\t', index=False)"
   ]
  },
  {
   "cell_type": "markdown",
   "metadata": {
    "heading_collapsed": true
   },
   "source": [
    "# ATAC-seq"
   ]
  },
  {
   "cell_type": "code",
   "execution_count": null,
   "metadata": {
    "hidden": true
   },
   "outputs": [],
   "source": []
  },
  {
   "cell_type": "markdown",
   "metadata": {
    "heading_collapsed": true
   },
   "source": [
    "# RNA-seq"
   ]
  },
  {
   "cell_type": "markdown",
   "metadata": {
    "hidden": true
   },
   "source": [
    "* neural stem cells (NSC), \n",
    "* astrocyte-restricted precursors (ARP),\n",
    "* astrocytes (ASC), \n",
    "* oligodendrocyte precursor cells (OPC), \n",
    "* oligodendrocytes (OLG), \n",
    "* lfactory ensheathing glia (OEG), \n",
    "* neuronal-restricted precursors (NRP), \n",
    "* immature neurons (ImmN), \n",
    "* mature neurons (mNEUR),\n",
    "* neuroendocrine cells (NendC), \n",
    "* ependymocytes (EPC), \n",
    "* hypendymal cells (HypEPC), \n",
    "* tanycytes (TNC), \n",
    "* choroid plexus epithelial cells (CPC), \n",
    "* endothelial cells (EC), \n",
    "* pericytes (PC), \n",
    "* vascular smooth muscle cells (VSMC), \n",
    "* hemoglobin-expressing vascular cells (Hb-VC), \n",
    "* vascular and leptomeningeal cells (VLMC), \n",
    "* arachnoid barrier cells (ABC), \n",
    "* microglia (MG), \n",
    "* monocytes (MNC), \n",
    "* macrophages (MAC), \n",
    "* dendritic cells (DC) \n",
    "* neutrophils (NEUT)"
   ]
  },
  {
   "cell_type": "markdown",
   "metadata": {
    "heading_collapsed": true,
    "hidden": true
   },
   "source": [
    "## pseudobulk DE"
   ]
  },
  {
   "cell_type": "code",
   "execution_count": 2,
   "metadata": {
    "ExecuteTime": {
     "end_time": "2022-07-13T12:25:44.181703Z",
     "start_time": "2022-07-13T12:25:41.780527Z"
    },
    "hidden": true
   },
   "outputs": [
    {
     "name": "stderr",
     "output_type": "stream",
     "text": [
      "/home/dkriukov/miniconda3/envs/mice/lib/python3.7/site-packages/IPython/core/interactiveshell.py:3524: FutureWarning: In a future version of pandas all arguments of read_csv except for the argument 'filepath_or_buffer' will be keyword-only\n",
      "  exec(code_obj, self.user_global_ns, self.user_ns)\n"
     ]
    }
   ],
   "source": [
    "rna_list = natsorted(glob('/tank/projects/kriukov_chromatin/RNA/GSE129788/*X.txt'))\n",
    "genes = pd.read_csv(rna_list[0], '\\t').index.tolist()\n",
    "ann = pd.read_csv('/tank/projects/kriukov_chromatin/RNA/GSE129788/GSE129788_Supplementary_meta_data_Cell_Types_Etc.txt', sep='\\t')\n",
    "ann = ann.drop(0)\n",
    "ann['ID'] = ann.NAME.apply(lambda x: x.split('data_')[1])\n",
    "ann['miceID'] = ann.ID.apply(lambda x: x.split('_')[0])\n",
    "ann['ageID'] = ann['animal_type'] + '_' +ann['miceID']\n",
    "ann = ann.set_index('ID')"
   ]
  },
  {
   "cell_type": "code",
   "execution_count": 3,
   "metadata": {
    "ExecuteTime": {
     "end_time": "2022-07-13T12:25:48.586088Z",
     "start_time": "2022-07-13T12:25:48.565731Z"
    },
    "hidden": true
   },
   "outputs": [
    {
     "data": {
      "text/plain": [
       "OLG_Lin       15463\n",
       "ASC_Lin        7097\n",
       "NEURON_Lin     5773\n",
       "IMMUNE_Lin     4448\n",
       "VASC_Lin       3884\n",
       "EPC_Lin         404\n",
       "Name: cell_classes, dtype: int64"
      ]
     },
     "execution_count": 3,
     "metadata": {},
     "output_type": "execute_result"
    }
   ],
   "source": [
    "ann.cell_classes.value_counts()"
   ]
  },
  {
   "cell_type": "code",
   "execution_count": 4,
   "metadata": {
    "ExecuteTime": {
     "end_time": "2022-07-13T12:25:51.417261Z",
     "start_time": "2022-07-13T12:25:51.397065Z"
    },
    "hidden": true
   },
   "outputs": [
    {
     "data": {
      "text/html": [
       "<div>\n",
       "<style scoped>\n",
       "    .dataframe tbody tr th:only-of-type {\n",
       "        vertical-align: middle;\n",
       "    }\n",
       "\n",
       "    .dataframe tbody tr th {\n",
       "        vertical-align: top;\n",
       "    }\n",
       "\n",
       "    .dataframe thead th {\n",
       "        text-align: right;\n",
       "    }\n",
       "</style>\n",
       "<table border=\"1\" class=\"dataframe\">\n",
       "  <thead>\n",
       "    <tr style=\"text-align: right;\">\n",
       "      <th></th>\n",
       "      <th>NAME</th>\n",
       "      <th>nGene</th>\n",
       "      <th>nUMI</th>\n",
       "      <th>cluster</th>\n",
       "      <th>animal_type</th>\n",
       "      <th>cell_classes</th>\n",
       "      <th>cell_type_age</th>\n",
       "      <th>miceID</th>\n",
       "      <th>ageID</th>\n",
       "    </tr>\n",
       "    <tr>\n",
       "      <th>ID</th>\n",
       "      <th></th>\n",
       "      <th></th>\n",
       "      <th></th>\n",
       "      <th></th>\n",
       "      <th></th>\n",
       "      <th></th>\n",
       "      <th></th>\n",
       "      <th></th>\n",
       "      <th></th>\n",
       "    </tr>\n",
       "  </thead>\n",
       "  <tbody>\n",
       "    <tr>\n",
       "      <th>6_AAACCTGAGGCCCTTG</th>\n",
       "      <td>Aging_mouse_brain_portal_data_6_AAACCTGAGGCCCTTG</td>\n",
       "      <td>1546</td>\n",
       "      <td>3546</td>\n",
       "      <td>MG</td>\n",
       "      <td>young</td>\n",
       "      <td>IMMUNE_Lin</td>\n",
       "      <td>MG_young</td>\n",
       "      <td>6</td>\n",
       "      <td>young_6</td>\n",
       "    </tr>\n",
       "    <tr>\n",
       "      <th>6_AAACGGGAGAGACGAA</th>\n",
       "      <td>Aging_mouse_brain_portal_data_6_AAACGGGAGAGACGAA</td>\n",
       "      <td>734</td>\n",
       "      <td>1589</td>\n",
       "      <td>MG</td>\n",
       "      <td>young</td>\n",
       "      <td>IMMUNE_Lin</td>\n",
       "      <td>MG_young</td>\n",
       "      <td>6</td>\n",
       "      <td>young_6</td>\n",
       "    </tr>\n",
       "    <tr>\n",
       "      <th>6_AAAGTAGCAACGATCT</th>\n",
       "      <td>Aging_mouse_brain_portal_data_6_AAAGTAGCAACGATCT</td>\n",
       "      <td>456</td>\n",
       "      <td>1129</td>\n",
       "      <td>MG</td>\n",
       "      <td>young</td>\n",
       "      <td>IMMUNE_Lin</td>\n",
       "      <td>MG_young</td>\n",
       "      <td>6</td>\n",
       "      <td>young_6</td>\n",
       "    </tr>\n",
       "    <tr>\n",
       "      <th>6_AACCGCGCAACAACCT</th>\n",
       "      <td>Aging_mouse_brain_portal_data_6_AACCGCGCAACAACCT</td>\n",
       "      <td>1236</td>\n",
       "      <td>2697</td>\n",
       "      <td>MG</td>\n",
       "      <td>young</td>\n",
       "      <td>IMMUNE_Lin</td>\n",
       "      <td>MG_young</td>\n",
       "      <td>6</td>\n",
       "      <td>young_6</td>\n",
       "    </tr>\n",
       "    <tr>\n",
       "      <th>6_AACTCCCAGTACGTAA</th>\n",
       "      <td>Aging_mouse_brain_portal_data_6_AACTCCCAGTACGTAA</td>\n",
       "      <td>622</td>\n",
       "      <td>1115</td>\n",
       "      <td>MG</td>\n",
       "      <td>young</td>\n",
       "      <td>IMMUNE_Lin</td>\n",
       "      <td>MG_young</td>\n",
       "      <td>6</td>\n",
       "      <td>young_6</td>\n",
       "    </tr>\n",
       "  </tbody>\n",
       "</table>\n",
       "</div>"
      ],
      "text/plain": [
       "                                                                NAME nGene  \\\n",
       "ID                                                                           \n",
       "6_AAACCTGAGGCCCTTG  Aging_mouse_brain_portal_data_6_AAACCTGAGGCCCTTG  1546   \n",
       "6_AAACGGGAGAGACGAA  Aging_mouse_brain_portal_data_6_AAACGGGAGAGACGAA   734   \n",
       "6_AAAGTAGCAACGATCT  Aging_mouse_brain_portal_data_6_AAAGTAGCAACGATCT   456   \n",
       "6_AACCGCGCAACAACCT  Aging_mouse_brain_portal_data_6_AACCGCGCAACAACCT  1236   \n",
       "6_AACTCCCAGTACGTAA  Aging_mouse_brain_portal_data_6_AACTCCCAGTACGTAA   622   \n",
       "\n",
       "                    nUMI cluster animal_type cell_classes cell_type_age  \\\n",
       "ID                                                                        \n",
       "6_AAACCTGAGGCCCTTG  3546      MG       young   IMMUNE_Lin      MG_young   \n",
       "6_AAACGGGAGAGACGAA  1589      MG       young   IMMUNE_Lin      MG_young   \n",
       "6_AAAGTAGCAACGATCT  1129      MG       young   IMMUNE_Lin      MG_young   \n",
       "6_AACCGCGCAACAACCT  2697      MG       young   IMMUNE_Lin      MG_young   \n",
       "6_AACTCCCAGTACGTAA  1115      MG       young   IMMUNE_Lin      MG_young   \n",
       "\n",
       "                   miceID    ageID  \n",
       "ID                                  \n",
       "6_AAACCTGAGGCCCTTG      6  young_6  \n",
       "6_AAACGGGAGAGACGAA      6  young_6  \n",
       "6_AAAGTAGCAACGATCT      6  young_6  \n",
       "6_AACCGCGCAACAACCT      6  young_6  \n",
       "6_AACTCCCAGTACGTAA      6  young_6  "
      ]
     },
     "execution_count": 4,
     "metadata": {},
     "output_type": "execute_result"
    }
   ],
   "source": [
    "ann.head()"
   ]
  },
  {
   "cell_type": "code",
   "execution_count": 12,
   "metadata": {
    "ExecuteTime": {
     "end_time": "2022-07-13T12:28:45.247672Z",
     "start_time": "2022-07-13T12:28:45.232051Z"
    },
    "hidden": true
   },
   "outputs": [
    {
     "name": "stdout",
     "output_type": "stream",
     "text": [
      "Cell classes: ['IMMUNE_Lin' 'OLG_Lin' 'NEURON_Lin' 'VASC_Lin' 'ASC_Lin' 'EPC_Lin'] \n",
      "\n",
      "Cell types:\n",
      " ['MG_young' 'MG_old' 'NEUT_young' 'NEUT_old' 'DC_old' 'DC_young' 'MAC_old'\n",
      " 'MAC_young' 'OLG_young' 'OLG_old' 'OPC_young' 'OPC_old' 'OEG_young'\n",
      " 'OEG_old' 'mNEUR_young' 'mNEUR_old' 'NendC_young' 'NendC_old'\n",
      " 'ImmN_young' 'ImmN_old' 'ABC_young' 'ABC_old' 'VLMC_young' 'VLMC_old'\n",
      " 'EC_young' 'EC_old' 'VSMC_young' 'VSMC_old' 'ASC_young' 'ASC_old'\n",
      " 'NSC_young' 'NSC_old' 'ARP_old' 'ARP_young' 'NRP_young' 'NRP_old'\n",
      " 'PC_young' 'PC_old' 'Hb_VC_young' 'Hb_VC_old' 'CPC_young' 'CPC_old'\n",
      " 'TNC_young' 'TNC_old' 'EPC_young' 'EPC_old' 'HypEPC_young' 'HypEPC_old'\n",
      " 'MNC_young' 'MNC_old']\n"
     ]
    }
   ],
   "source": [
    "print('Cell classes:', ann.cell_classes.unique(), '\\n')\n",
    "print('Cell types:\\n', ann.cell_type_age.unique())"
   ]
  },
  {
   "cell_type": "code",
   "execution_count": 15,
   "metadata": {
    "ExecuteTime": {
     "end_time": "2022-07-13T13:06:14.738460Z",
     "start_time": "2022-07-13T13:05:20.212989Z"
    },
    "hidden": true
   },
   "outputs": [
    {
     "name": "stderr",
     "output_type": "stream",
     "text": [
      "/home/dkriukov/miniconda3/envs/mice/lib/python3.7/site-packages/IPython/core/interactiveshell.py:3524: FutureWarning: In a future version of pandas all arguments of read_csv except for the argument 'filepath_or_buffer' will be keyword-only\n",
      "  exec(code_obj, self.user_global_ns, self.user_ns)\n"
     ]
    }
   ],
   "source": [
    "bycellclass = False\n",
    "\n",
    "if bycellclass:\n",
    "    class_type = 'NEURON_Lin'\n",
    "    target_ann = ann[ann.cell_classes == class_type]\n",
    "else:\n",
    "    cell_type_age = ['mNEUR_young', 'mNEUR_old']\n",
    "    target_ann = ann[ann.cell_type_age.isin(['mNEUR_young', 'mNEUR_old'])]\n",
    "\n",
    "ids = target_ann.index.tolist()\n",
    "rna_count = pd.DataFrame(index=genes)\n",
    "for rna_path in rna_list:\n",
    "    rna = pd.read_csv(rna_path, '\\t')\n",
    "    intsec = rna.columns.intersection(ids)\n",
    "    umi = np.asarray(ann.loc[intsec, 'nUMI']).astype(float)\n",
    "    rna_count = rna_count.merge((np.exp(rna[intsec]) - 1).mul(umi, axis=1) / 10000, \n",
    "                                left_index=True, right_index=True)\n",
    "    "
   ]
  },
  {
   "cell_type": "code",
   "execution_count": 20,
   "metadata": {
    "ExecuteTime": {
     "end_time": "2022-07-13T13:07:21.222224Z",
     "start_time": "2022-07-13T13:07:20.739508Z"
    },
    "hidden": true
   },
   "outputs": [],
   "source": [
    "df = rna_count.T.copy()"
   ]
  },
  {
   "cell_type": "code",
   "execution_count": 21,
   "metadata": {
    "ExecuteTime": {
     "end_time": "2022-07-13T13:07:27.514106Z",
     "start_time": "2022-07-13T13:07:26.627657Z"
    },
    "hidden": true
   },
   "outputs": [],
   "source": [
    "#group by age\n",
    "bulk = df.groupby(target_ann.loc[df.index]['ageID'].tolist()).sum()"
   ]
  },
  {
   "cell_type": "code",
   "execution_count": 23,
   "metadata": {
    "ExecuteTime": {
     "end_time": "2022-07-13T13:07:50.736828Z",
     "start_time": "2022-07-13T13:07:50.726198Z"
    },
    "hidden": true
   },
   "outputs": [],
   "source": [
    "test = bulk.T.copy()"
   ]
  },
  {
   "cell_type": "code",
   "execution_count": 24,
   "metadata": {
    "ExecuteTime": {
     "end_time": "2022-07-13T13:07:52.514813Z",
     "start_time": "2022-07-13T13:07:52.509070Z"
    },
    "hidden": true
   },
   "outputs": [],
   "source": [
    "test = test.astype(int)"
   ]
  },
  {
   "cell_type": "code",
   "execution_count": 25,
   "metadata": {
    "ExecuteTime": {
     "end_time": "2022-07-13T13:07:54.779479Z",
     "start_time": "2022-07-13T13:07:54.731211Z"
    },
    "hidden": true
   },
   "outputs": [],
   "source": [
    "test.to_csv('/tank/projects/kriukov_chromatin/RNA/GSE129788/pseudoBulk_counts_mature_Neurons.csv')"
   ]
  },
  {
   "cell_type": "code",
   "execution_count": 26,
   "metadata": {
    "ExecuteTime": {
     "end_time": "2022-07-13T13:08:01.938953Z",
     "start_time": "2022-07-13T13:07:55.834713Z"
    },
    "hidden": true
   },
   "outputs": [
    {
     "data": {
      "text/plain": [
       "<AxesSubplot:ylabel='Density'>"
      ]
     },
     "execution_count": 26,
     "metadata": {},
     "output_type": "execute_result"
    },
    {
     "data": {
      "image/png": "[encoded data removed]",
      "text/plain": [
       "<Figure size 432x288 with 1 Axes>"
      ]
     },
     "metadata": {
      "needs_background": "light"
     },
     "output_type": "display_data"
    }
   ],
   "source": [
    "np.log(test+1).plot(kind='kde')"
   ]
  },
  {
   "cell_type": "markdown",
   "metadata": {
    "hidden": true
   },
   "source": [
    "## single-cell DE"
   ]
  },
  {
   "cell_type": "code",
   "execution_count": 2,
   "metadata": {
    "ExecuteTime": {
     "end_time": "2022-07-15T10:56:22.157036Z",
     "start_time": "2022-07-15T10:56:21.765735Z"
    },
    "hidden": true
   },
   "outputs": [],
   "source": [
    "import scanpy as sc"
   ]
  },
  {
   "cell_type": "code",
   "execution_count": 27,
   "metadata": {
    "ExecuteTime": {
     "end_time": "2022-07-13T15:26:57.530268Z",
     "start_time": "2022-07-13T15:26:55.765641Z"
    },
    "hidden": true
   },
   "outputs": [
    {
     "name": "stderr",
     "output_type": "stream",
     "text": [
      "/home/dkriukov/miniconda3/envs/mice/lib/python3.7/site-packages/IPython/core/interactiveshell.py:3524: FutureWarning: In a future version of pandas all arguments of read_csv except for the argument 'filepath_or_buffer' will be keyword-only\n",
      "  exec(code_obj, self.user_global_ns, self.user_ns)\n"
     ]
    }
   ],
   "source": [
    "rna_list = natsorted(glob('/tank/projects/kriukov_chromatin/RNA/GSE129788/*X.txt'))\n",
    "genes = pd.read_csv(rna_list[0], '\\t').index.tolist()\n",
    "ann = pd.read_csv('/tank/projects/kriukov_chromatin/RNA/GSE129788/GSE129788_Supplementary_meta_data_Cell_Types_Etc.txt', sep='\\t')\n",
    "ann = ann.drop(0)\n",
    "ann['ID'] = ann.NAME.apply(lambda x: x.split('data_')[1])\n",
    "ann['miceID'] = ann.ID.apply(lambda x: x.split('_')[0])\n",
    "ann['ageID'] = ann['animal_type'] + '_' +ann['miceID']\n",
    "ann = ann.set_index('ID')"
   ]
  },
  {
   "cell_type": "code",
   "execution_count": 79,
   "metadata": {
    "ExecuteTime": {
     "end_time": "2022-07-13T15:52:42.470702Z",
     "start_time": "2022-07-13T15:51:48.902578Z"
    },
    "hidden": true
   },
   "outputs": [],
   "source": [
    "\n",
    "\n",
    "res = pd.concat([pd.read_csv(rna_path, sep='\\t') for rna_path in rna_list], axis=1) #open and merge datasets\n",
    "X = res.T\n",
    "var = pd.DataFrame(X.columns).set_index(0)\n",
    "var['symbol'] = X.columns"
   ]
  },
  {
   "cell_type": "code",
   "execution_count": 100,
   "metadata": {
    "ExecuteTime": {
     "end_time": "2022-07-13T16:01:02.817663Z",
     "start_time": "2022-07-13T16:01:02.782181Z"
    },
    "hidden": true
   },
   "outputs": [],
   "source": [
    "anndata = sc.AnnData(X=X, obs=ann.loc[X.index], dtype=float)"
   ]
  },
  {
   "cell_type": "code",
   "execution_count": 101,
   "metadata": {
    "ExecuteTime": {
     "end_time": "2022-07-13T16:01:07.229980Z",
     "start_time": "2022-07-13T16:01:04.446326Z"
    },
    "hidden": true
   },
   "outputs": [
    {
     "name": "stderr",
     "output_type": "stream",
     "text": [
      "... storing 'nGene' as categorical\n",
      "... storing 'nUMI' as categorical\n",
      "... storing 'cluster' as categorical\n",
      "... storing 'animal_type' as categorical\n",
      "... storing 'cell_classes' as categorical\n",
      "... storing 'cell_type_age' as categorical\n",
      "... storing 'miceID' as categorical\n",
      "... storing 'ageID' as categorical\n"
     ]
    }
   ],
   "source": [
    "anndata.write(filename='/tank/projects/kriukov_chromatin/RNA/GSE129788_scrna.h5ad')"
   ]
  },
  {
   "cell_type": "code",
   "execution_count": 3,
   "metadata": {
    "ExecuteTime": {
     "end_time": "2022-07-15T10:56:38.384859Z",
     "start_time": "2022-07-15T10:56:31.947340Z"
    },
    "hidden": true
   },
   "outputs": [],
   "source": [
    "anndata = sc.read_h5ad('/tank/projects/kriukov_chromatin/RNA/GSE129788_scrna.h5ad')"
   ]
  },
  {
   "cell_type": "code",
   "execution_count": 4,
   "metadata": {
    "ExecuteTime": {
     "end_time": "2022-07-15T10:56:41.163404Z",
     "start_time": "2022-07-15T10:56:38.414938Z"
    },
    "hidden": true
   },
   "outputs": [
    {
     "name": "stderr",
     "output_type": "stream",
     "text": [
      "2022-07-15 13:56:38.622416: I tensorflow/core/platform/cpu_feature_guard.cc:193] This TensorFlow binary is optimized with oneAPI Deep Neural Network Library (oneDNN) to use the following CPU instructions in performance-critical operations:  AVX2 AVX512F AVX512_VNNI FMA\n",
      "To enable them in other operations, rebuild TensorFlow with the appropriate compiler flags.\n",
      "2022-07-15 13:56:39.021102: I tensorflow/core/util/util.cc:169] oneDNN custom operations are on. You may see slightly different numerical results due to floating-point round-off errors from different computation orders. To turn them off, set the environment variable `TF_ENABLE_ONEDNN_OPTS=0`.\n",
      "2022-07-15 13:56:39.116663: W tensorflow/stream_executor/platform/default/dso_loader.cc:64] Could not load dynamic library 'libcudart.so.11.0'; dlerror: libcudart.so.11.0: cannot open shared object file: No such file or directory\n",
      "2022-07-15 13:56:39.116708: I tensorflow/stream_executor/cuda/cudart_stub.cc:29] Ignore above cudart dlerror if you do not have a GPU set up on your machine.\n",
      "2022-07-15 13:56:39.179490: E tensorflow/stream_executor/cuda/cuda_blas.cc:2981] Unable to register cuBLAS factory: Attempting to register factory for plugin cuBLAS when one has already been registered\n",
      "2022-07-15 13:56:40.284924: W tensorflow/stream_executor/platform/default/dso_loader.cc:64] Could not load dynamic library 'libnvinfer.so.7'; dlerror: libnvinfer.so.7: cannot open shared object file: No such file or directory\n",
      "2022-07-15 13:56:40.285155: W tensorflow/stream_executor/platform/default/dso_loader.cc:64] Could not load dynamic library 'libnvinfer_plugin.so.7'; dlerror: libnvinfer_plugin.so.7: cannot open shared object file: No such file or directory\n",
      "2022-07-15 13:56:40.285179: W tensorflow/compiler/tf2tensorrt/utils/py_utils.cc:38] TF-TRT Warning: Cannot dlopen some TensorRT libraries. If you would like to use Nvidia GPU with TensorRT, please make sure the missing libraries mentioned above are installed properly.\n"
     ]
    }
   ],
   "source": [
    "#below DE analysis with diffxpy\n",
    "import diffxpy.api as de"
   ]
  },
  {
   "cell_type": "code",
   "execution_count": 5,
   "metadata": {
    "ExecuteTime": {
     "end_time": "2022-07-14T09:27:43.239531Z",
     "start_time": "2022-07-14T09:27:43.225680Z"
    },
    "hidden": true
   },
   "outputs": [
    {
     "data": {
      "text/plain": [
       "Index(['NAME', 'nGene', 'nUMI', 'cluster', 'animal_type', 'cell_classes',\n",
       "       'cell_type_age', 'miceID', 'ageID'],\n",
       "      dtype='object')"
      ]
     },
     "execution_count": 5,
     "metadata": {},
     "output_type": "execute_result"
    }
   ],
   "source": [
    "anndata.obs.columns"
   ]
  },
  {
   "cell_type": "code",
   "execution_count": 6,
   "metadata": {
    "ExecuteTime": {
     "end_time": "2022-07-15T10:57:46.506935Z",
     "start_time": "2022-07-15T10:57:46.496696Z"
    },
    "hidden": true
   },
   "outputs": [
    {
     "data": {
      "text/plain": [
       "['MG_young',\n",
       " 'NEUT_young',\n",
       " 'DC_young',\n",
       " 'MAC_young',\n",
       " 'OLG_young',\n",
       " 'OPC_young',\n",
       " 'OEG_young',\n",
       " 'mNEUR_young',\n",
       " 'NendC_young',\n",
       " 'ImmN_young',\n",
       " 'ABC_young',\n",
       " 'VLMC_young',\n",
       " 'EC_young',\n",
       " 'VSMC_young',\n",
       " 'ASC_young',\n",
       " 'NSC_young',\n",
       " 'ARP_young',\n",
       " 'NRP_young',\n",
       " 'PC_young',\n",
       " 'Hb_VC_young',\n",
       " 'CPC_young',\n",
       " 'TNC_young',\n",
       " 'EPC_young',\n",
       " 'MNC_young',\n",
       " 'HypEPC_young',\n",
       " 'MG_old',\n",
       " 'DC_old',\n",
       " 'MAC_old',\n",
       " 'OLG_old',\n",
       " 'OPC_old',\n",
       " 'OEG_old',\n",
       " 'mNEUR_old',\n",
       " 'NendC_old',\n",
       " 'ImmN_old',\n",
       " 'ABC_old',\n",
       " 'VLMC_old',\n",
       " 'EC_old',\n",
       " 'VSMC_old',\n",
       " 'ASC_old',\n",
       " 'NSC_old',\n",
       " 'ARP_old',\n",
       " 'PC_old',\n",
       " 'Hb_VC_old',\n",
       " 'CPC_old',\n",
       " 'TNC_old',\n",
       " 'EPC_old',\n",
       " 'MNC_old',\n",
       " 'NEUT_old',\n",
       " 'NRP_old',\n",
       " 'HypEPC_old']"
      ]
     },
     "execution_count": 6,
     "metadata": {},
     "output_type": "execute_result"
    }
   ],
   "source": [
    "anndata.obs['cell_type_age'].unique().tolist()"
   ]
  },
  {
   "cell_type": "code",
   "execution_count": 7,
   "metadata": {
    "ExecuteTime": {
     "end_time": "2022-07-15T10:58:44.740997Z",
     "start_time": "2022-07-15T10:58:44.718198Z"
    },
    "hidden": true
   },
   "outputs": [],
   "source": [
    "\n",
    "#cross = [x + '_' + y for x,y in zip(anndata.obs['animal_type'].tolist(), anndata.obs['miceID'].tolist())]\n",
    "#anndata.obs['age_miceID'] = cross\n",
    "\n",
    "#subset = anndata.obs[anndata.obs['cell_type_age'].isin(['mNEUR_young', 'mNEUR_old'])].index\n",
    "\n",
    "subset = anndata.obs[anndata.obs['cell_type_age'].isin(['ASC_young', 'ASC_old'])].index\n",
    "annsub = anndata[subset, :]"
   ]
  },
  {
   "cell_type": "code",
   "execution_count": 9,
   "metadata": {
    "ExecuteTime": {
     "end_time": "2022-07-15T10:58:53.214511Z",
     "start_time": "2022-07-15T10:58:53.204855Z"
    },
    "hidden": true
   },
   "outputs": [
    {
     "data": {
      "text/plain": [
       "6747"
      ]
     },
     "execution_count": 9,
     "metadata": {},
     "output_type": "execute_result"
    }
   ],
   "source": [
    "annsub.obs.miceID.value_counts().sum()"
   ]
  },
  {
   "cell_type": "code",
   "execution_count": 8,
   "metadata": {
    "ExecuteTime": {
     "end_time": "2022-07-14T09:27:47.964770Z",
     "start_time": "2022-07-14T09:27:47.924291Z"
    },
    "hidden": true
   },
   "outputs": [
    {
     "data": {
      "text/html": [
       "<div>\n",
       "<style scoped>\n",
       "    .dataframe tbody tr th:only-of-type {\n",
       "        vertical-align: middle;\n",
       "    }\n",
       "\n",
       "    .dataframe tbody tr th {\n",
       "        vertical-align: top;\n",
       "    }\n",
       "\n",
       "    .dataframe thead th {\n",
       "        text-align: right;\n",
       "    }\n",
       "</style>\n",
       "<table border=\"1\" class=\"dataframe\">\n",
       "  <thead>\n",
       "    <tr style=\"text-align: right;\">\n",
       "      <th></th>\n",
       "      <th>NAME</th>\n",
       "      <th>nGene</th>\n",
       "      <th>nUMI</th>\n",
       "      <th>cluster</th>\n",
       "      <th>animal_type</th>\n",
       "      <th>cell_classes</th>\n",
       "      <th>cell_type_age</th>\n",
       "      <th>miceID</th>\n",
       "      <th>ageID</th>\n",
       "    </tr>\n",
       "  </thead>\n",
       "  <tbody>\n",
       "    <tr>\n",
       "      <th>6_AAACCTGTCACGCGGT</th>\n",
       "      <td>Aging_mouse_brain_portal_data_6_AAACCTGTCACGCGGT</td>\n",
       "      <td>2792</td>\n",
       "      <td>5951</td>\n",
       "      <td>mNEUR</td>\n",
       "      <td>young</td>\n",
       "      <td>NEURON_Lin</td>\n",
       "      <td>mNEUR_young</td>\n",
       "      <td>6</td>\n",
       "      <td>young_6</td>\n",
       "    </tr>\n",
       "    <tr>\n",
       "      <th>6_AACCATGAGACAGAGA</th>\n",
       "      <td>Aging_mouse_brain_portal_data_6_AACCATGAGACAGAGA</td>\n",
       "      <td>2605</td>\n",
       "      <td>6082</td>\n",
       "      <td>mNEUR</td>\n",
       "      <td>young</td>\n",
       "      <td>NEURON_Lin</td>\n",
       "      <td>mNEUR_young</td>\n",
       "      <td>6</td>\n",
       "      <td>young_6</td>\n",
       "    </tr>\n",
       "    <tr>\n",
       "      <th>6_AACCATGTCCTTGGTC</th>\n",
       "      <td>Aging_mouse_brain_portal_data_6_AACCATGTCCTTGGTC</td>\n",
       "      <td>636</td>\n",
       "      <td>947</td>\n",
       "      <td>mNEUR</td>\n",
       "      <td>young</td>\n",
       "      <td>NEURON_Lin</td>\n",
       "      <td>mNEUR_young</td>\n",
       "      <td>6</td>\n",
       "      <td>young_6</td>\n",
       "    </tr>\n",
       "    <tr>\n",
       "      <th>6_AACTCTTAGGATGTAT</th>\n",
       "      <td>Aging_mouse_brain_portal_data_6_AACTCTTAGGATGTAT</td>\n",
       "      <td>1339</td>\n",
       "      <td>2274</td>\n",
       "      <td>mNEUR</td>\n",
       "      <td>young</td>\n",
       "      <td>NEURON_Lin</td>\n",
       "      <td>mNEUR_young</td>\n",
       "      <td>6</td>\n",
       "      <td>young_6</td>\n",
       "    </tr>\n",
       "    <tr>\n",
       "      <th>6_AACTGGTTCCGTCAAA</th>\n",
       "      <td>Aging_mouse_brain_portal_data_6_AACTGGTTCCGTCAAA</td>\n",
       "      <td>3219</td>\n",
       "      <td>7182</td>\n",
       "      <td>mNEUR</td>\n",
       "      <td>young</td>\n",
       "      <td>NEURON_Lin</td>\n",
       "      <td>mNEUR_young</td>\n",
       "      <td>6</td>\n",
       "      <td>young_6</td>\n",
       "    </tr>\n",
       "    <tr>\n",
       "      <th>...</th>\n",
       "      <td>...</td>\n",
       "      <td>...</td>\n",
       "      <td>...</td>\n",
       "      <td>...</td>\n",
       "      <td>...</td>\n",
       "      <td>...</td>\n",
       "      <td>...</td>\n",
       "      <td>...</td>\n",
       "      <td>...</td>\n",
       "    </tr>\n",
       "    <tr>\n",
       "      <th>44_GGACGTCAGTCCATAC</th>\n",
       "      <td>Aging_mouse_brain_portal_data_44_GGACGTCAGTCCATAC</td>\n",
       "      <td>659</td>\n",
       "      <td>1133</td>\n",
       "      <td>mNEUR</td>\n",
       "      <td>old</td>\n",
       "      <td>NEURON_Lin</td>\n",
       "      <td>mNEUR_old</td>\n",
       "      <td>44</td>\n",
       "      <td>old_44</td>\n",
       "    </tr>\n",
       "    <tr>\n",
       "      <th>44_GTAACGTAGAGGTTGC</th>\n",
       "      <td>Aging_mouse_brain_portal_data_44_GTAACGTAGAGGTTGC</td>\n",
       "      <td>938</td>\n",
       "      <td>1472</td>\n",
       "      <td>mNEUR</td>\n",
       "      <td>old</td>\n",
       "      <td>NEURON_Lin</td>\n",
       "      <td>mNEUR_old</td>\n",
       "      <td>44</td>\n",
       "      <td>old_44</td>\n",
       "    </tr>\n",
       "    <tr>\n",
       "      <th>44_GTTTCTAAGCAGACTG</th>\n",
       "      <td>Aging_mouse_brain_portal_data_44_GTTTCTAAGCAGACTG</td>\n",
       "      <td>968</td>\n",
       "      <td>1502</td>\n",
       "      <td>mNEUR</td>\n",
       "      <td>old</td>\n",
       "      <td>NEURON_Lin</td>\n",
       "      <td>mNEUR_old</td>\n",
       "      <td>44</td>\n",
       "      <td>old_44</td>\n",
       "    </tr>\n",
       "    <tr>\n",
       "      <th>44_TCAACGATCCAGAAGG</th>\n",
       "      <td>Aging_mouse_brain_portal_data_44_TCAACGATCCAGAAGG</td>\n",
       "      <td>1242</td>\n",
       "      <td>2066</td>\n",
       "      <td>mNEUR</td>\n",
       "      <td>old</td>\n",
       "      <td>NEURON_Lin</td>\n",
       "      <td>mNEUR_old</td>\n",
       "      <td>44</td>\n",
       "      <td>old_44</td>\n",
       "    </tr>\n",
       "    <tr>\n",
       "      <th>44_TTTACTGAGTCTTGCA</th>\n",
       "      <td>Aging_mouse_brain_portal_data_44_TTTACTGAGTCTTGCA</td>\n",
       "      <td>1729</td>\n",
       "      <td>3271</td>\n",
       "      <td>mNEUR</td>\n",
       "      <td>old</td>\n",
       "      <td>NEURON_Lin</td>\n",
       "      <td>mNEUR_old</td>\n",
       "      <td>44</td>\n",
       "      <td>old_44</td>\n",
       "    </tr>\n",
       "  </tbody>\n",
       "</table>\n",
       "<p>5135 rows × 9 columns</p>\n",
       "</div>"
      ],
      "text/plain": [
       "                                                                  NAME nGene  \\\n",
       "6_AAACCTGTCACGCGGT    Aging_mouse_brain_portal_data_6_AAACCTGTCACGCGGT  2792   \n",
       "6_AACCATGAGACAGAGA    Aging_mouse_brain_portal_data_6_AACCATGAGACAGAGA  2605   \n",
       "6_AACCATGTCCTTGGTC    Aging_mouse_brain_portal_data_6_AACCATGTCCTTGGTC   636   \n",
       "6_AACTCTTAGGATGTAT    Aging_mouse_brain_portal_data_6_AACTCTTAGGATGTAT  1339   \n",
       "6_AACTGGTTCCGTCAAA    Aging_mouse_brain_portal_data_6_AACTGGTTCCGTCAAA  3219   \n",
       "...                                                                ...   ...   \n",
       "44_GGACGTCAGTCCATAC  Aging_mouse_brain_portal_data_44_GGACGTCAGTCCATAC   659   \n",
       "44_GTAACGTAGAGGTTGC  Aging_mouse_brain_portal_data_44_GTAACGTAGAGGTTGC   938   \n",
       "44_GTTTCTAAGCAGACTG  Aging_mouse_brain_portal_data_44_GTTTCTAAGCAGACTG   968   \n",
       "44_TCAACGATCCAGAAGG  Aging_mouse_brain_portal_data_44_TCAACGATCCAGAAGG  1242   \n",
       "44_TTTACTGAGTCTTGCA  Aging_mouse_brain_portal_data_44_TTTACTGAGTCTTGCA  1729   \n",
       "\n",
       "                     nUMI cluster animal_type cell_classes cell_type_age  \\\n",
       "6_AAACCTGTCACGCGGT   5951   mNEUR       young   NEURON_Lin   mNEUR_young   \n",
       "6_AACCATGAGACAGAGA   6082   mNEUR       young   NEURON_Lin   mNEUR_young   \n",
       "6_AACCATGTCCTTGGTC    947   mNEUR       young   NEURON_Lin   mNEUR_young   \n",
       "6_AACTCTTAGGATGTAT   2274   mNEUR       young   NEURON_Lin   mNEUR_young   \n",
       "6_AACTGGTTCCGTCAAA   7182   mNEUR       young   NEURON_Lin   mNEUR_young   \n",
       "...                   ...     ...         ...          ...           ...   \n",
       "44_GGACGTCAGTCCATAC  1133   mNEUR         old   NEURON_Lin     mNEUR_old   \n",
       "44_GTAACGTAGAGGTTGC  1472   mNEUR         old   NEURON_Lin     mNEUR_old   \n",
       "44_GTTTCTAAGCAGACTG  1502   mNEUR         old   NEURON_Lin     mNEUR_old   \n",
       "44_TCAACGATCCAGAAGG  2066   mNEUR         old   NEURON_Lin     mNEUR_old   \n",
       "44_TTTACTGAGTCTTGCA  3271   mNEUR         old   NEURON_Lin     mNEUR_old   \n",
       "\n",
       "                    miceID    ageID  \n",
       "6_AAACCTGTCACGCGGT       6  young_6  \n",
       "6_AACCATGAGACAGAGA       6  young_6  \n",
       "6_AACCATGTCCTTGGTC       6  young_6  \n",
       "6_AACTCTTAGGATGTAT       6  young_6  \n",
       "6_AACTGGTTCCGTCAAA       6  young_6  \n",
       "...                    ...      ...  \n",
       "44_GGACGTCAGTCCATAC     44   old_44  \n",
       "44_GTAACGTAGAGGTTGC     44   old_44  \n",
       "44_GTTTCTAAGCAGACTG     44   old_44  \n",
       "44_TCAACGATCCAGAAGG     44   old_44  \n",
       "44_TTTACTGAGTCTTGCA     44   old_44  \n",
       "\n",
       "[5135 rows x 9 columns]"
      ]
     },
     "execution_count": 8,
     "metadata": {},
     "output_type": "execute_result"
    }
   ],
   "source": [
    "annsub.obs"
   ]
  },
  {
   "cell_type": "code",
   "execution_count": 69,
   "metadata": {
    "ExecuteTime": {
     "end_time": "2022-07-14T05:33:09.268387Z",
     "start_time": "2022-07-14T05:33:09.241330Z"
    },
    "hidden": true
   },
   "outputs": [],
   "source": [
    "# import patsy\n",
    "# pat = patsy.dmatrix(formula_like=\"~ 1 + animal_type + miceID\", data=anndata.obs, return_type='dataframe')\n",
    "# pat.shape\n",
    "# np.linalg.matrix_rank(pat)"
   ]
  },
  {
   "cell_type": "code",
   "execution_count": 18,
   "metadata": {
    "ExecuteTime": {
     "end_time": "2022-07-14T09:58:34.001882Z",
     "start_time": "2022-07-14T09:58:33.935969Z"
    },
    "hidden": true
   },
   "outputs": [
    {
     "data": {
      "text/plain": [
       "['Intercept', 'animal_type[T.young]']"
      ]
     },
     "execution_count": 18,
     "metadata": {},
     "output_type": "execute_result"
    }
   ],
   "source": [
    "de.utils.preview_coef_names(\n",
    "    sample_description=anndata.obs,\n",
    "    formula=\"~ 1 + animal_type\"\n",
    ")"
   ]
  },
  {
   "cell_type": "code",
   "execution_count": null,
   "metadata": {
    "ExecuteTime": {
     "end_time": "2022-07-14T10:00:27.102086Z",
     "start_time": "2022-07-14T10:00:27.043345Z"
    },
    "hidden": true,
    "scrolled": false
   },
   "outputs": [],
   "source": [
    "# test = de.test.wald(\n",
    "#     data=annsub,\n",
    "#     formula_loc=\"~1 + animal_type\",\n",
    "#     factor_loc_totest=\"animal_type\",\n",
    "# )"
   ]
  },
  {
   "cell_type": "code",
   "execution_count": 10,
   "metadata": {
    "ExecuteTime": {
     "end_time": "2022-07-15T10:59:14.499205Z",
     "start_time": "2022-07-15T10:59:13.485732Z"
    },
    "hidden": true
   },
   "outputs": [],
   "source": [
    "test_2s = de.test.two_sample(\n",
    "    data=annsub, \n",
    "    grouping=\"animal_type\",\n",
    "    test=\"t_test\"\n",
    ")"
   ]
  },
  {
   "cell_type": "code",
   "execution_count": null,
   "metadata": {
    "hidden": true
   },
   "outputs": [],
   "source": []
  },
  {
   "cell_type": "code",
   "execution_count": 12,
   "metadata": {
    "ExecuteTime": {
     "end_time": "2022-07-15T10:59:49.168147Z",
     "start_time": "2022-07-15T10:59:48.814708Z"
    },
    "hidden": true
   },
   "outputs": [
    {
     "data": {
      "image/png": "[encoded data removed]",
      "text/plain": [
       "<Figure size 432x288 with 1 Axes>"
      ]
     },
     "metadata": {
      "needs_background": "light"
     },
     "output_type": "display_data"
    }
   ],
   "source": [
    "test_2s.summary().sort_values('log2fc')\n",
    "test_2s.plot_volcano(corrected_pval=True, min_fc=1.05, alpha=0.05, size=5)"
   ]
  },
  {
   "cell_type": "code",
   "execution_count": 13,
   "metadata": {
    "ExecuteTime": {
     "end_time": "2022-07-15T10:59:50.115552Z",
     "start_time": "2022-07-15T10:59:50.108707Z"
    },
    "hidden": true
   },
   "outputs": [],
   "source": [
    "res = test_2s.summary()"
   ]
  },
  {
   "cell_type": "code",
   "execution_count": 14,
   "metadata": {
    "ExecuteTime": {
     "end_time": "2022-07-15T10:59:50.699006Z",
     "start_time": "2022-07-15T10:59:50.688306Z"
    },
    "hidden": true
   },
   "outputs": [],
   "source": [
    "dr = res[(res.log2fc < 0)].sort_values('pval').gene[:10].values.tolist()\n",
    "ur = res[(res.log2fc > 0)].sort_values('pval').gene[:10].values.tolist()\n",
    "top = ur + dr"
   ]
  },
  {
   "cell_type": "code",
   "execution_count": 50,
   "metadata": {
    "ExecuteTime": {
     "end_time": "2022-07-14T10:28:45.750053Z",
     "start_time": "2022-07-14T10:28:45.731471Z"
    },
    "hidden": true
   },
   "outputs": [
    {
     "data": {
      "text/html": [
       "<div>\n",
       "<style scoped>\n",
       "    .dataframe tbody tr th:only-of-type {\n",
       "        vertical-align: middle;\n",
       "    }\n",
       "\n",
       "    .dataframe tbody tr th {\n",
       "        vertical-align: top;\n",
       "    }\n",
       "\n",
       "    .dataframe thead th {\n",
       "        text-align: right;\n",
       "    }\n",
       "</style>\n",
       "<table border=\"1\" class=\"dataframe\">\n",
       "  <thead>\n",
       "    <tr style=\"text-align: right;\">\n",
       "      <th></th>\n",
       "      <th>gene</th>\n",
       "      <th>pval</th>\n",
       "      <th>qval</th>\n",
       "      <th>log2fc</th>\n",
       "      <th>mean</th>\n",
       "      <th>zero_mean</th>\n",
       "      <th>zero_variance</th>\n",
       "    </tr>\n",
       "  </thead>\n",
       "  <tbody>\n",
       "    <tr>\n",
       "      <th>4375</th>\n",
       "      <td>Pisd</td>\n",
       "      <td>0.002124</td>\n",
       "      <td>0.043515</td>\n",
       "      <td>-0.248037</td>\n",
       "      <td>0.352176</td>\n",
       "      <td>False</td>\n",
       "      <td>False</td>\n",
       "    </tr>\n",
       "  </tbody>\n",
       "</table>\n",
       "</div>"
      ],
      "text/plain": [
       "      gene      pval      qval    log2fc      mean  zero_mean  zero_variance\n",
       "4375  Pisd  0.002124  0.043515 -0.248037  0.352176      False          False"
      ]
     },
     "execution_count": 50,
     "metadata": {},
     "output_type": "execute_result"
    }
   ],
   "source": [
    "res[res.gene=='Pisd']"
   ]
  },
  {
   "cell_type": "code",
   "execution_count": 54,
   "metadata": {
    "ExecuteTime": {
     "end_time": "2022-07-14T11:23:41.023607Z",
     "start_time": "2022-07-14T11:23:40.992080Z"
    },
    "hidden": true
   },
   "outputs": [
    {
     "data": {
      "text/html": [
       "<div>\n",
       "<style scoped>\n",
       "    .dataframe tbody tr th:only-of-type {\n",
       "        vertical-align: middle;\n",
       "    }\n",
       "\n",
       "    .dataframe tbody tr th {\n",
       "        vertical-align: top;\n",
       "    }\n",
       "\n",
       "    .dataframe thead th {\n",
       "        text-align: right;\n",
       "    }\n",
       "</style>\n",
       "<table border=\"1\" class=\"dataframe\">\n",
       "  <thead>\n",
       "    <tr style=\"text-align: right;\">\n",
       "      <th></th>\n",
       "      <th>gene</th>\n",
       "      <th>pval</th>\n",
       "      <th>qval</th>\n",
       "      <th>log2fc</th>\n",
       "      <th>mean</th>\n",
       "      <th>zero_mean</th>\n",
       "      <th>zero_variance</th>\n",
       "    </tr>\n",
       "  </thead>\n",
       "  <tbody>\n",
       "    <tr>\n",
       "      <th>0</th>\n",
       "      <td>Sox17</td>\n",
       "      <td>2.349176e-01</td>\n",
       "      <td>5.914318e-01</td>\n",
       "      <td>-1.323657</td>\n",
       "      <td>0.002042</td>\n",
       "      <td>False</td>\n",
       "      <td>False</td>\n",
       "    </tr>\n",
       "    <tr>\n",
       "      <th>1</th>\n",
       "      <td>Mrpl15</td>\n",
       "      <td>1.006543e-01</td>\n",
       "      <td>4.118609e-01</td>\n",
       "      <td>-0.183247</td>\n",
       "      <td>0.189106</td>\n",
       "      <td>False</td>\n",
       "      <td>False</td>\n",
       "    </tr>\n",
       "    <tr>\n",
       "      <th>2</th>\n",
       "      <td>Lypla1</td>\n",
       "      <td>2.876536e-01</td>\n",
       "      <td>6.493459e-01</td>\n",
       "      <td>-0.150355</td>\n",
       "      <td>0.118566</td>\n",
       "      <td>False</td>\n",
       "      <td>False</td>\n",
       "    </tr>\n",
       "    <tr>\n",
       "      <th>3</th>\n",
       "      <td>Tcea1</td>\n",
       "      <td>1.239994e-02</td>\n",
       "      <td>1.349966e-01</td>\n",
       "      <td>-0.247740</td>\n",
       "      <td>0.237608</td>\n",
       "      <td>False</td>\n",
       "      <td>False</td>\n",
       "    </tr>\n",
       "    <tr>\n",
       "      <th>4</th>\n",
       "      <td>Rgs20</td>\n",
       "      <td>6.180311e-03</td>\n",
       "      <td>8.712790e-02</td>\n",
       "      <td>0.458945</td>\n",
       "      <td>0.084375</td>\n",
       "      <td>False</td>\n",
       "      <td>False</td>\n",
       "    </tr>\n",
       "    <tr>\n",
       "      <th>...</th>\n",
       "      <td>...</td>\n",
       "      <td>...</td>\n",
       "      <td>...</td>\n",
       "      <td>...</td>\n",
       "      <td>...</td>\n",
       "      <td>...</td>\n",
       "      <td>...</td>\n",
       "    </tr>\n",
       "    <tr>\n",
       "      <th>14694</th>\n",
       "      <td>mt-Cytb</td>\n",
       "      <td>1.961433e-60</td>\n",
       "      <td>9.438414e-57</td>\n",
       "      <td>0.089686</td>\n",
       "      <td>4.701615</td>\n",
       "      <td>False</td>\n",
       "      <td>False</td>\n",
       "    </tr>\n",
       "    <tr>\n",
       "      <th>14695</th>\n",
       "      <td>Vamp7</td>\n",
       "      <td>9.824077e-02</td>\n",
       "      <td>4.075327e-01</td>\n",
       "      <td>-0.198812</td>\n",
       "      <td>0.161234</td>\n",
       "      <td>False</td>\n",
       "      <td>False</td>\n",
       "    </tr>\n",
       "    <tr>\n",
       "      <th>14696</th>\n",
       "      <td>AC168977.1</td>\n",
       "      <td>1.675183e-02</td>\n",
       "      <td>1.606818e-01</td>\n",
       "      <td>-1065.438419</td>\n",
       "      <td>0.001591</td>\n",
       "      <td>False</td>\n",
       "      <td>False</td>\n",
       "    </tr>\n",
       "    <tr>\n",
       "      <th>14697</th>\n",
       "      <td>PISD</td>\n",
       "      <td>2.927701e-41</td>\n",
       "      <td>5.283037e-38</td>\n",
       "      <td>-0.514795</td>\n",
       "      <td>1.189392</td>\n",
       "      <td>False</td>\n",
       "      <td>False</td>\n",
       "    </tr>\n",
       "    <tr>\n",
       "      <th>14698</th>\n",
       "      <td>DHRSX</td>\n",
       "      <td>7.037413e-01</td>\n",
       "      <td>8.990450e-01</td>\n",
       "      <td>0.049971</td>\n",
       "      <td>0.143008</td>\n",
       "      <td>False</td>\n",
       "      <td>False</td>\n",
       "    </tr>\n",
       "  </tbody>\n",
       "</table>\n",
       "<p>14699 rows × 7 columns</p>\n",
       "</div>"
      ],
      "text/plain": [
       "             gene          pval          qval       log2fc      mean  \\\n",
       "0           Sox17  2.349176e-01  5.914318e-01    -1.323657  0.002042   \n",
       "1          Mrpl15  1.006543e-01  4.118609e-01    -0.183247  0.189106   \n",
       "2          Lypla1  2.876536e-01  6.493459e-01    -0.150355  0.118566   \n",
       "3           Tcea1  1.239994e-02  1.349966e-01    -0.247740  0.237608   \n",
       "4           Rgs20  6.180311e-03  8.712790e-02     0.458945  0.084375   \n",
       "...           ...           ...           ...          ...       ...   \n",
       "14694     mt-Cytb  1.961433e-60  9.438414e-57     0.089686  4.701615   \n",
       "14695       Vamp7  9.824077e-02  4.075327e-01    -0.198812  0.161234   \n",
       "14696  AC168977.1  1.675183e-02  1.606818e-01 -1065.438419  0.001591   \n",
       "14697        PISD  2.927701e-41  5.283037e-38    -0.514795  1.189392   \n",
       "14698       DHRSX  7.037413e-01  8.990450e-01     0.049971  0.143008   \n",
       "\n",
       "       zero_mean  zero_variance  \n",
       "0          False          False  \n",
       "1          False          False  \n",
       "2          False          False  \n",
       "3          False          False  \n",
       "4          False          False  \n",
       "...          ...            ...  \n",
       "14694      False          False  \n",
       "14695      False          False  \n",
       "14696      False          False  \n",
       "14697      False          False  \n",
       "14698      False          False  \n",
       "\n",
       "[14699 rows x 7 columns]"
      ]
     },
     "execution_count": 54,
     "metadata": {},
     "output_type": "execute_result"
    }
   ],
   "source": [
    "res"
   ]
  },
  {
   "cell_type": "code",
   "execution_count": 15,
   "metadata": {
    "ExecuteTime": {
     "end_time": "2022-07-15T11:00:03.535759Z",
     "start_time": "2022-07-15T11:00:03.393673Z"
    },
    "hidden": true
   },
   "outputs": [],
   "source": [
    "res.to_csv('subdata/scDE_ASC_results_GSE129788_old::young.csv')"
   ]
  },
  {
   "cell_type": "code",
   "execution_count": 16,
   "metadata": {
    "ExecuteTime": {
     "end_time": "2022-07-15T11:00:04.570803Z",
     "start_time": "2022-07-15T11:00:04.182922Z"
    },
    "hidden": true
   },
   "outputs": [
    {
     "data": {
      "image/png": "[encoded data removed]",
      "text/plain": [
       "<Figure size 432x288 with 1 Axes>"
      ]
     },
     "metadata": {
      "needs_background": "light"
     },
     "output_type": "display_data"
    }
   ],
   "source": [
    "test_2s.plot_ma()"
   ]
  }
 ],
 "metadata": {
  "kernelspec": {
   "display_name": "Python 3 (ipykernel)",
   "language": "python",
   "name": "python3"
  },
  "language_info": {
   "codemirror_mode": {
    "name": "ipython",
    "version": 3
   },
   "file_extension": ".py",
   "mimetype": "text/x-python",
   "name": "python",
   "nbconvert_exporter": "python",
   "pygments_lexer": "ipython3",
   "version": "3.7.12"
  },
  "toc": {
   "base_numbering": 1,
   "nav_menu": {},
   "number_sections": true,
   "sideBar": true,
   "skip_h1_title": false,
   "title_cell": "Table of Contents",
   "title_sidebar": "Contents",
   "toc_cell": false,
   "toc_position": {},
   "toc_section_display": true,
   "toc_window_display": true
  },
  "varInspector": {
   "cols": {
    "lenName": 16,
    "lenType": 16,
    "lenVar": 40
   },
   "kernels_config": {
    "python": {
     "delete_cmd_postfix": "",
     "delete_cmd_prefix": "del ",
     "library": "var_list.py",
     "varRefreshCmd": "print(var_dic_list())"
    },
    "r": {
     "delete_cmd_postfix": ") ",
     "delete_cmd_prefix": "rm(",
     "library": "var_list.r",
     "varRefreshCmd": "cat(var_dic_list()) "
    }
   },
   "types_to_exclude": [
    "module",
    "function",
    "builtin_function_or_method",
    "instance",
    "_Feature"
   ],
   "window_display": false
  },
  "vscode": {
   "interpreter": {
    "hash": "31f2aee4e71d21fbe5cf8b01ff0e069b9275f58929596ceb00d14d90e3e16cd6"
   }
  }
 },
 "nbformat": 4,
 "nbformat_minor": 2
}
