{
 "cells": [
  {
   "cell_type": "markdown",
   "metadata": {},
   "source": [
    "# Tasks\n",
    "This notebook is for conducting an analysis, no finite plots will be constructed here.\n",
    "\n",
    "\n",
    "* Insulation score analysis\n",
    "    * Get insulations scores (IS)\n",
    "    * Do ANOVA (or t-test) for IS\n",
    "    * Conduct functional analysis GSEA (MSIGDB, KEGG, REACTOME, GO:BP)"
   ]
  },
  {
   "cell_type": "markdown",
   "metadata": {},
   "source": [
    "# Uploads"
   ]
  },
  {
   "cell_type": "code",
   "execution_count": 18,
   "metadata": {},
   "outputs": [],
   "source": [
    "import numpy as np\n",
    "import pandas as pd\n",
    "import cooler\n",
    "import pyranges as pr\n",
    " \n",
    "from matplotlib import pyplot as plt\n",
    "from tqdm import tqdm\n",
    "import seaborn as sns\n",
    "\n",
    "from glob import glob\n",
    "#from importlib import reload\n",
    "import gffpandas.gffpandas as gffpd\n",
    "\n",
    "from utils.anova import *\n",
    "from utils.gene_intervals import bins_to_genes_intersection"
   ]
  },
  {
   "cell_type": "code",
   "execution_count": 2,
   "metadata": {},
   "outputs": [],
   "source": [
    "#crucial work dirs\n",
    "COOLER_FOLDER_PATH = '/tank/projects/kriukov_chromatin/HIC'\n",
    "DOWNSAMPLED_FOLDER_PATH = '/tank/projects/kriukov_chromatin/HIC/downsampled'\n",
    "INSULATION_PATH = '/tank/projects/kriukov_chromatin/HIC/insulation'\n",
    "COMPARTMENTS_PATH = '/tank/projects/kriukov_chromatin/HIC/compartments'\n",
    "GENOME_FOLDER_PATH = '/tank/projects/kriukov_chromatin/GENOME'"
   ]
  },
  {
   "cell_type": "code",
   "execution_count": 73,
   "metadata": {},
   "outputs": [],
   "source": [
    "#import genes\n",
    "gffpath = '%s/GCF_000001635.27_GRCm39_genomic.gff' % GENOME_FOLDER_PATH\n",
    "annot_path = '%s/GCF_000001635.27_GRCm39_assembly_report.txt' % GENOME_FOLDER_PATH\n",
    "#refseq to chrom annotation\n",
    "annotation = gffpd.read_gff3(gffpath)\n",
    "fasta_annot = pd.read_csv(annot_path, sep='\\t', skiprows=28)\n",
    "refseq2chrom = dict(zip(fasta_annot['RefSeq-Accn'].values, fasta_annot['UCSC-style-name'].values))\n",
    "gn = annotation.attributes_to_columns()\n",
    "gn.seq_id = gn.seq_id.map(refseq2chrom)\n",
    "gn['length'] = gn['end'] - gn['start']\n",
    "gn = gn[['seq_id', 'source', 'type', 'start', 'end', 'score', 'strand',\n",
    "         'ID', 'Name', 'description', 'length', 'chromosome']]\n",
    "\n",
    "#types of sequences\n",
    "gn_code = gn[gn['type']=='gene'] #protein codeing\n",
    "gn_lnc = gn[gn['type']=='lnc_RNA'] #long non-coding\n",
    "gn_trna = gn[gn['type']=='tRNA'] #tRNA\n",
    "gn_rrna = gn[gn['type']=='rRNA'] #rRNA"
   ]
  },
  {
   "cell_type": "code",
   "execution_count": 41,
   "metadata": {},
   "outputs": [],
   "source": [
    "gn = annotation.attributes_to_columns()"
   ]
  },
  {
   "cell_type": "code",
   "execution_count": 63,
   "metadata": {},
   "outputs": [
    {
     "data": {
      "text/plain": [
       "array(['NC_000067.7', 'NT_166280.1', 'NT_166281.1', 'NT_166282.1',\n",
       "       'NT_162750.1', 'NW_023337852.1', 'NT_166338.1', 'NC_000068.8',\n",
       "       'NC_000069.7', 'NC_000070.7', 'NT_187055.1', 'NC_000071.7',\n",
       "       'NT_187056.1', 'NT_187057.1', 'NT_187058.1', 'NT_166438.1',\n",
       "       'NT_187059.1', 'NC_000072.7', 'NC_000073.7', 'NT_166307.1',\n",
       "       'NC_000074.7', 'NC_000075.7', 'NC_000076.7', 'NC_000077.7',\n",
       "       'NC_000078.7', 'NC_000079.7', 'NC_000080.7', 'NC_000081.7',\n",
       "       'NC_000082.7', 'NC_000083.7', 'NC_000084.7', 'NC_000085.7',\n",
       "       'NC_000086.8', 'NT_165789.3', 'NC_000087.8', 'NT_187060.1',\n",
       "       'NT_187061.1', 'NT_187062.1', 'NT_187063.1', 'NT_166451.1',\n",
       "       'NT_166462.1', 'NT_166465.1', 'NT_166466.1', 'NT_166467.1',\n",
       "       'NT_166469.1', 'NT_166474.1', 'NT_166476.1', 'NT_166478.1',\n",
       "       'NT_166443.1', 'NT_166444.1', 'NT_166480.1', 'NT_166456.1',\n",
       "       'NT_166471.1', 'NT_166473.1', 'NT_166454.1', 'NT_166463.1',\n",
       "       'NT_166450.1', 'NT_166452.1', 'NT_187064.1', 'NW_023337853.1',\n",
       "       'NC_005089.1'], dtype=object)"
      ]
     },
     "execution_count": 63,
     "metadata": {},
     "output_type": "execute_result"
    }
   ],
   "source": [
    "gn.seq_id.unique()"
   ]
  },
  {
   "cell_type": "code",
   "execution_count": 5,
   "metadata": {},
   "outputs": [
    {
     "name": "stdout",
     "output_type": "stream",
     "text": [
      "IS_50000.csv\n"
     ]
    }
   ],
   "source": [
    "!ls /tank/projects/kriukov_chromatin/HIC/insulation"
   ]
  },
  {
   "cell_type": "code",
   "execution_count": 74,
   "metadata": {},
   "outputs": [],
   "source": [
    "#insulation score\n",
    "IS = pd.read_csv('%s/IS_50000.csv' % INSULATION_PATH, index_col=0)"
   ]
  },
  {
   "cell_type": "markdown",
   "metadata": {},
   "source": [
    "# Insulation score analysis"
   ]
  },
  {
   "cell_type": "code",
   "execution_count": 75,
   "metadata": {},
   "outputs": [
    {
     "name": "stdout",
     "output_type": "stream",
     "text": [
      "['Y', 'Y', 'Y', 'old', 'old', 'old', 'Y', 'Y', 'Y']\n"
     ]
    },
    {
     "name": "stderr",
     "output_type": "stream",
     "text": [
      "/home/dkriukov/miniconda3/envs/mice/lib/python3.7/site-packages/ipykernel_launcher.py:4: FutureWarning: In a future version of pandas all arguments of DataFrame.drop except for the argument 'labels' will be keyword-only\n",
      "  after removing the cwd from sys.path.\n"
     ]
    }
   ],
   "source": [
    "explore = ['WT', 'young', 'old']\n",
    "mask = np.array([any([e in c for e in explore]) for c in IS.columns])\n",
    "\n",
    "X = IS.drop(IS.columns[~mask], 1).T\n",
    "X = X.dropna(axis=1)\n",
    "\n",
    "y = [d.split('_')[0] for d in X.index] #0-for age; 1-for sex\n",
    "\n",
    "types_dict = {'WT':'Y', 'young':'Y', 'old':'old', 'KO':'KO'}\n",
    "y = [types_dict[t] for t in y]\n",
    "print(y)"
   ]
  },
  {
   "cell_type": "code",
   "execution_count": 76,
   "metadata": {},
   "outputs": [
    {
     "data": {
      "image/png": "[encoded data removed]",
      "text/plain": [
       "<Figure size 648x360 with 1 Axes>"
      ]
     },
     "metadata": {
      "needs_background": "light"
     },
     "output_type": "display_data"
    },
    {
     "name": "stdout",
     "output_type": "stream",
     "text": [
      "Total number of features: 42953\n",
      "Number of p_values <= 0.030: 7762\n",
      "Number of p_values after FDR correction: 1\n"
     ]
    },
    {
     "data": {
      "text/html": [
       "<div>\n",
       "<style scoped>\n",
       "    .dataframe tbody tr th:only-of-type {\n",
       "        vertical-align: middle;\n",
       "    }\n",
       "\n",
       "    .dataframe tbody tr th {\n",
       "        vertical-align: top;\n",
       "    }\n",
       "\n",
       "    .dataframe thead th {\n",
       "        text-align: right;\n",
       "    }\n",
       "</style>\n",
       "<table border=\"1\" class=\"dataframe\">\n",
       "  <thead>\n",
       "    <tr style=\"text-align: right;\">\n",
       "      <th></th>\n",
       "      <th>14283</th>\n",
       "    </tr>\n",
       "  </thead>\n",
       "  <tbody>\n",
       "    <tr>\n",
       "      <th>WT_female_2</th>\n",
       "      <td>0.413791</td>\n",
       "    </tr>\n",
       "    <tr>\n",
       "      <th>WT_female_3</th>\n",
       "      <td>0.409935</td>\n",
       "    </tr>\n",
       "    <tr>\n",
       "      <th>WT_male_1</th>\n",
       "      <td>0.433262</td>\n",
       "    </tr>\n",
       "    <tr>\n",
       "      <th>old_female_2</th>\n",
       "      <td>0.539883</td>\n",
       "    </tr>\n",
       "    <tr>\n",
       "      <th>old_female_3</th>\n",
       "      <td>0.534430</td>\n",
       "    </tr>\n",
       "    <tr>\n",
       "      <th>old_male_1</th>\n",
       "      <td>0.524549</td>\n",
       "    </tr>\n",
       "    <tr>\n",
       "      <th>young_female_2</th>\n",
       "      <td>0.425943</td>\n",
       "    </tr>\n",
       "    <tr>\n",
       "      <th>young_female_3</th>\n",
       "      <td>0.423855</td>\n",
       "    </tr>\n",
       "    <tr>\n",
       "      <th>young_male_1</th>\n",
       "      <td>0.417796</td>\n",
       "    </tr>\n",
       "  </tbody>\n",
       "</table>\n",
       "</div>"
      ],
      "text/plain": [
       "                   14283\n",
       "WT_female_2     0.413791\n",
       "WT_female_3     0.409935\n",
       "WT_male_1       0.433262\n",
       "old_female_2    0.539883\n",
       "old_female_3    0.534430\n",
       "old_male_1      0.524549\n",
       "young_female_2  0.425943\n",
       "young_female_3  0.423855\n",
       "young_male_1    0.417796"
      ]
     },
     "execution_count": 76,
     "metadata": {},
     "output_type": "execute_result"
    }
   ],
   "source": [
    "anova = ANOVA(X, y, 0.03)\n",
    "anova.get_filter_distribution('FC')\n",
    "\n",
    "a, b = anova.make_anova()\n",
    "anova.get_passed_features()"
   ]
  },
  {
   "cell_type": "code",
   "execution_count": 78,
   "metadata": {},
   "outputs": [
    {
     "name": "stderr",
     "output_type": "stream",
     "text": [
      "100%|██████████| 50/50 [00:40<00:00,  1.23it/s]\n"
     ]
    },
    {
     "data": {
      "image/png": "[encoded data removed]",
      "text/plain": [
       "<Figure size 648x432 with 1 Axes>"
      ]
     },
     "metadata": {
      "needs_background": "light"
     },
     "output_type": "display_data"
    },
    {
     "data": {
      "text/plain": [
       "0.13755102040816328"
      ]
     },
     "execution_count": 78,
     "metadata": {},
     "output_type": "execute_result"
    }
   ],
   "source": [
    "anova.make_permutation_search('FC', interval=(0.02, 0.2), steps=50, N=15, **{'ddof':1})\n",
    "anova.plot_permutation_results()\n",
    "anova.get_best_criterion()"
   ]
  },
  {
   "cell_type": "code",
   "execution_count": 79,
   "metadata": {},
   "outputs": [
    {
     "name": "stdout",
     "output_type": "stream",
     "text": [
      "Bins passed: 363\n"
     ]
    }
   ],
   "source": [
    "X_s, P_s = anova.get_passed_features_for_some_criterion(criterion=anova.get_best_criterion(), \n",
    "                                                        return_pvals=True)\n",
    "P_adj_s_sorted = np.sort(P_s[1][P_s[0]])\n",
    "X_s_sorted = X_s.iloc[:, np.argsort(P_s[1][P_s[0]])]\n",
    "\n",
    "#extract intervals and p_values, take top N bins\n",
    "X_passed_intervals = IS.loc[X_s_sorted.columns][['chrom', 'start', 'end']]\n",
    "X_passed_intervals['p_adj'] = P_adj_s_sorted\n",
    "\n",
    "print(\"Bins passed: %d\" % X_passed_intervals.shape[0])"
   ]
  },
  {
   "cell_type": "code",
   "execution_count": 80,
   "metadata": {},
   "outputs": [],
   "source": [
    "X_top = X_passed_intervals#.iloc[:top, :]\n",
    "\n",
    "#intersection with genes\n",
    "significant_genes = bins_to_genes_intersection(X_top[['chrom', 'start', 'end']], gn_code)"
   ]
  },
  {
   "cell_type": "code",
   "execution_count": 91,
   "metadata": {},
   "outputs": [
    {
     "data": {
      "text/html": [
       "<div>\n",
       "<style scoped>\n",
       "    .dataframe tbody tr th:only-of-type {\n",
       "        vertical-align: middle;\n",
       "    }\n",
       "\n",
       "    .dataframe tbody tr th {\n",
       "        vertical-align: top;\n",
       "    }\n",
       "\n",
       "    .dataframe thead th {\n",
       "        text-align: right;\n",
       "    }\n",
       "</style>\n",
       "<table border=\"1\" class=\"dataframe\">\n",
       "  <thead>\n",
       "    <tr style=\"text-align: right;\">\n",
       "      <th></th>\n",
       "      <th>Chromosome</th>\n",
       "      <th>Start</th>\n",
       "      <th>End</th>\n",
       "      <th>Start_b</th>\n",
       "      <th>End_b</th>\n",
       "      <th>source</th>\n",
       "      <th>type</th>\n",
       "      <th>score</th>\n",
       "      <th>strand</th>\n",
       "      <th>ID</th>\n",
       "      <th>Name</th>\n",
       "      <th>description</th>\n",
       "      <th>length</th>\n",
       "      <th>chromosome</th>\n",
       "    </tr>\n",
       "  </thead>\n",
       "  <tbody>\n",
       "    <tr>\n",
       "      <th>0</th>\n",
       "      <td>chr1</td>\n",
       "      <td>22356196</td>\n",
       "      <td>22845239</td>\n",
       "      <td>22600000</td>\n",
       "      <td>22650000</td>\n",
       "      <td>BestRefSeq%2CGnomon</td>\n",
       "      <td>gene</td>\n",
       "      <td>.</td>\n",
       "      <td>-</td>\n",
       "      <td>gene-Rims1</td>\n",
       "      <td>Rims1</td>\n",
       "      <td>regulating synaptic membrane exocytosis 1</td>\n",
       "      <td>489043</td>\n",
       "      <td>None</td>\n",
       "    </tr>\n",
       "    <tr>\n",
       "      <th>1</th>\n",
       "      <td>chr1</td>\n",
       "      <td>22356196</td>\n",
       "      <td>22845239</td>\n",
       "      <td>22650000</td>\n",
       "      <td>22700000</td>\n",
       "      <td>BestRefSeq%2CGnomon</td>\n",
       "      <td>gene</td>\n",
       "      <td>.</td>\n",
       "      <td>-</td>\n",
       "      <td>gene-Rims1</td>\n",
       "      <td>Rims1</td>\n",
       "      <td>regulating synaptic membrane exocytosis 1</td>\n",
       "      <td>489043</td>\n",
       "      <td>None</td>\n",
       "    </tr>\n",
       "    <tr>\n",
       "      <th>2</th>\n",
       "      <td>chr1</td>\n",
       "      <td>22356196</td>\n",
       "      <td>22845239</td>\n",
       "      <td>22700000</td>\n",
       "      <td>22750000</td>\n",
       "      <td>BestRefSeq%2CGnomon</td>\n",
       "      <td>gene</td>\n",
       "      <td>.</td>\n",
       "      <td>-</td>\n",
       "      <td>gene-Rims1</td>\n",
       "      <td>Rims1</td>\n",
       "      <td>regulating synaptic membrane exocytosis 1</td>\n",
       "      <td>489043</td>\n",
       "      <td>None</td>\n",
       "    </tr>\n",
       "    <tr>\n",
       "      <th>3</th>\n",
       "      <td>chr1</td>\n",
       "      <td>22356196</td>\n",
       "      <td>22845239</td>\n",
       "      <td>22750000</td>\n",
       "      <td>22800000</td>\n",
       "      <td>BestRefSeq%2CGnomon</td>\n",
       "      <td>gene</td>\n",
       "      <td>.</td>\n",
       "      <td>-</td>\n",
       "      <td>gene-Rims1</td>\n",
       "      <td>Rims1</td>\n",
       "      <td>regulating synaptic membrane exocytosis 1</td>\n",
       "      <td>489043</td>\n",
       "      <td>None</td>\n",
       "    </tr>\n",
       "    <tr>\n",
       "      <th>4</th>\n",
       "      <td>chr1</td>\n",
       "      <td>22356196</td>\n",
       "      <td>22845239</td>\n",
       "      <td>22800000</td>\n",
       "      <td>22850000</td>\n",
       "      <td>BestRefSeq%2CGnomon</td>\n",
       "      <td>gene</td>\n",
       "      <td>.</td>\n",
       "      <td>-</td>\n",
       "      <td>gene-Rims1</td>\n",
       "      <td>Rims1</td>\n",
       "      <td>regulating synaptic membrane exocytosis 1</td>\n",
       "      <td>489043</td>\n",
       "      <td>None</td>\n",
       "    </tr>\n",
       "    <tr>\n",
       "      <th>...</th>\n",
       "      <td>...</td>\n",
       "      <td>...</td>\n",
       "      <td>...</td>\n",
       "      <td>...</td>\n",
       "      <td>...</td>\n",
       "      <td>...</td>\n",
       "      <td>...</td>\n",
       "      <td>...</td>\n",
       "      <td>...</td>\n",
       "      <td>...</td>\n",
       "      <td>...</td>\n",
       "      <td>...</td>\n",
       "      <td>...</td>\n",
       "      <td>...</td>\n",
       "    </tr>\n",
       "    <tr>\n",
       "      <th>629</th>\n",
       "      <td>chrX</td>\n",
       "      <td>101891237</td>\n",
       "      <td>101900813</td>\n",
       "      <td>101850000</td>\n",
       "      <td>101900000</td>\n",
       "      <td>BestRefSeq%2CGnomon</td>\n",
       "      <td>gene</td>\n",
       "      <td>.</td>\n",
       "      <td>-</td>\n",
       "      <td>gene-Dmrtc1c2</td>\n",
       "      <td>Dmrtc1c2</td>\n",
       "      <td>DMRT-like family C1c2</td>\n",
       "      <td>9576</td>\n",
       "      <td>None</td>\n",
       "    </tr>\n",
       "    <tr>\n",
       "      <th>630</th>\n",
       "      <td>chrX</td>\n",
       "      <td>160500032</td>\n",
       "      <td>160562490</td>\n",
       "      <td>160550000</td>\n",
       "      <td>160600000</td>\n",
       "      <td>BestRefSeq</td>\n",
       "      <td>gene</td>\n",
       "      <td>.</td>\n",
       "      <td>+</td>\n",
       "      <td>gene-Rai2</td>\n",
       "      <td>Rai2</td>\n",
       "      <td>retinoic acid induced 2</td>\n",
       "      <td>62458</td>\n",
       "      <td>None</td>\n",
       "    </tr>\n",
       "    <tr>\n",
       "      <th>631</th>\n",
       "      <td>chrX</td>\n",
       "      <td>160597689</td>\n",
       "      <td>160615118</td>\n",
       "      <td>160550000</td>\n",
       "      <td>160600000</td>\n",
       "      <td>BestRefSeq%2CGnomon</td>\n",
       "      <td>gene</td>\n",
       "      <td>.</td>\n",
       "      <td>-</td>\n",
       "      <td>gene-Scml1</td>\n",
       "      <td>Scml1</td>\n",
       "      <td>Scm polycomb group protein like 1</td>\n",
       "      <td>17429</td>\n",
       "      <td>None</td>\n",
       "    </tr>\n",
       "    <tr>\n",
       "      <th>632</th>\n",
       "      <td>chrX</td>\n",
       "      <td>160597689</td>\n",
       "      <td>160615118</td>\n",
       "      <td>160600000</td>\n",
       "      <td>160650000</td>\n",
       "      <td>BestRefSeq%2CGnomon</td>\n",
       "      <td>gene</td>\n",
       "      <td>.</td>\n",
       "      <td>-</td>\n",
       "      <td>gene-Scml1</td>\n",
       "      <td>Scml1</td>\n",
       "      <td>Scm polycomb group protein like 1</td>\n",
       "      <td>17429</td>\n",
       "      <td>None</td>\n",
       "    </tr>\n",
       "    <tr>\n",
       "      <th>633</th>\n",
       "      <td>chrX</td>\n",
       "      <td>160616286</td>\n",
       "      <td>160942437</td>\n",
       "      <td>160600000</td>\n",
       "      <td>160650000</td>\n",
       "      <td>BestRefSeq%2CGnomon</td>\n",
       "      <td>gene</td>\n",
       "      <td>.</td>\n",
       "      <td>-</td>\n",
       "      <td>gene-Nhs</td>\n",
       "      <td>Nhs</td>\n",
       "      <td>NHS actin remodeling regulator</td>\n",
       "      <td>326151</td>\n",
       "      <td>None</td>\n",
       "    </tr>\n",
       "  </tbody>\n",
       "</table>\n",
       "<p>634 rows × 14 columns</p>\n",
       "</div>"
      ],
      "text/plain": [
       "    Chromosome      Start        End    Start_b      End_b  \\\n",
       "0         chr1   22356196   22845239   22600000   22650000   \n",
       "1         chr1   22356196   22845239   22650000   22700000   \n",
       "2         chr1   22356196   22845239   22700000   22750000   \n",
       "3         chr1   22356196   22845239   22750000   22800000   \n",
       "4         chr1   22356196   22845239   22800000   22850000   \n",
       "..         ...        ...        ...        ...        ...   \n",
       "629       chrX  101891237  101900813  101850000  101900000   \n",
       "630       chrX  160500032  160562490  160550000  160600000   \n",
       "631       chrX  160597689  160615118  160550000  160600000   \n",
       "632       chrX  160597689  160615118  160600000  160650000   \n",
       "633       chrX  160616286  160942437  160600000  160650000   \n",
       "\n",
       "                  source  type score strand             ID      Name  \\\n",
       "0    BestRefSeq%2CGnomon  gene     .      -     gene-Rims1     Rims1   \n",
       "1    BestRefSeq%2CGnomon  gene     .      -     gene-Rims1     Rims1   \n",
       "2    BestRefSeq%2CGnomon  gene     .      -     gene-Rims1     Rims1   \n",
       "3    BestRefSeq%2CGnomon  gene     .      -     gene-Rims1     Rims1   \n",
       "4    BestRefSeq%2CGnomon  gene     .      -     gene-Rims1     Rims1   \n",
       "..                   ...   ...   ...    ...            ...       ...   \n",
       "629  BestRefSeq%2CGnomon  gene     .      -  gene-Dmrtc1c2  Dmrtc1c2   \n",
       "630           BestRefSeq  gene     .      +      gene-Rai2      Rai2   \n",
       "631  BestRefSeq%2CGnomon  gene     .      -     gene-Scml1     Scml1   \n",
       "632  BestRefSeq%2CGnomon  gene     .      -     gene-Scml1     Scml1   \n",
       "633  BestRefSeq%2CGnomon  gene     .      -       gene-Nhs       Nhs   \n",
       "\n",
       "                                   description  length chromosome  \n",
       "0    regulating synaptic membrane exocytosis 1  489043       None  \n",
       "1    regulating synaptic membrane exocytosis 1  489043       None  \n",
       "2    regulating synaptic membrane exocytosis 1  489043       None  \n",
       "3    regulating synaptic membrane exocytosis 1  489043       None  \n",
       "4    regulating synaptic membrane exocytosis 1  489043       None  \n",
       "..                                         ...     ...        ...  \n",
       "629                      DMRT-like family C1c2    9576       None  \n",
       "630                    retinoic acid induced 2   62458       None  \n",
       "631          Scm polycomb group protein like 1   17429       None  \n",
       "632          Scm polycomb group protein like 1   17429       None  \n",
       "633             NHS actin remodeling regulator  326151       None  \n",
       "\n",
       "[634 rows x 14 columns]"
      ]
     },
     "execution_count": 91,
     "metadata": {},
     "output_type": "execute_result"
    }
   ],
   "source": [
    "significant_genes"
   ]
  },
  {
   "cell_type": "code",
   "execution_count": null,
   "metadata": {},
   "outputs": [],
   "source": [
    "EXPLORES = [['young', 'KO'], ['WT', 'KO'], ['old', 'KO']]\n",
    "top = 750\n",
    "\n",
    "for explore in tqdm(EXPLORES):\n",
    "    ### Data filtering\n",
    "    fname = '::'.join(explore)\n",
    "    mask = np.array([any([e in c for e in explore]) for c in df.columns])\n",
    "    X = df.drop(df.columns[~mask], 1).T\n",
    "    X = X.dropna(axis=1)\n",
    "    y = [d.split('_')[0] for d in X.index] #0-for age; 1-for sex\n",
    "    \n",
    "    ### ANOVA\n",
    "    anova = ANOVA(X, y, 0.02)\n",
    "    p, pcor = anova.make_anova()\n",
    "    anova.make_permutation_search('FC', interval=(0.02, 0.2), steps=50, N=15, **{'ddof':1})\n",
    "    X_s, P_s = anova.get_passed_features_for_some_criterion(criterion=anova.get_best_criterion(), \n",
    "                                                            return_pvals=True)\n",
    "    #plot\n",
    "    anova.plot_permutation_results(savename='Insulation/' + fname + '_FC.png')\n",
    "    \n",
    "    P_adj_s_sorted = np.sort(P_s[1][P_s[0]])\n",
    "    X_s_sorted = X_s.iloc[:, np.argsort(P_s[1][P_s[0]])]\n",
    "    \n",
    "    #extract intervals and p_values, take top N bins\n",
    "    X_passed_intervals = IS_info.loc[X_s_sorted.columns][['chrom', 'start', 'end']]\n",
    "    X_passed_intervals['p_adj'] = P_adj_s_sorted\n",
    "    X_top = X_passed_intervals.iloc[:top, :]\n",
    "    \n",
    "    #intersection with genes\n",
    "    significant_genes = bins_to_genes_intersection(X_top[['chrom', 'start', 'end']], genes)\n",
    "    print('Found %d genes in top %d bins' % (len(significant_genes), top))\n",
    "    significant_genes.to_csv('Insulation/found_genes_with_absFC_criterion_at_%s_%d.csv' % (fname, top))"
   ]
  }
 ],
 "metadata": {
  "interpreter": {
   "hash": "ff3ee697d6d1b393c90390dee18c2d263a8152e46b5417745a069cb5c408f3aa"
  },
  "kernelspec": {
   "display_name": "Python 3.7.12 64-bit ('mice': conda)",
   "language": "python",
   "name": "python3"
  },
  "language_info": {
   "codemirror_mode": {
    "name": "ipython",
    "version": 3
   },
   "file_extension": ".py",
   "mimetype": "text/x-python",
   "name": "python",
   "nbconvert_exporter": "python",
   "pygments_lexer": "ipython3",
   "version": "3.7.12"
  },
  "orig_nbformat": 4
 },
 "nbformat": 4,
 "nbformat_minor": 2
}
