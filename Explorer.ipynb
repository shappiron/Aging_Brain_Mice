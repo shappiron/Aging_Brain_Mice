{
 "cells": [
  {
   "cell_type": "markdown",
   "metadata": {},
   "source": [
    "# Tasks\n",
    "This notebook is for conducting an analysis, no finite plots will be constructed here.\n",
    "\n",
    "\n",
    "* Insulation score analysis\n",
    "    * Get insulations scores (IS)\n",
    "    * Do ANOVA (or t-test) for IS\n",
    "    * Conduct functional analysis GSEA (MSIGDB, KEGG, REACTOME, GO:BP)"
   ]
  },
  {
   "cell_type": "markdown",
   "metadata": {},
   "source": [
    "# Uploads"
   ]
  },
  {
   "cell_type": "code",
   "execution_count": 1,
   "metadata": {},
   "outputs": [
    {
     "data": {
      "text/plain": [
       "<module 'utils.anova' from '/home/dkriukov/mice/Aging_Brain_Mice/utils/anova.py'>"
      ]
     },
     "execution_count": 1,
     "metadata": {},
     "output_type": "execute_result"
    }
   ],
   "source": [
    "import numpy as np\n",
    "import pandas as pd\n",
    "import cooler\n",
    "import pyranges as pr\n",
    "from statsmodels.stats.multitest import multipletests as fdr_correction\n",
    "from sklearn.feature_selection import f_classif\n",
    "from scipy.stats import ttest_ind\n",
    "from scipy.stats import f_oneway\n",
    " \n",
    "from matplotlib import pyplot as plt\n",
    "from tqdm import tqdm\n",
    "import seaborn as sns\n",
    "\n",
    "from glob import glob\n",
    "from importlib import reload\n",
    "import gffpandas.gffpandas as gffpd\n",
    "\n",
    "import utils\n",
    "from utils.anova import *\n",
    "from utils.gene_intervals import bins_to_genes_intersection\n",
    "reload(utils.anova)"
   ]
  },
  {
   "cell_type": "code",
   "execution_count": 5,
   "metadata": {},
   "outputs": [],
   "source": [
    "#crucial work dirs\n",
    "COOLER_FOLDER_PATH = '/tank/projects/kriukov_chromatin/HIC'\n",
    "DOWNSAMPLED_FOLDER_PATH = '/tank/projects/kriukov_chromatin/HIC/downsampled'\n",
    "INSULATION_PATH = '/tank/projects/kriukov_chromatin/HIC/insulation'\n",
    "COMPARTMENTS_PATH = '/tank/projects/kriukov_chromatin/HIC/compartments'\n",
    "GENOME_FOLDER_PATH = '/tank/projects/kriukov_chromatin/GENOME'\n",
    "ATAC_FOLDER_PATH = '/tank/projects/kriukov_chromatin/ATAC'"
   ]
  },
  {
   "cell_type": "code",
   "execution_count": 3,
   "metadata": {},
   "outputs": [],
   "source": [
    "#import genes\n",
    "gffpath = '%s/GCF_000001635.27_GRCm39_genomic.gff' % GENOME_FOLDER_PATH\n",
    "annot_path = '%s/GCF_000001635.27_GRCm39_assembly_report.txt' % GENOME_FOLDER_PATH\n",
    "#refseq to chrom annotation\n",
    "annotation = gffpd.read_gff3(gffpath)\n",
    "fasta_annot = pd.read_csv(annot_path, sep='\\t', skiprows=28)\n",
    "refseq2chrom = dict(zip(fasta_annot['RefSeq-Accn'].values, fasta_annot['UCSC-style-name'].values))\n",
    "gn = annotation.attributes_to_columns()\n",
    "gn.seq_id = gn.seq_id.map(refseq2chrom)\n",
    "gn['length'] = gn['end'] - gn['start']\n",
    "gn = gn[['seq_id', 'source', 'type', 'start', 'end', 'score', 'strand',\n",
    "         'ID', 'Name', 'description', 'length', 'chromosome']]\n",
    "\n",
    "#types of sequences\n",
    "gn_code = gn[gn['type']=='gene'] #protein codeing\n",
    "gn_lnc = gn[gn['type']=='lnc_RNA'] #long non-coding\n",
    "gn_trna = gn[gn['type']=='tRNA'] #tRNA\n",
    "gn_rrna = gn[gn['type']=='rRNA'] #rRNA"
   ]
  },
  {
   "cell_type": "code",
   "execution_count": 12,
   "metadata": {},
   "outputs": [
    {
     "name": "stdout",
     "output_type": "stream",
     "text": [
      "IS_50000.csv\n"
     ]
    }
   ],
   "source": [
    "!ls /tank/projects/kriukov_chromatin/HIC/insulation"
   ]
  },
  {
   "cell_type": "code",
   "execution_count": 11,
   "metadata": {},
   "outputs": [
    {
     "name": "stderr",
     "output_type": "stream",
     "text": [
      "/home/dkriukov/miniconda3/envs/mice/lib/python3.7/site-packages/IPython/core/interactiveshell.py:3524: DtypeWarning: Columns (0) have mixed types.Specify dtype option on import or set low_memory=False.\n",
      "  exec(code_obj, self.user_global_ns, self.user_ns)\n"
     ]
    }
   ],
   "source": [
    "#insulation score\n",
    "IS = pd.read_csv('%s/IS_50000.csv' % INSULATION_PATH, index_col=0)\n",
    "\n",
    "#consensus peaks\n",
    "ATAC = pd.read_csv('%s/consensus_peaks.mLb.clN.boolean.annotatePeaks.txt' % ATAC_FOLDER_PATH, sep='\\t')"
   ]
  },
  {
   "cell_type": "markdown",
   "metadata": {},
   "source": [
    "# Insulation score analysis"
   ]
  },
  {
   "cell_type": "code",
   "execution_count": 61,
   "metadata": {},
   "outputs": [
    {
     "name": "stdout",
     "output_type": "stream",
     "text": [
      "['Y', 'Y', 'Y', 'old', 'old', 'old', 'Y', 'Y', 'Y']\n"
     ]
    },
    {
     "name": "stderr",
     "output_type": "stream",
     "text": [
      "/home/dkriukov/miniconda3/envs/mice/lib/python3.7/site-packages/ipykernel_launcher.py:4: FutureWarning: In a future version of pandas all arguments of DataFrame.drop except for the argument 'labels' will be keyword-only\n",
      "  after removing the cwd from sys.path.\n"
     ]
    }
   ],
   "source": [
    "explore = ['WT', 'young', 'old']\n",
    "mask = np.array([any([e in c for e in explore]) for c in IS.columns])\n",
    "\n",
    "X = IS.drop(IS.columns[~mask], 1).T\n",
    "X = X.dropna(axis=1)\n",
    "\n",
    "y = [d.split('_')[0] for d in X.index] #0-for age; 1-for sex\n",
    "\n",
    "types_dict = {'WT':'Y', 'young':'Y', 'old':'old', 'KO':'KO'}\n",
    "y = [types_dict[t] for t in y]\n",
    "print(y)"
   ]
  },
  {
   "cell_type": "code",
   "execution_count": 62,
   "metadata": {},
   "outputs": [
    {
     "data": {
      "image/png": "[encoded data removed]",
      "text/plain": [
       "<Figure size 648x360 with 1 Axes>"
      ]
     },
     "metadata": {
      "needs_background": "light"
     },
     "output_type": "display_data"
    },
    {
     "name": "stdout",
     "output_type": "stream",
     "text": [
      "Total number of features: 42953\n",
      "Number of p_values <= 0.050: 11162\n",
      "Number of p_values after FDR correction: 4\n"
     ]
    },
    {
     "data": {
      "text/html": [
       "<div>\n",
       "<style scoped>\n",
       "    .dataframe tbody tr th:only-of-type {\n",
       "        vertical-align: middle;\n",
       "    }\n",
       "\n",
       "    .dataframe tbody tr th {\n",
       "        vertical-align: top;\n",
       "    }\n",
       "\n",
       "    .dataframe thead th {\n",
       "        text-align: right;\n",
       "    }\n",
       "</style>\n",
       "<table border=\"1\" class=\"dataframe\">\n",
       "  <thead>\n",
       "    <tr style=\"text-align: right;\">\n",
       "      <th></th>\n",
       "      <th>14282</th>\n",
       "      <th>14283</th>\n",
       "      <th>14284</th>\n",
       "      <th>35648</th>\n",
       "    </tr>\n",
       "  </thead>\n",
       "  <tbody>\n",
       "    <tr>\n",
       "      <th>WT_female_2</th>\n",
       "      <td>0.444180</td>\n",
       "      <td>0.413791</td>\n",
       "      <td>0.379288</td>\n",
       "      <td>-0.265062</td>\n",
       "    </tr>\n",
       "    <tr>\n",
       "      <th>WT_female_3</th>\n",
       "      <td>0.434824</td>\n",
       "      <td>0.409935</td>\n",
       "      <td>0.391529</td>\n",
       "      <td>-0.276402</td>\n",
       "    </tr>\n",
       "    <tr>\n",
       "      <th>WT_male_1</th>\n",
       "      <td>0.431056</td>\n",
       "      <td>0.433262</td>\n",
       "      <td>0.423213</td>\n",
       "      <td>-0.249603</td>\n",
       "    </tr>\n",
       "    <tr>\n",
       "      <th>old_female_2</th>\n",
       "      <td>0.528548</td>\n",
       "      <td>0.539883</td>\n",
       "      <td>0.520195</td>\n",
       "      <td>-0.067546</td>\n",
       "    </tr>\n",
       "    <tr>\n",
       "      <th>old_female_3</th>\n",
       "      <td>0.516813</td>\n",
       "      <td>0.534430</td>\n",
       "      <td>0.513157</td>\n",
       "      <td>-0.106329</td>\n",
       "    </tr>\n",
       "    <tr>\n",
       "      <th>old_male_1</th>\n",
       "      <td>0.532389</td>\n",
       "      <td>0.524549</td>\n",
       "      <td>0.528388</td>\n",
       "      <td>-0.079973</td>\n",
       "    </tr>\n",
       "    <tr>\n",
       "      <th>young_female_2</th>\n",
       "      <td>0.429855</td>\n",
       "      <td>0.425943</td>\n",
       "      <td>0.393686</td>\n",
       "      <td>-0.286080</td>\n",
       "    </tr>\n",
       "    <tr>\n",
       "      <th>young_female_3</th>\n",
       "      <td>0.435138</td>\n",
       "      <td>0.423855</td>\n",
       "      <td>0.405221</td>\n",
       "      <td>-0.250814</td>\n",
       "    </tr>\n",
       "    <tr>\n",
       "      <th>young_male_1</th>\n",
       "      <td>0.414353</td>\n",
       "      <td>0.417796</td>\n",
       "      <td>0.401963</td>\n",
       "      <td>-0.292838</td>\n",
       "    </tr>\n",
       "  </tbody>\n",
       "</table>\n",
       "</div>"
      ],
      "text/plain": [
       "                   14282     14283     14284     35648\n",
       "WT_female_2     0.444180  0.413791  0.379288 -0.265062\n",
       "WT_female_3     0.434824  0.409935  0.391529 -0.276402\n",
       "WT_male_1       0.431056  0.433262  0.423213 -0.249603\n",
       "old_female_2    0.528548  0.539883  0.520195 -0.067546\n",
       "old_female_3    0.516813  0.534430  0.513157 -0.106329\n",
       "old_male_1      0.532389  0.524549  0.528388 -0.079973\n",
       "young_female_2  0.429855  0.425943  0.393686 -0.286080\n",
       "young_female_3  0.435138  0.423855  0.405221 -0.250814\n",
       "young_male_1    0.414353  0.417796  0.401963 -0.292838"
      ]
     },
     "execution_count": 62,
     "metadata": {},
     "output_type": "execute_result"
    }
   ],
   "source": [
    "anova = ANOVA(X, y, 0.05)\n",
    "anova.get_filter_distribution('FC')\n",
    "\n",
    "a, b = anova.make_anova()\n",
    "anova.get_passed_features()"
   ]
  },
  {
   "cell_type": "code",
   "execution_count": 63,
   "metadata": {},
   "outputs": [
    {
     "name": "stderr",
     "output_type": "stream",
     "text": [
      "100%|██████████| 50/50 [00:42<00:00,  1.18it/s]\n"
     ]
    },
    {
     "data": {
      "image/png": "[encoded data removed]",
      "text/plain": [
       "<Figure size 648x432 with 1 Axes>"
      ]
     },
     "metadata": {
      "needs_background": "light"
     },
     "output_type": "display_data"
    },
    {
     "data": {
      "text/plain": [
       "0.07142857142857144"
      ]
     },
     "execution_count": 63,
     "metadata": {},
     "output_type": "execute_result"
    }
   ],
   "source": [
    "anova.make_permutation_search('FC', interval=(0.02, 0.2), steps=50, N=15, **{'ddof':1})\n",
    "anova.plot_permutation_results()\n",
    "anova.get_best_criterion()"
   ]
  },
  {
   "cell_type": "code",
   "execution_count": 74,
   "metadata": {},
   "outputs": [
    {
     "name": "stdout",
     "output_type": "stream",
     "text": [
      "Bins passed: 4202\n"
     ]
    }
   ],
   "source": [
    "X_s, FDR, Pval = anova.get_passed_features_for_some_criterion(criterion=anova.get_best_criterion(), \n",
    "                                                        return_pvals=True)\n",
    "P_adj_s_sorted = np.sort(FDR[1][FDR[0]])\n",
    "X_s_sorted = X_s.iloc[:, np.argsort(FDR[1][FDR[0]])]\n",
    "\n",
    "order = ['old', 'Y']\n",
    "X_group = X_s_sorted.groupby(y).mean()\n",
    "X_diff = X_group.loc[order[0]] - X_group.loc[order[1]]\n",
    "#extract intervals and p_values, take top N bins\n",
    "X_passed_intervals = IS.loc[X_s_sorted.columns][['chrom', 'start', 'end']]\n",
    "X_passed_intervals['pval'] = Pval[FDR[0]]\n",
    "X_passed_intervals['p_adj'] = P_adj_s_sorted\n",
    "X_passed_intervals['FC'] = X_diff\n",
    "\n",
    "print(\"Bins passed: %d\" % X_passed_intervals.shape[0])"
   ]
  },
  {
   "cell_type": "code",
   "execution_count": 138,
   "metadata": {},
   "outputs": [],
   "source": [
    "top = max(500, X_passed_intervals.shape[0])\n",
    "X_top = X_passed_intervals.sort_values('pval').iloc[:top, :]\n",
    "\n",
    "#intersection with genes\n",
    "significant_genes = bins_to_genes_intersection(X_top[['chrom', 'start', 'end']], gn_code)"
   ]
  },
  {
   "cell_type": "code",
   "execution_count": 139,
   "metadata": {},
   "outputs": [],
   "source": [
    "genesFC = significant_genes.merge(X_top, \n",
    "                    left_on=['Chromosome', 'Start_b', 'End_b'], \n",
    "                    right_on=['chrom', 'start', 'end'])[['chrom', 'Start', 'End', 'Start_b', 'End_b', 'Name', 'pval', 'FC']]\n",
    "\n",
    "gmean = lambda x: np.exp(np.mean(np.log(x)))\n",
    "agg = genesFC.groupby(['Name']).agg({'Start':'first','End':'first', \n",
    "                                     'Start_b':'first', 'End_b':'last', \n",
    "                                     'pval':gmean, 'FC':'mean'})\n",
    "agg['p_adj'] = fdr_correction(agg['pval'], alpha=0.05, method='fdr_bh')[1]\n",
    "agg['ES'] = -np.log10(agg['pval']) * agg['FC']"
   ]
  },
  {
   "cell_type": "code",
   "execution_count": 143,
   "metadata": {},
   "outputs": [],
   "source": [
    "agg.to_csv('subdata/IS_results.csv')"
   ]
  },
  {
   "cell_type": "code",
   "execution_count": 136,
   "metadata": {},
   "outputs": [
    {
     "name": "stderr",
     "output_type": "stream",
     "text": [
      "  0%|          | 0/5 [00:00<?, ?it/s]/home/dkriukov/miniconda3/envs/mice/lib/python3.7/site-packages/ipykernel_launcher.py:12: FutureWarning: In a future version of pandas all arguments of DataFrame.drop except for the argument 'labels' will be keyword-only\n",
      "  if sys.path[0] == '':\n"
     ]
    },
    {
     "name": "stdout",
     "output_type": "stream",
     "text": [
      "Total number of features: 42953\n",
      "Number of p_values <= 0.020: 1917\n",
      "Number of p_values after FDR correction: 0\n"
     ]
    },
    {
     "name": "stderr",
     "output_type": "stream",
     "text": [
      " 20%|██        | 1/5 [00:04<00:19,  4.94s/it]/home/dkriukov/miniconda3/envs/mice/lib/python3.7/site-packages/ipykernel_launcher.py:12: FutureWarning: In a future version of pandas all arguments of DataFrame.drop except for the argument 'labels' will be keyword-only\n",
      "  if sys.path[0] == '':\n"
     ]
    },
    {
     "name": "stdout",
     "output_type": "stream",
     "text": [
      "Total number of features: 42953\n",
      "Number of p_values <= 0.020: 7735\n",
      "Number of p_values after FDR correction: 1\n"
     ]
    },
    {
     "name": "stderr",
     "output_type": "stream",
     "text": [
      " 40%|████      | 2/5 [00:09<00:14,  4.85s/it]/home/dkriukov/miniconda3/envs/mice/lib/python3.7/site-packages/ipykernel_launcher.py:12: FutureWarning: In a future version of pandas all arguments of DataFrame.drop except for the argument 'labels' will be keyword-only\n",
      "  if sys.path[0] == '':\n"
     ]
    },
    {
     "name": "stdout",
     "output_type": "stream",
     "text": [
      "Total number of features: 42953\n",
      "Number of p_values <= 0.020: 927\n",
      "Number of p_values after FDR correction: 0\n"
     ]
    },
    {
     "name": "stderr",
     "output_type": "stream",
     "text": [
      " 60%|██████    | 3/5 [00:14<00:09,  4.87s/it]/home/dkriukov/miniconda3/envs/mice/lib/python3.7/site-packages/ipykernel_launcher.py:12: FutureWarning: In a future version of pandas all arguments of DataFrame.drop except for the argument 'labels' will be keyword-only\n",
      "  if sys.path[0] == '':\n"
     ]
    },
    {
     "name": "stdout",
     "output_type": "stream",
     "text": [
      "Total number of features: 42953\n",
      "Number of p_values <= 0.020: 10050\n",
      "Number of p_values after FDR correction: 0\n"
     ]
    },
    {
     "name": "stderr",
     "output_type": "stream",
     "text": [
      " 80%|████████  | 4/5 [00:19<00:04,  4.84s/it]/home/dkriukov/miniconda3/envs/mice/lib/python3.7/site-packages/ipykernel_launcher.py:12: FutureWarning: In a future version of pandas all arguments of DataFrame.drop except for the argument 'labels' will be keyword-only\n",
      "  if sys.path[0] == '':\n"
     ]
    },
    {
     "name": "stdout",
     "output_type": "stream",
     "text": [
      "Total number of features: 42953\n",
      "Number of p_values <= 0.020: 3842\n",
      "Number of p_values after FDR correction: 1\n"
     ]
    },
    {
     "name": "stderr",
     "output_type": "stream",
     "text": [
      "100%|██████████| 5/5 [00:24<00:00,  4.82s/it]\n"
     ]
    }
   ],
   "source": [
    "#Assumptions:\n",
    "# - Equal variances (sample sizes)\n",
    "# - Normal distribution of population\n",
    "# - Independence\n",
    "EXPLORES = [['old', 'young'], ['KO', 'young'], ['WT', 'young'], ['KO', 'WT'], ['old', 'WT']]\n",
    "gmean = lambda x: np.exp(np.mean(np.log(x)))\n",
    "\n",
    "for explore in tqdm(EXPLORES):\n",
    "    ### Data filtering\n",
    "    fname = '::'.join(explore)\n",
    "    mask = np.array([any([e in c for e in explore]) for c in IS.columns])\n",
    "    X = IS.drop(IS.columns[~mask], 1).T\n",
    "    X = X.dropna(axis=1)\n",
    "    y = [d.split('_')[0] for d in X.index] #0-for age; 1-for sex\n",
    "    \n",
    "    ### ANOVA\n",
    "    anova = ANOVA(X, y, 0.02)\n",
    "    p, pcor = anova.make_anova()\n",
    "    X_group = X.groupby(y).mean()\n",
    "    X_diff = X_group.loc[explore[0]] - X_group.loc[explore[1]]\n",
    "    #extract intervals and p_values, take top N bins\n",
    "    X_passed_intervals = IS.loc[X.columns][['chrom', 'start', 'end']]\n",
    "    X_passed_intervals['pval'] = p\n",
    "    X_passed_intervals['FC'] = X_diff\n",
    "   \n",
    "    # #anova.make_permutation_search('FC', interval=(0.02, 0.2), steps=50, N=15, **{'ddof':1})\n",
    "    # X_s, P_s = anova.get_passed_features_for_some_criterion(criterion=anova.get_best_criterion(), \n",
    "    #                                                         return_pvals=True)\n",
    "    # #plot\n",
    "    # #anova.plot_permutation_results(savename='Insulation/' + fname + '_FC.png')\n",
    "    \n",
    "    # P_adj_s_sorted = np.sort(P_s[1][P_s[0]])\n",
    "    # X_s_sorted = X_s.iloc[:, np.argsort(P_s[1][P_s[0]])]\n",
    "    \n",
    "    #extract intervals and p_values, take top N bins\n",
    "    # X_passed_intervals = IS_info.loc[X_s_sorted.columns][['chrom', 'start', 'end']]\n",
    "    # X_passed_intervals['p_adj'] = P_adj_s_sorted\n",
    "    # X_top = X_passed_intervals.iloc[:top, :]\n",
    "    \n",
    "    # #intersection with genes\n",
    "    significant_genes = bins_to_genes_intersection(X_passed_intervals[['chrom', 'start', 'end']], gn_code)\n",
    "    genesFC = significant_genes.merge(X_passed_intervals, \n",
    "                    left_on=['Chromosome', 'Start_b', 'End_b'], \n",
    "                    right_on=['chrom', 'start', 'end'])[['chrom', 'Start', 'End', 'Start_b', 'End_b', 'Name', 'pval', 'FC']]\n",
    "\n",
    "    agg = genesFC.groupby(['Name']).agg({'Start':'first','End':'first', \n",
    "                                        'Start_b':'first', 'End_b':'last', \n",
    "                                        'pval':gmean, 'FC':'mean'})\n",
    "    agg['p_adj'] = fdr_correction(agg['pval'], alpha=0.05, method='fdr_bh')[1]\n",
    "    agg['ES'] = -np.log10(agg['pval']) * agg['FC'] * (-1) # corresponds to \"openness\"\n",
    "    #break\n",
    "    # print('Found %d genes in top %d bins' % (len(significant_genes), top))\n",
    "    agg.to_csv('subdata/IS_results_%s.csv' % (fname))"
   ]
  },
  {
   "cell_type": "code",
   "execution_count": 137,
   "metadata": {},
   "outputs": [],
   "source": [
    "ko = pd.read_csv('subdata/IS_results_KO::young.csv', index_col=0)\n",
    "wt = pd.read_csv('subdata/IS_results_WT::young.csv', index_col=0)\n",
    "old = pd.read_csv('subdata/IS_results_old::young.csv', index_col=0)\n",
    "kow = pd.read_csv('subdata/IS_results_KO::WT.csv', index_col=0)\n",
    "oldw = pd.read_csv('subdata/IS_results_old::WT.csv', index_col=0)"
   ]
  },
  {
   "cell_type": "code",
   "execution_count": 138,
   "metadata": {},
   "outputs": [
    {
     "data": {
      "text/html": [
       "<div>\n",
       "<style scoped>\n",
       "    .dataframe tbody tr th:only-of-type {\n",
       "        vertical-align: middle;\n",
       "    }\n",
       "\n",
       "    .dataframe tbody tr th {\n",
       "        vertical-align: top;\n",
       "    }\n",
       "\n",
       "    .dataframe thead th {\n",
       "        text-align: right;\n",
       "    }\n",
       "</style>\n",
       "<table border=\"1\" class=\"dataframe\">\n",
       "  <thead>\n",
       "    <tr style=\"text-align: right;\">\n",
       "      <th></th>\n",
       "      <th>KO</th>\n",
       "      <th>WT</th>\n",
       "      <th>old</th>\n",
       "      <th>KO-W</th>\n",
       "      <th>old-W</th>\n",
       "    </tr>\n",
       "  </thead>\n",
       "  <tbody>\n",
       "    <tr>\n",
       "      <th>KO</th>\n",
       "      <td>1.000000</td>\n",
       "      <td>-0.045825</td>\n",
       "      <td>0.357672</td>\n",
       "      <td>0.803011</td>\n",
       "      <td>0.282115</td>\n",
       "    </tr>\n",
       "    <tr>\n",
       "      <th>WT</th>\n",
       "      <td>-0.045825</td>\n",
       "      <td>1.000000</td>\n",
       "      <td>-0.056689</td>\n",
       "      <td>-0.477473</td>\n",
       "      <td>-0.649553</td>\n",
       "    </tr>\n",
       "    <tr>\n",
       "      <th>old</th>\n",
       "      <td>0.357672</td>\n",
       "      <td>-0.056689</td>\n",
       "      <td>1.000000</td>\n",
       "      <td>0.329940</td>\n",
       "      <td>0.674201</td>\n",
       "    </tr>\n",
       "    <tr>\n",
       "      <th>KO-W</th>\n",
       "      <td>0.803011</td>\n",
       "      <td>-0.477473</td>\n",
       "      <td>0.329940</td>\n",
       "      <td>1.000000</td>\n",
       "      <td>0.599089</td>\n",
       "    </tr>\n",
       "    <tr>\n",
       "      <th>old-W</th>\n",
       "      <td>0.282115</td>\n",
       "      <td>-0.649553</td>\n",
       "      <td>0.674201</td>\n",
       "      <td>0.599089</td>\n",
       "      <td>1.000000</td>\n",
       "    </tr>\n",
       "  </tbody>\n",
       "</table>\n",
       "</div>"
      ],
      "text/plain": [
       "             KO        WT       old      KO-W     old-W\n",
       "KO     1.000000 -0.045825  0.357672  0.803011  0.282115\n",
       "WT    -0.045825  1.000000 -0.056689 -0.477473 -0.649553\n",
       "old    0.357672 -0.056689  1.000000  0.329940  0.674201\n",
       "KO-W   0.803011 -0.477473  0.329940  1.000000  0.599089\n",
       "old-W  0.282115 -0.649553  0.674201  0.599089  1.000000"
      ]
     },
     "execution_count": 138,
     "metadata": {},
     "output_type": "execute_result"
    }
   ],
   "source": [
    "ES = pd.DataFrame()\n",
    "ES['KO'] = ko['ES']\n",
    "ES['WT'] = wt['ES']\n",
    "ES['old'] = old['ES']\n",
    "ES['KO-W'] = kow['ES']\n",
    "ES['old-W'] = oldw['ES']\n",
    "\n",
    "ES.corr()"
   ]
  },
  {
   "cell_type": "markdown",
   "metadata": {},
   "source": [
    "# ATAC-seq peaks"
   ]
  },
  {
   "cell_type": "code",
   "execution_count": 18,
   "metadata": {},
   "outputs": [
    {
     "data": {
      "text/plain": [
       "Index(['KO_R1.mLb.clN.qval', 'KO_R2.mLb.clN.qval', 'KO_R3.mLb.clN.qval',\n",
       "       'WT_R1.mLb.clN.qval', 'WT_R2.mLb.clN.qval', 'WT_R3.mLb.clN.qval',\n",
       "       'old_R1.mLb.clN.qval', 'old_R2.mLb.clN.qval', 'old_R3.mLb.clN.qval',\n",
       "       'young_R1.mLb.clN.qval', 'young_R2.mLb.clN.qval',\n",
       "       'young_R3.mLb.clN.qval', 'KO_R1.mLb.clN.pval', 'KO_R2.mLb.clN.pval',\n",
       "       'KO_R3.mLb.clN.pval', 'WT_R1.mLb.clN.pval', 'WT_R2.mLb.clN.pval',\n",
       "       'WT_R3.mLb.clN.pval', 'old_R1.mLb.clN.pval', 'old_R2.mLb.clN.pval',\n",
       "       'old_R3.mLb.clN.pval', 'young_R1.mLb.clN.pval', 'young_R2.mLb.clN.pval',\n",
       "       'young_R3.mLb.clN.pval', 'KO_R1.mLb.clN.start', 'KO_R2.mLb.clN.start',\n",
       "       'KO_R3.mLb.clN.start', 'WT_R1.mLb.clN.start', 'WT_R2.mLb.clN.start',\n",
       "       'WT_R3.mLb.clN.start'],\n",
       "      dtype='object')"
      ]
     },
     "execution_count": 18,
     "metadata": {},
     "output_type": "execute_result"
    }
   ],
   "source": [
    "ATAC.columns[60:60]"
   ]
  },
  {
   "cell_type": "code",
   "execution_count": 25,
   "metadata": {},
   "outputs": [],
   "source": [
    "peaks = ATAC[['chr', 'start', 'end', 'num_peaks', 'num_samples',\n",
    "            'KO_R1.mLb.clN.bool', 'KO_R2.mLb.clN.bool', 'KO_R3.mLb.clN.bool',\n",
    "            'WT_R1.mLb.clN.bool', 'WT_R2.mLb.clN.bool', 'WT_R3.mLb.clN.bool',\n",
    "            'old_R1.mLb.clN.bool', 'old_R2.mLb.clN.bool', 'old_R3.mLb.clN.bool',\n",
    "            'young_R1.mLb.clN.bool', 'young_R2.mLb.clN.bool', 'young_R3.mLb.clN.bool',\n",
    "            'Distance to TSS','Gene Name']].copy()"
   ]
  },
  {
   "cell_type": "code",
   "execution_count": 27,
   "metadata": {},
   "outputs": [],
   "source": [
    "peaks['length'] = ATAC['end'] - ATAC['start']\n",
    "peaks['absTSS'] = np.abs(peaks['Distance to TSS'])"
   ]
  },
  {
   "cell_type": "code",
   "execution_count": 31,
   "metadata": {},
   "outputs": [
    {
     "data": {
      "text/plain": [
       "8383"
      ]
     },
     "execution_count": 31,
     "metadata": {},
     "output_type": "execute_result"
    }
   ],
   "source": [
    "sum(peaks['absTSS'] < 500)"
   ]
  },
  {
   "cell_type": "code",
   "execution_count": 19,
   "metadata": {},
   "outputs": [
    {
     "data": {
      "text/html": [
       "<div>\n",
       "<style scoped>\n",
       "    .dataframe tbody tr th:only-of-type {\n",
       "        vertical-align: middle;\n",
       "    }\n",
       "\n",
       "    .dataframe tbody tr th {\n",
       "        vertical-align: top;\n",
       "    }\n",
       "\n",
       "    .dataframe thead th {\n",
       "        text-align: right;\n",
       "    }\n",
       "</style>\n",
       "<table border=\"1\" class=\"dataframe\">\n",
       "  <thead>\n",
       "    <tr style=\"text-align: right;\">\n",
       "      <th></th>\n",
       "      <th>chr</th>\n",
       "      <th>start</th>\n",
       "      <th>end</th>\n",
       "      <th>num_peaks</th>\n",
       "      <th>num_samples</th>\n",
       "      <th>KO_R1.mLb.clN.fc</th>\n",
       "      <th>KO_R1.mLb.clN.pval</th>\n",
       "      <th>KO_R1.mLb.clN.qval</th>\n",
       "      <th>KO_R1.mLb.clN.start</th>\n",
       "    </tr>\n",
       "  </thead>\n",
       "  <tbody>\n",
       "    <tr>\n",
       "      <th>0</th>\n",
       "      <td>1</td>\n",
       "      <td>3094953</td>\n",
       "      <td>3095639</td>\n",
       "      <td>7</td>\n",
       "      <td>7</td>\n",
       "      <td>NaN</td>\n",
       "      <td>NaN</td>\n",
       "      <td>NaN</td>\n",
       "      <td>NaN</td>\n",
       "    </tr>\n",
       "    <tr>\n",
       "      <th>1</th>\n",
       "      <td>1</td>\n",
       "      <td>3119552</td>\n",
       "      <td>3120933</td>\n",
       "      <td>12</td>\n",
       "      <td>12</td>\n",
       "      <td>4.26111</td>\n",
       "      <td>8.85153</td>\n",
       "      <td>5.84917</td>\n",
       "      <td>3119808</td>\n",
       "    </tr>\n",
       "    <tr>\n",
       "      <th>2</th>\n",
       "      <td>1</td>\n",
       "      <td>3195033</td>\n",
       "      <td>3195525</td>\n",
       "      <td>1</td>\n",
       "      <td>1</td>\n",
       "      <td>NaN</td>\n",
       "      <td>NaN</td>\n",
       "      <td>NaN</td>\n",
       "      <td>NaN</td>\n",
       "    </tr>\n",
       "    <tr>\n",
       "      <th>3</th>\n",
       "      <td>1</td>\n",
       "      <td>3292392</td>\n",
       "      <td>3293460</td>\n",
       "      <td>7</td>\n",
       "      <td>7</td>\n",
       "      <td>NaN</td>\n",
       "      <td>NaN</td>\n",
       "      <td>NaN</td>\n",
       "      <td>NaN</td>\n",
       "    </tr>\n",
       "    <tr>\n",
       "      <th>4</th>\n",
       "      <td>1</td>\n",
       "      <td>3297635</td>\n",
       "      <td>3298319</td>\n",
       "      <td>2</td>\n",
       "      <td>2</td>\n",
       "      <td>NaN</td>\n",
       "      <td>NaN</td>\n",
       "      <td>NaN</td>\n",
       "      <td>NaN</td>\n",
       "    </tr>\n",
       "    <tr>\n",
       "      <th>...</th>\n",
       "      <td>...</td>\n",
       "      <td>...</td>\n",
       "      <td>...</td>\n",
       "      <td>...</td>\n",
       "      <td>...</td>\n",
       "      <td>...</td>\n",
       "      <td>...</td>\n",
       "      <td>...</td>\n",
       "      <td>...</td>\n",
       "    </tr>\n",
       "    <tr>\n",
       "      <th>68289</th>\n",
       "      <td>Y</td>\n",
       "      <td>90800452</td>\n",
       "      <td>90800758</td>\n",
       "      <td>1</td>\n",
       "      <td>1</td>\n",
       "      <td>NaN</td>\n",
       "      <td>NaN</td>\n",
       "      <td>NaN</td>\n",
       "      <td>NaN</td>\n",
       "    </tr>\n",
       "    <tr>\n",
       "      <th>68290</th>\n",
       "      <td>Y</td>\n",
       "      <td>90804811</td>\n",
       "      <td>90805245</td>\n",
       "      <td>5</td>\n",
       "      <td>5</td>\n",
       "      <td>2.99465</td>\n",
       "      <td>6.58547</td>\n",
       "      <td>3.75818</td>\n",
       "      <td>90804845</td>\n",
       "    </tr>\n",
       "    <tr>\n",
       "      <th>68291</th>\n",
       "      <td>Y</td>\n",
       "      <td>90807111</td>\n",
       "      <td>90807842</td>\n",
       "      <td>3</td>\n",
       "      <td>3</td>\n",
       "      <td>NaN</td>\n",
       "      <td>NaN</td>\n",
       "      <td>NaN</td>\n",
       "      <td>NaN</td>\n",
       "    </tr>\n",
       "    <tr>\n",
       "      <th>68292</th>\n",
       "      <td>Y</td>\n",
       "      <td>90808445</td>\n",
       "      <td>90809289</td>\n",
       "      <td>3</td>\n",
       "      <td>3</td>\n",
       "      <td>NaN</td>\n",
       "      <td>NaN</td>\n",
       "      <td>NaN</td>\n",
       "      <td>NaN</td>\n",
       "    </tr>\n",
       "    <tr>\n",
       "      <th>68293</th>\n",
       "      <td>Y</td>\n",
       "      <td>90810652</td>\n",
       "      <td>90811000</td>\n",
       "      <td>1</td>\n",
       "      <td>1</td>\n",
       "      <td>NaN</td>\n",
       "      <td>NaN</td>\n",
       "      <td>NaN</td>\n",
       "      <td>NaN</td>\n",
       "    </tr>\n",
       "  </tbody>\n",
       "</table>\n",
       "<p>68294 rows × 9 columns</p>\n",
       "</div>"
      ],
      "text/plain": [
       "      chr     start       end  num_peaks  num_samples KO_R1.mLb.clN.fc  \\\n",
       "0       1   3094953   3095639          7            7              NaN   \n",
       "1       1   3119552   3120933         12           12          4.26111   \n",
       "2       1   3195033   3195525          1            1              NaN   \n",
       "3       1   3292392   3293460          7            7              NaN   \n",
       "4       1   3297635   3298319          2            2              NaN   \n",
       "...    ..       ...       ...        ...          ...              ...   \n",
       "68289   Y  90800452  90800758          1            1              NaN   \n",
       "68290   Y  90804811  90805245          5            5          2.99465   \n",
       "68291   Y  90807111  90807842          3            3              NaN   \n",
       "68292   Y  90808445  90809289          3            3              NaN   \n",
       "68293   Y  90810652  90811000          1            1              NaN   \n",
       "\n",
       "      KO_R1.mLb.clN.pval KO_R1.mLb.clN.qval KO_R1.mLb.clN.start  \n",
       "0                    NaN                NaN                 NaN  \n",
       "1                8.85153            5.84917             3119808  \n",
       "2                    NaN                NaN                 NaN  \n",
       "3                    NaN                NaN                 NaN  \n",
       "4                    NaN                NaN                 NaN  \n",
       "...                  ...                ...                 ...  \n",
       "68289                NaN                NaN                 NaN  \n",
       "68290            6.58547            3.75818            90804845  \n",
       "68291                NaN                NaN                 NaN  \n",
       "68292                NaN                NaN                 NaN  \n",
       "68293                NaN                NaN                 NaN  \n",
       "\n",
       "[68294 rows x 9 columns]"
      ]
     },
     "execution_count": 19,
     "metadata": {},
     "output_type": "execute_result"
    }
   ],
   "source": [
    "ATAC[['chr', 'start', 'end', 'num_peaks', 'num_samples',\n",
    "       'KO_R1.mLb.clN.fc', 'KO_R1.mLb.clN.pval', 'KO_R1.mLb.clN.qval', 'KO_R1.mLb.clN.start']]"
   ]
  },
  {
   "cell_type": "code",
   "execution_count": null,
   "metadata": {},
   "outputs": [],
   "source": []
  }
 ],
 "metadata": {
  "interpreter": {
   "hash": "ff3ee697d6d1b393c90390dee18c2d263a8152e46b5417745a069cb5c408f3aa"
  },
  "kernelspec": {
   "display_name": "Python 3.7.12 64-bit ('mice': conda)",
   "language": "python",
   "name": "python3"
  },
  "language_info": {
   "codemirror_mode": {
    "name": "ipython",
    "version": 3
   },
   "file_extension": ".py",
   "mimetype": "text/x-python",
   "name": "python",
   "nbconvert_exporter": "python",
   "pygments_lexer": "ipython3",
   "version": "3.7.12"
  },
  "orig_nbformat": 4
 },
 "nbformat": 4,
 "nbformat_minor": 2
}
